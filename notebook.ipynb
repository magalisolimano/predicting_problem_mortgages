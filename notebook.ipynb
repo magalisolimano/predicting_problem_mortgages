{
 "cells": [
  {
   "cell_type": "markdown",
   "metadata": {},
   "source": [
    "## Predicting Problem Mortgage Loans\n",
    "By: Magali Solimano  \n",
    "Date: December 2022"
   ]
  },
  {
   "cell_type": "markdown",
   "metadata": {},
   "source": [
    "## Overview"
   ]
  },
  {
   "cell_type": "markdown",
   "metadata": {},
   "source": [
    "This analysis applies machine learning to predict the likelihood that a borrower will have problems paying its  \n",
    "mortgage loans. Data is obtained from [Fannie Mae's Single Family Loan Performance Data](https://capitalmarkets.fanniemae.com/credit-risk-transfer/single-family-credit-risk-transfer/fannie-mae-single-family-loan-performance-data), which is  \n",
    "publically available and provides acquisition and performance data through Q2 2022. This notebook  \n",
    "focuses on loans acquired by Fannie Mae in Q1 2021, a quarter of high activity in the single family residential  \n",
    "market, and tracks 15 months of performance.\n",
    "\n",
    "The goal is to identify true positives (problem loans) and reduce false positives (performing loans) in order to  \n",
    "manage credit risk. The analysis classifies problem loans as a binary variable, where problem loans are  \n",
    "classified as '1' and performing, non-problem loans as '0'."
   ]
  },
  {
   "cell_type": "markdown",
   "metadata": {},
   "source": [
    "## Import Libraries and Load Data\n"
   ]
  },
  {
   "cell_type": "code",
   "execution_count": 197,
   "metadata": {},
   "outputs": [],
   "source": [
    "import pandas as pd\n",
    "import numpy as np\n",
    "\n",
    "# Data pre-processing\n",
    "from sklearn.preprocessing import LabelEncoder\n",
    "from sklearn.preprocessing import OneHotEncoder\n",
    "from sklearn.compose import ColumnTransformer\n",
    "\n",
    "# Data visualization\n",
    "import seaborn as sns\n",
    "sns.set_style('whitegrid')\n",
    "import matplotlib.pyplot as plt\n",
    "%matplotlib inline\n",
    "from matplotlib.ticker import StrMethodFormatter\n",
    "\n",
    "# Model building\n",
    "import sklearn\n",
    "from sklearn.model_selection import train_test_split\n",
    "from sklearn.preprocessing import MinMaxScaler\n",
    "from sklearn.preprocessing import StandardScaler\n",
    "from sklearn.dummy import DummyClassifier\n",
    "from sklearn.tree import DecisionTreeClassifier\n",
    "from sklearn.ensemble import RandomForestClassifier,GradientBoostingClassifier\n",
    "from xgboost import XGBClassifier\n",
    "from sklearn.pipeline import Pipeline\n",
    "from sklearn.model_selection import GridSearchCV\n",
    "from sklearn.metrics import (accuracy_score, precision_score, recall_score, \n",
    "                             f1_score, auc, average_precision_score, \n",
    "                             confusion_matrix, plot_confusion_matrix, \n",
    "                             ConfusionMatrixDisplay, classification_report,\n",
    "                             precision_recall_curve)\n",
    "from sklearn.linear_model import LogisticRegression\n",
    "import six\n",
    "\n",
    "# Ignore warnings\n",
    "import warnings\n",
    "warnings.filterwarnings(\"ignore\")"
   ]
  },
  {
   "cell_type": "code",
   "execution_count": 2,
   "metadata": {},
   "outputs": [],
   "source": [
    "# Import data\n",
    "data = pd.read_csv('Data/2021Q1.csv',sep=\"|\", header=None)"
   ]
  },
  {
   "cell_type": "code",
   "execution_count": 3,
   "metadata": {},
   "outputs": [
    {
     "data": {
      "text/plain": [
       "(23104273, 108)"
      ]
     },
     "execution_count": 3,
     "metadata": {},
     "output_type": "execute_result"
    }
   ],
   "source": [
    "# View shape of dataframe\n",
    "data.shape"
   ]
  },
  {
   "cell_type": "markdown",
   "metadata": {},
   "source": [
    "- Dataset is very large, with 23 million rows and 108 columns."
   ]
  },
  {
   "cell_type": "code",
   "execution_count": 4,
   "metadata": {},
   "outputs": [],
   "source": [
    "# Define column names and rename columns\n",
    "column_names = [\n",
    "    'reference_pool_id',\n",
    "    'loan_id',\n",
    "    'monthly_reporting_pd',\n",
    "    'channel',\n",
    "    'seller_name',\n",
    "    'servicer_name',\n",
    "    'master_servicer',\n",
    "    'origination_interest_rate',\n",
    "    'current_interest_rate',\n",
    "    'origination_UPB',\n",
    "    'UPB_at_issuance',\n",
    "    'current_actual_UPB',\n",
    "    'origination_loan_term',\n",
    "    'origination_date',\n",
    "    'first_payment_date',\n",
    "    'loan_age_months',\n",
    "    'months_to_legal_maturity',\n",
    "    'months_to_maturity',\n",
    "    'maturity_date',\n",
    "    'origination_ltv',\n",
    "    'origination_combined_ltv',\n",
    "    'number_of_borrowers',\n",
    "    'debt_to_income',\n",
    "    'borrower_credit_score_origination',\n",
    "    'co-borrower_credit_score_origination',\n",
    "    'first_time_homebuyer',\n",
    "    'loan_purpose',\n",
    "    'property_type',\n",
    "    'number_of_units',\n",
    "    'occupancy_status',\n",
    "    'property_state',\n",
    "    'metropolitan_statistical_area',\n",
    "    'zipcode_short',\n",
    "    'mortgage_insurance_pct',\n",
    "    'amortization_type',\n",
    "    'prepayment_penalty_indicator',\n",
    "    'interest_only_loan_indicator',\n",
    "    'interest_only_first_principal_int_payment_date',\n",
    "    'months_to_amortization',\n",
    "    'loan_delinquency_months',\n",
    "    'loan_payment_history',\n",
    "    'modification_flag',\n",
    "    'mortgage_insurance_cancellation_indicator',\n",
    "    'zero_balance_code',\n",
    "    'zero_balance_effective_date',\n",
    "    'upb_at_time_of_removal',\n",
    "    'repurchase_date',\n",
    "    'scheduled_principal_current',\n",
    "    'total_principal_current',\n",
    "    'unscheduled_principal_current',\n",
    "    'last_paid_installment_date',\n",
    "    'foreclosure_date',\n",
    "    'disposition_date',\n",
    "    'foreclosure_costs',\n",
    "    'property_preservation_repair_costs',\n",
    "    'asset_recovery_costs',\n",
    "    'misc_holding_expenses_and_credits',\n",
    "    'associated_taxes_for_holding_property',\n",
    "    'net_sales_proceeds',\n",
    "    'credit_enhancement_proceeds',\n",
    "    'repurchase_make_whole_proceeds',\n",
    "    'other_foreclosure_proceeds',\n",
    "    'non_interest_bearing_upb',\n",
    "    'principal_forgiveness_amount',\n",
    "    'original_list_start_date',\n",
    "    'original_list_price',\n",
    "    'current_list_start_date',\n",
    "    'current_list_price',\n",
    "    'borrower_credit_score_origination',\n",
    "    'co-borrower_credit_score_origination',\n",
    "    'borrower_credit_score_current',\n",
    "    'co-borrower_credit_score_current',\n",
    "    'mortgage_insurance_type',\n",
    "    'servicing_activity_indicator',\n",
    "    'current_period_modification_loss_ammount',\n",
    "    'cumulative_modification_loss_amount',\n",
    "    'current_period_credit_event_net_gainloss',\n",
    "    'cumulative_credit_event_net_gainloss',\n",
    "    'special_eligibility_program',\n",
    "    'foreclosure_principal_writeoff_amt',\n",
    "    'relocation_mortgage_indicator',\n",
    "    'zero_balance_code_change_date',\n",
    "    'loan_holdback_indicator',\n",
    "    'loan_holdback_effective_date',\n",
    "    'delinquent_accrued_interest',\n",
    "    'property_valuation_method',\n",
    "    'high_balance_loan_indicator',\n",
    "    'arm_initial_fixedrate_period_lessthan5yr_indicator',\n",
    "    'arm_product_type',\n",
    "    'initial_fixed_rate_period',\n",
    "    'interest_rate_adj_frequency',\n",
    "    'next_interest_rate_adj_date',\n",
    "    'next_payment_change_date',\n",
    "    'index',\n",
    "    'arm_cap_structure',\n",
    "    'initial_interest_rate_capup_pct',\n",
    "    'periodic_interest_rate_capup_pct',\n",
    "    'lifetime_interest_rate_capup_pct',\n",
    "    'mortgage_margin',\n",
    "    'arm_balloon_indicator',\n",
    "    'arm_plan_number',\n",
    "    'borrower_assistance_plan',\n",
    "    'high_ltv_refinance_option_indicator',\n",
    "    'deal_name',\n",
    "    'repurchase_make_whole_proceeds_flag',\n",
    "    'alternative_delinquency_resolution',\n",
    "    'alternative_delinquency_resolution_count',\n",
    "    'total_deferral_amount'] \n",
    "\n",
    "data.columns = column_names"
   ]
  },
  {
   "cell_type": "code",
   "execution_count": 5,
   "metadata": {
    "scrolled": true
   },
   "outputs": [
    {
     "name": "stdout",
     "output_type": "stream",
     "text": [
      "<class 'pandas.core.frame.DataFrame'>\n",
      "RangeIndex: 23104273 entries, 0 to 23104272\n",
      "Columns: 108 entries, reference_pool_id to total_deferral_amount\n",
      "dtypes: float64(75), int64(11), object(22)\n",
      "memory usage: 18.6+ GB\n"
     ]
    }
   ],
   "source": [
    "data.info()"
   ]
  },
  {
   "cell_type": "markdown",
   "metadata": {},
   "source": [
    "- Several variables have dtypes that should be changed to string (zipcode and msa)  \n",
    "and datetime (eg, date-related variable such as foreclosure date)."
   ]
  },
  {
   "cell_type": "code",
   "execution_count": 6,
   "metadata": {},
   "outputs": [
    {
     "data": {
      "text/html": [
       "<div>\n",
       "<style scoped>\n",
       "    .dataframe tbody tr th:only-of-type {\n",
       "        vertical-align: middle;\n",
       "    }\n",
       "\n",
       "    .dataframe tbody tr th {\n",
       "        vertical-align: top;\n",
       "    }\n",
       "\n",
       "    .dataframe thead th {\n",
       "        text-align: right;\n",
       "    }\n",
       "</style>\n",
       "<table border=\"1\" class=\"dataframe\">\n",
       "  <thead>\n",
       "    <tr style=\"text-align: right;\">\n",
       "      <th></th>\n",
       "      <th>reference_pool_id</th>\n",
       "      <th>loan_id</th>\n",
       "      <th>monthly_reporting_pd</th>\n",
       "      <th>channel</th>\n",
       "      <th>seller_name</th>\n",
       "      <th>servicer_name</th>\n",
       "      <th>master_servicer</th>\n",
       "      <th>origination_interest_rate</th>\n",
       "      <th>current_interest_rate</th>\n",
       "      <th>origination_UPB</th>\n",
       "      <th>...</th>\n",
       "      <th>mortgage_margin</th>\n",
       "      <th>arm_balloon_indicator</th>\n",
       "      <th>arm_plan_number</th>\n",
       "      <th>borrower_assistance_plan</th>\n",
       "      <th>high_ltv_refinance_option_indicator</th>\n",
       "      <th>deal_name</th>\n",
       "      <th>repurchase_make_whole_proceeds_flag</th>\n",
       "      <th>alternative_delinquency_resolution</th>\n",
       "      <th>alternative_delinquency_resolution_count</th>\n",
       "      <th>total_deferral_amount</th>\n",
       "    </tr>\n",
       "  </thead>\n",
       "  <tbody>\n",
       "    <tr>\n",
       "      <th>0</th>\n",
       "      <td>NaN</td>\n",
       "      <td>122128311</td>\n",
       "      <td>12021</td>\n",
       "      <td>R</td>\n",
       "      <td>loanDepot.com, LLC</td>\n",
       "      <td>loanDepot.com, LLC</td>\n",
       "      <td>NaN</td>\n",
       "      <td>2.125</td>\n",
       "      <td>2.125</td>\n",
       "      <td>619000.0</td>\n",
       "      <td>...</td>\n",
       "      <td>NaN</td>\n",
       "      <td>NaN</td>\n",
       "      <td>NaN</td>\n",
       "      <td>7</td>\n",
       "      <td>N</td>\n",
       "      <td>NaN</td>\n",
       "      <td>NaN</td>\n",
       "      <td>7</td>\n",
       "      <td>NaN</td>\n",
       "      <td>NaN</td>\n",
       "    </tr>\n",
       "    <tr>\n",
       "      <th>1</th>\n",
       "      <td>NaN</td>\n",
       "      <td>122128311</td>\n",
       "      <td>22021</td>\n",
       "      <td>R</td>\n",
       "      <td>loanDepot.com, LLC</td>\n",
       "      <td>loanDepot.com, LLC</td>\n",
       "      <td>NaN</td>\n",
       "      <td>2.125</td>\n",
       "      <td>2.125</td>\n",
       "      <td>619000.0</td>\n",
       "      <td>...</td>\n",
       "      <td>NaN</td>\n",
       "      <td>NaN</td>\n",
       "      <td>NaN</td>\n",
       "      <td>7</td>\n",
       "      <td>N</td>\n",
       "      <td>NaN</td>\n",
       "      <td>NaN</td>\n",
       "      <td>7</td>\n",
       "      <td>NaN</td>\n",
       "      <td>NaN</td>\n",
       "    </tr>\n",
       "    <tr>\n",
       "      <th>2</th>\n",
       "      <td>NaN</td>\n",
       "      <td>122128311</td>\n",
       "      <td>32021</td>\n",
       "      <td>R</td>\n",
       "      <td>loanDepot.com, LLC</td>\n",
       "      <td>loanDepot.com, LLC</td>\n",
       "      <td>NaN</td>\n",
       "      <td>2.125</td>\n",
       "      <td>2.125</td>\n",
       "      <td>619000.0</td>\n",
       "      <td>...</td>\n",
       "      <td>NaN</td>\n",
       "      <td>NaN</td>\n",
       "      <td>NaN</td>\n",
       "      <td>7</td>\n",
       "      <td>N</td>\n",
       "      <td>NaN</td>\n",
       "      <td>NaN</td>\n",
       "      <td>7</td>\n",
       "      <td>NaN</td>\n",
       "      <td>NaN</td>\n",
       "    </tr>\n",
       "    <tr>\n",
       "      <th>3</th>\n",
       "      <td>NaN</td>\n",
       "      <td>122128311</td>\n",
       "      <td>42021</td>\n",
       "      <td>R</td>\n",
       "      <td>loanDepot.com, LLC</td>\n",
       "      <td>loanDepot.com, LLC</td>\n",
       "      <td>NaN</td>\n",
       "      <td>2.125</td>\n",
       "      <td>2.125</td>\n",
       "      <td>619000.0</td>\n",
       "      <td>...</td>\n",
       "      <td>NaN</td>\n",
       "      <td>NaN</td>\n",
       "      <td>NaN</td>\n",
       "      <td>7</td>\n",
       "      <td>N</td>\n",
       "      <td>NaN</td>\n",
       "      <td>NaN</td>\n",
       "      <td>7</td>\n",
       "      <td>NaN</td>\n",
       "      <td>NaN</td>\n",
       "    </tr>\n",
       "    <tr>\n",
       "      <th>4</th>\n",
       "      <td>NaN</td>\n",
       "      <td>122128311</td>\n",
       "      <td>52021</td>\n",
       "      <td>R</td>\n",
       "      <td>loanDepot.com, LLC</td>\n",
       "      <td>loanDepot.com, LLC</td>\n",
       "      <td>NaN</td>\n",
       "      <td>2.125</td>\n",
       "      <td>2.125</td>\n",
       "      <td>619000.0</td>\n",
       "      <td>...</td>\n",
       "      <td>NaN</td>\n",
       "      <td>NaN</td>\n",
       "      <td>NaN</td>\n",
       "      <td>7</td>\n",
       "      <td>N</td>\n",
       "      <td>NaN</td>\n",
       "      <td>NaN</td>\n",
       "      <td>7</td>\n",
       "      <td>NaN</td>\n",
       "      <td>NaN</td>\n",
       "    </tr>\n",
       "  </tbody>\n",
       "</table>\n",
       "<p>5 rows × 108 columns</p>\n",
       "</div>"
      ],
      "text/plain": [
       "   reference_pool_id    loan_id  monthly_reporting_pd channel  \\\n",
       "0                NaN  122128311                 12021       R   \n",
       "1                NaN  122128311                 22021       R   \n",
       "2                NaN  122128311                 32021       R   \n",
       "3                NaN  122128311                 42021       R   \n",
       "4                NaN  122128311                 52021       R   \n",
       "\n",
       "          seller_name       servicer_name  master_servicer  \\\n",
       "0  loanDepot.com, LLC  loanDepot.com, LLC              NaN   \n",
       "1  loanDepot.com, LLC  loanDepot.com, LLC              NaN   \n",
       "2  loanDepot.com, LLC  loanDepot.com, LLC              NaN   \n",
       "3  loanDepot.com, LLC  loanDepot.com, LLC              NaN   \n",
       "4  loanDepot.com, LLC  loanDepot.com, LLC              NaN   \n",
       "\n",
       "   origination_interest_rate  current_interest_rate  origination_UPB  ...  \\\n",
       "0                      2.125                  2.125         619000.0  ...   \n",
       "1                      2.125                  2.125         619000.0  ...   \n",
       "2                      2.125                  2.125         619000.0  ...   \n",
       "3                      2.125                  2.125         619000.0  ...   \n",
       "4                      2.125                  2.125         619000.0  ...   \n",
       "\n",
       "   mortgage_margin  arm_balloon_indicator  arm_plan_number  \\\n",
       "0              NaN                    NaN              NaN   \n",
       "1              NaN                    NaN              NaN   \n",
       "2              NaN                    NaN              NaN   \n",
       "3              NaN                    NaN              NaN   \n",
       "4              NaN                    NaN              NaN   \n",
       "\n",
       "   borrower_assistance_plan  high_ltv_refinance_option_indicator  deal_name  \\\n",
       "0                         7                                    N        NaN   \n",
       "1                         7                                    N        NaN   \n",
       "2                         7                                    N        NaN   \n",
       "3                         7                                    N        NaN   \n",
       "4                         7                                    N        NaN   \n",
       "\n",
       "   repurchase_make_whole_proceeds_flag  alternative_delinquency_resolution  \\\n",
       "0                                  NaN                                   7   \n",
       "1                                  NaN                                   7   \n",
       "2                                  NaN                                   7   \n",
       "3                                  NaN                                   7   \n",
       "4                                  NaN                                   7   \n",
       "\n",
       "   alternative_delinquency_resolution_count  total_deferral_amount  \n",
       "0                                       NaN                    NaN  \n",
       "1                                       NaN                    NaN  \n",
       "2                                       NaN                    NaN  \n",
       "3                                       NaN                    NaN  \n",
       "4                                       NaN                    NaN  \n",
       "\n",
       "[5 rows x 108 columns]"
      ]
     },
     "execution_count": 6,
     "metadata": {},
     "output_type": "execute_result"
    }
   ],
   "source": [
    "# View df with new column names\n",
    "data.head()"
   ]
  },
  {
   "cell_type": "code",
   "execution_count": 7,
   "metadata": {},
   "outputs": [
    {
     "data": {
      "text/html": [
       "<div>\n",
       "<style scoped>\n",
       "    .dataframe tbody tr th:only-of-type {\n",
       "        vertical-align: middle;\n",
       "    }\n",
       "\n",
       "    .dataframe tbody tr th {\n",
       "        vertical-align: top;\n",
       "    }\n",
       "\n",
       "    .dataframe thead th {\n",
       "        text-align: right;\n",
       "    }\n",
       "</style>\n",
       "<table border=\"1\" class=\"dataframe\">\n",
       "  <thead>\n",
       "    <tr style=\"text-align: right;\">\n",
       "      <th></th>\n",
       "      <th>reference_pool_id</th>\n",
       "      <th>loan_id</th>\n",
       "      <th>monthly_reporting_pd</th>\n",
       "      <th>master_servicer</th>\n",
       "      <th>origination_interest_rate</th>\n",
       "      <th>current_interest_rate</th>\n",
       "      <th>origination_UPB</th>\n",
       "      <th>UPB_at_issuance</th>\n",
       "      <th>current_actual_UPB</th>\n",
       "      <th>origination_loan_term</th>\n",
       "      <th>...</th>\n",
       "      <th>arm_cap_structure</th>\n",
       "      <th>initial_interest_rate_capup_pct</th>\n",
       "      <th>periodic_interest_rate_capup_pct</th>\n",
       "      <th>lifetime_interest_rate_capup_pct</th>\n",
       "      <th>mortgage_margin</th>\n",
       "      <th>arm_balloon_indicator</th>\n",
       "      <th>arm_plan_number</th>\n",
       "      <th>deal_name</th>\n",
       "      <th>alternative_delinquency_resolution_count</th>\n",
       "      <th>total_deferral_amount</th>\n",
       "    </tr>\n",
       "  </thead>\n",
       "  <tbody>\n",
       "    <tr>\n",
       "      <th>count</th>\n",
       "      <td>0.0</td>\n",
       "      <td>2.310427e+07</td>\n",
       "      <td>2.310427e+07</td>\n",
       "      <td>0.0</td>\n",
       "      <td>2.310427e+07</td>\n",
       "      <td>2.297653e+07</td>\n",
       "      <td>2.310427e+07</td>\n",
       "      <td>0.0</td>\n",
       "      <td>2.310427e+07</td>\n",
       "      <td>2.310427e+07</td>\n",
       "      <td>...</td>\n",
       "      <td>0.0</td>\n",
       "      <td>0.0</td>\n",
       "      <td>0.0</td>\n",
       "      <td>0.0</td>\n",
       "      <td>0.0</td>\n",
       "      <td>0.0</td>\n",
       "      <td>0.0</td>\n",
       "      <td>0.0</td>\n",
       "      <td>13096.000000</td>\n",
       "      <td>13096.000000</td>\n",
       "    </tr>\n",
       "    <tr>\n",
       "      <th>mean</th>\n",
       "      <td>NaN</td>\n",
       "      <td>1.228179e+08</td>\n",
       "      <td>5.968742e+04</td>\n",
       "      <td>NaN</td>\n",
       "      <td>2.787136e+00</td>\n",
       "      <td>2.786576e+00</td>\n",
       "      <td>2.822724e+05</td>\n",
       "      <td>NaN</td>\n",
       "      <td>2.736624e+05</td>\n",
       "      <td>3.147012e+02</td>\n",
       "      <td>...</td>\n",
       "      <td>NaN</td>\n",
       "      <td>NaN</td>\n",
       "      <td>NaN</td>\n",
       "      <td>NaN</td>\n",
       "      <td>NaN</td>\n",
       "      <td>NaN</td>\n",
       "      <td>NaN</td>\n",
       "      <td>NaN</td>\n",
       "      <td>1.019166</td>\n",
       "      <td>9074.492603</td>\n",
       "    </tr>\n",
       "    <tr>\n",
       "      <th>std</th>\n",
       "      <td>NaN</td>\n",
       "      <td>4.080091e+05</td>\n",
       "      <td>3.227374e+04</td>\n",
       "      <td>NaN</td>\n",
       "      <td>3.585050e-01</td>\n",
       "      <td>3.581182e-01</td>\n",
       "      <td>1.451962e+05</td>\n",
       "      <td>NaN</td>\n",
       "      <td>1.441662e+05</td>\n",
       "      <td>7.629344e+01</td>\n",
       "      <td>...</td>\n",
       "      <td>NaN</td>\n",
       "      <td>NaN</td>\n",
       "      <td>NaN</td>\n",
       "      <td>NaN</td>\n",
       "      <td>NaN</td>\n",
       "      <td>NaN</td>\n",
       "      <td>NaN</td>\n",
       "      <td>NaN</td>\n",
       "      <td>0.145753</td>\n",
       "      <td>7804.493354</td>\n",
       "    </tr>\n",
       "    <tr>\n",
       "      <th>min</th>\n",
       "      <td>NaN</td>\n",
       "      <td>1.221283e+08</td>\n",
       "      <td>1.202100e+04</td>\n",
       "      <td>NaN</td>\n",
       "      <td>1.500000e+00</td>\n",
       "      <td>1.500000e+00</td>\n",
       "      <td>1.500000e+04</td>\n",
       "      <td>NaN</td>\n",
       "      <td>0.000000e+00</td>\n",
       "      <td>8.500000e+01</td>\n",
       "      <td>...</td>\n",
       "      <td>NaN</td>\n",
       "      <td>NaN</td>\n",
       "      <td>NaN</td>\n",
       "      <td>NaN</td>\n",
       "      <td>NaN</td>\n",
       "      <td>NaN</td>\n",
       "      <td>NaN</td>\n",
       "      <td>NaN</td>\n",
       "      <td>1.000000</td>\n",
       "      <td>551.490000</td>\n",
       "    </tr>\n",
       "    <tr>\n",
       "      <th>25%</th>\n",
       "      <td>NaN</td>\n",
       "      <td>1.224628e+08</td>\n",
       "      <td>3.202200e+04</td>\n",
       "      <td>NaN</td>\n",
       "      <td>2.625000e+00</td>\n",
       "      <td>2.625000e+00</td>\n",
       "      <td>1.730000e+05</td>\n",
       "      <td>NaN</td>\n",
       "      <td>1.660000e+05</td>\n",
       "      <td>2.400000e+02</td>\n",
       "      <td>...</td>\n",
       "      <td>NaN</td>\n",
       "      <td>NaN</td>\n",
       "      <td>NaN</td>\n",
       "      <td>NaN</td>\n",
       "      <td>NaN</td>\n",
       "      <td>NaN</td>\n",
       "      <td>NaN</td>\n",
       "      <td>NaN</td>\n",
       "      <td>1.000000</td>\n",
       "      <td>3778.740000</td>\n",
       "    </tr>\n",
       "    <tr>\n",
       "      <th>50%</th>\n",
       "      <td>NaN</td>\n",
       "      <td>1.228084e+08</td>\n",
       "      <td>5.202200e+04</td>\n",
       "      <td>NaN</td>\n",
       "      <td>2.750000e+00</td>\n",
       "      <td>2.750000e+00</td>\n",
       "      <td>2.530000e+05</td>\n",
       "      <td>NaN</td>\n",
       "      <td>2.460000e+05</td>\n",
       "      <td>3.600000e+02</td>\n",
       "      <td>...</td>\n",
       "      <td>NaN</td>\n",
       "      <td>NaN</td>\n",
       "      <td>NaN</td>\n",
       "      <td>NaN</td>\n",
       "      <td>NaN</td>\n",
       "      <td>NaN</td>\n",
       "      <td>NaN</td>\n",
       "      <td>NaN</td>\n",
       "      <td>1.000000</td>\n",
       "      <td>6556.960000</td>\n",
       "    </tr>\n",
       "    <tr>\n",
       "      <th>75%</th>\n",
       "      <td>NaN</td>\n",
       "      <td>1.231696e+08</td>\n",
       "      <td>8.202100e+04</td>\n",
       "      <td>NaN</td>\n",
       "      <td>2.990000e+00</td>\n",
       "      <td>2.990000e+00</td>\n",
       "      <td>3.650000e+05</td>\n",
       "      <td>NaN</td>\n",
       "      <td>3.560000e+05</td>\n",
       "      <td>3.600000e+02</td>\n",
       "      <td>...</td>\n",
       "      <td>NaN</td>\n",
       "      <td>NaN</td>\n",
       "      <td>NaN</td>\n",
       "      <td>NaN</td>\n",
       "      <td>NaN</td>\n",
       "      <td>NaN</td>\n",
       "      <td>NaN</td>\n",
       "      <td>NaN</td>\n",
       "      <td>1.000000</td>\n",
       "      <td>11693.145000</td>\n",
       "    </tr>\n",
       "    <tr>\n",
       "      <th>max</th>\n",
       "      <td>NaN</td>\n",
       "      <td>1.235417e+08</td>\n",
       "      <td>1.220210e+05</td>\n",
       "      <td>NaN</td>\n",
       "      <td>5.875000e+00</td>\n",
       "      <td>5.875000e+00</td>\n",
       "      <td>1.582000e+06</td>\n",
       "      <td>NaN</td>\n",
       "      <td>1.582000e+06</td>\n",
       "      <td>3.600000e+02</td>\n",
       "      <td>...</td>\n",
       "      <td>NaN</td>\n",
       "      <td>NaN</td>\n",
       "      <td>NaN</td>\n",
       "      <td>NaN</td>\n",
       "      <td>NaN</td>\n",
       "      <td>NaN</td>\n",
       "      <td>NaN</td>\n",
       "      <td>NaN</td>\n",
       "      <td>4.000000</td>\n",
       "      <td>67940.680000</td>\n",
       "    </tr>\n",
       "  </tbody>\n",
       "</table>\n",
       "<p>8 rows × 86 columns</p>\n",
       "</div>"
      ],
      "text/plain": [
       "       reference_pool_id       loan_id  monthly_reporting_pd  master_servicer  \\\n",
       "count                0.0  2.310427e+07          2.310427e+07              0.0   \n",
       "mean                 NaN  1.228179e+08          5.968742e+04              NaN   \n",
       "std                  NaN  4.080091e+05          3.227374e+04              NaN   \n",
       "min                  NaN  1.221283e+08          1.202100e+04              NaN   \n",
       "25%                  NaN  1.224628e+08          3.202200e+04              NaN   \n",
       "50%                  NaN  1.228084e+08          5.202200e+04              NaN   \n",
       "75%                  NaN  1.231696e+08          8.202100e+04              NaN   \n",
       "max                  NaN  1.235417e+08          1.220210e+05              NaN   \n",
       "\n",
       "       origination_interest_rate  current_interest_rate  origination_UPB  \\\n",
       "count               2.310427e+07           2.297653e+07     2.310427e+07   \n",
       "mean                2.787136e+00           2.786576e+00     2.822724e+05   \n",
       "std                 3.585050e-01           3.581182e-01     1.451962e+05   \n",
       "min                 1.500000e+00           1.500000e+00     1.500000e+04   \n",
       "25%                 2.625000e+00           2.625000e+00     1.730000e+05   \n",
       "50%                 2.750000e+00           2.750000e+00     2.530000e+05   \n",
       "75%                 2.990000e+00           2.990000e+00     3.650000e+05   \n",
       "max                 5.875000e+00           5.875000e+00     1.582000e+06   \n",
       "\n",
       "       UPB_at_issuance  current_actual_UPB  origination_loan_term  ...  \\\n",
       "count              0.0        2.310427e+07           2.310427e+07  ...   \n",
       "mean               NaN        2.736624e+05           3.147012e+02  ...   \n",
       "std                NaN        1.441662e+05           7.629344e+01  ...   \n",
       "min                NaN        0.000000e+00           8.500000e+01  ...   \n",
       "25%                NaN        1.660000e+05           2.400000e+02  ...   \n",
       "50%                NaN        2.460000e+05           3.600000e+02  ...   \n",
       "75%                NaN        3.560000e+05           3.600000e+02  ...   \n",
       "max                NaN        1.582000e+06           3.600000e+02  ...   \n",
       "\n",
       "       arm_cap_structure  initial_interest_rate_capup_pct  \\\n",
       "count                0.0                              0.0   \n",
       "mean                 NaN                              NaN   \n",
       "std                  NaN                              NaN   \n",
       "min                  NaN                              NaN   \n",
       "25%                  NaN                              NaN   \n",
       "50%                  NaN                              NaN   \n",
       "75%                  NaN                              NaN   \n",
       "max                  NaN                              NaN   \n",
       "\n",
       "       periodic_interest_rate_capup_pct  lifetime_interest_rate_capup_pct  \\\n",
       "count                               0.0                               0.0   \n",
       "mean                                NaN                               NaN   \n",
       "std                                 NaN                               NaN   \n",
       "min                                 NaN                               NaN   \n",
       "25%                                 NaN                               NaN   \n",
       "50%                                 NaN                               NaN   \n",
       "75%                                 NaN                               NaN   \n",
       "max                                 NaN                               NaN   \n",
       "\n",
       "       mortgage_margin  arm_balloon_indicator  arm_plan_number  deal_name  \\\n",
       "count              0.0                    0.0              0.0        0.0   \n",
       "mean               NaN                    NaN              NaN        NaN   \n",
       "std                NaN                    NaN              NaN        NaN   \n",
       "min                NaN                    NaN              NaN        NaN   \n",
       "25%                NaN                    NaN              NaN        NaN   \n",
       "50%                NaN                    NaN              NaN        NaN   \n",
       "75%                NaN                    NaN              NaN        NaN   \n",
       "max                NaN                    NaN              NaN        NaN   \n",
       "\n",
       "       alternative_delinquency_resolution_count  total_deferral_amount  \n",
       "count                              13096.000000           13096.000000  \n",
       "mean                                   1.019166            9074.492603  \n",
       "std                                    0.145753            7804.493354  \n",
       "min                                    1.000000             551.490000  \n",
       "25%                                    1.000000            3778.740000  \n",
       "50%                                    1.000000            6556.960000  \n",
       "75%                                    1.000000           11693.145000  \n",
       "max                                    4.000000           67940.680000  \n",
       "\n",
       "[8 rows x 86 columns]"
      ]
     },
     "execution_count": 7,
     "metadata": {},
     "output_type": "execute_result"
    }
   ],
   "source": [
    "# View df's descriptive statistics\n",
    "data.describe()"
   ]
  },
  {
   "cell_type": "markdown",
   "metadata": {},
   "source": [
    "- Several columns have missing values to examine."
   ]
  },
  {
   "cell_type": "markdown",
   "metadata": {},
   "source": [
    "## Pre-processing Data"
   ]
  },
  {
   "cell_type": "code",
   "execution_count": 8,
   "metadata": {},
   "outputs": [],
   "source": [
    "# Drop reference id, loan id, and date columns, which are not loan characteristics\n",
    "# However, for now, keep foreclosure_date for feature engineering\n",
    "# Drop metropolitan statistical area, since analylsis will work with state and zipcode\n",
    "\n",
    "data.drop(['reference_pool_id', 'loan_id', 'monthly_reporting_pd', \n",
    "           'origination_date','first_payment_date', 'disposition_date',\n",
    "           'maturity_date', 'loan_age_months', \n",
    "           'metropolitan_statistical_area'], axis = 1, \n",
    "           inplace = True)"
   ]
  },
  {
   "cell_type": "markdown",
   "metadata": {},
   "source": [
    "### Change data types"
   ]
  },
  {
   "cell_type": "code",
   "execution_count": 9,
   "metadata": {},
   "outputs": [],
   "source": [
    "# Convert foreclosure_date column to datetime with format mm/dd/yy\n",
    "data['foreclosure_date'] = pd.to_datetime(data['foreclosure_date'], format='%m%d%y')\n",
    "# Convert zipcode_short to string\n",
    "data['zipcode_short'] = data['zipcode_short'].astype(str)"
   ]
  },
  {
   "cell_type": "markdown",
   "metadata": {},
   "source": [
    "### Null values"
   ]
  },
  {
   "cell_type": "code",
   "execution_count": 10,
   "metadata": {},
   "outputs": [
    {
     "data": {
      "text/html": [
       "<div>\n",
       "<style scoped>\n",
       "    .dataframe tbody tr th:only-of-type {\n",
       "        vertical-align: middle;\n",
       "    }\n",
       "\n",
       "    .dataframe tbody tr th {\n",
       "        vertical-align: top;\n",
       "    }\n",
       "\n",
       "    .dataframe thead th {\n",
       "        text-align: right;\n",
       "    }\n",
       "</style>\n",
       "<table border=\"1\" class=\"dataframe\">\n",
       "  <thead>\n",
       "    <tr style=\"text-align: right;\">\n",
       "      <th></th>\n",
       "      <th>channel</th>\n",
       "      <th>seller_name</th>\n",
       "      <th>servicer_name</th>\n",
       "      <th>origination_interest_rate</th>\n",
       "      <th>current_interest_rate</th>\n",
       "      <th>origination_UPB</th>\n",
       "      <th>current_actual_UPB</th>\n",
       "      <th>origination_loan_term</th>\n",
       "      <th>months_to_legal_maturity</th>\n",
       "      <th>months_to_maturity</th>\n",
       "      <th>...</th>\n",
       "      <th>foreclosure_principal_writeoff_amt</th>\n",
       "      <th>relocation_mortgage_indicator</th>\n",
       "      <th>property_valuation_method</th>\n",
       "      <th>high_balance_loan_indicator</th>\n",
       "      <th>borrower_assistance_plan</th>\n",
       "      <th>high_ltv_refinance_option_indicator</th>\n",
       "      <th>repurchase_make_whole_proceeds_flag</th>\n",
       "      <th>alternative_delinquency_resolution</th>\n",
       "      <th>alternative_delinquency_resolution_count</th>\n",
       "      <th>total_deferral_amount</th>\n",
       "    </tr>\n",
       "  </thead>\n",
       "  <tbody>\n",
       "    <tr>\n",
       "      <th>0</th>\n",
       "      <td>R</td>\n",
       "      <td>loanDepot.com, LLC</td>\n",
       "      <td>loanDepot.com, LLC</td>\n",
       "      <td>2.125</td>\n",
       "      <td>2.125</td>\n",
       "      <td>619000.0</td>\n",
       "      <td>616000.0</td>\n",
       "      <td>180</td>\n",
       "      <td>180.0</td>\n",
       "      <td>179.0</td>\n",
       "      <td>...</td>\n",
       "      <td>NaN</td>\n",
       "      <td>N</td>\n",
       "      <td>W</td>\n",
       "      <td>Y</td>\n",
       "      <td>7</td>\n",
       "      <td>N</td>\n",
       "      <td>NaN</td>\n",
       "      <td>7</td>\n",
       "      <td>NaN</td>\n",
       "      <td>NaN</td>\n",
       "    </tr>\n",
       "    <tr>\n",
       "      <th>1</th>\n",
       "      <td>R</td>\n",
       "      <td>loanDepot.com, LLC</td>\n",
       "      <td>loanDepot.com, LLC</td>\n",
       "      <td>2.125</td>\n",
       "      <td>2.125</td>\n",
       "      <td>619000.0</td>\n",
       "      <td>613000.0</td>\n",
       "      <td>180</td>\n",
       "      <td>179.0</td>\n",
       "      <td>178.0</td>\n",
       "      <td>...</td>\n",
       "      <td>NaN</td>\n",
       "      <td>N</td>\n",
       "      <td>W</td>\n",
       "      <td>Y</td>\n",
       "      <td>7</td>\n",
       "      <td>N</td>\n",
       "      <td>NaN</td>\n",
       "      <td>7</td>\n",
       "      <td>NaN</td>\n",
       "      <td>NaN</td>\n",
       "    </tr>\n",
       "    <tr>\n",
       "      <th>2</th>\n",
       "      <td>R</td>\n",
       "      <td>loanDepot.com, LLC</td>\n",
       "      <td>loanDepot.com, LLC</td>\n",
       "      <td>2.125</td>\n",
       "      <td>2.125</td>\n",
       "      <td>619000.0</td>\n",
       "      <td>610000.0</td>\n",
       "      <td>180</td>\n",
       "      <td>178.0</td>\n",
       "      <td>177.0</td>\n",
       "      <td>...</td>\n",
       "      <td>NaN</td>\n",
       "      <td>N</td>\n",
       "      <td>W</td>\n",
       "      <td>Y</td>\n",
       "      <td>7</td>\n",
       "      <td>N</td>\n",
       "      <td>NaN</td>\n",
       "      <td>7</td>\n",
       "      <td>NaN</td>\n",
       "      <td>NaN</td>\n",
       "    </tr>\n",
       "    <tr>\n",
       "      <th>3</th>\n",
       "      <td>R</td>\n",
       "      <td>loanDepot.com, LLC</td>\n",
       "      <td>loanDepot.com, LLC</td>\n",
       "      <td>2.125</td>\n",
       "      <td>2.125</td>\n",
       "      <td>619000.0</td>\n",
       "      <td>607000.0</td>\n",
       "      <td>180</td>\n",
       "      <td>177.0</td>\n",
       "      <td>176.0</td>\n",
       "      <td>...</td>\n",
       "      <td>NaN</td>\n",
       "      <td>N</td>\n",
       "      <td>W</td>\n",
       "      <td>Y</td>\n",
       "      <td>7</td>\n",
       "      <td>N</td>\n",
       "      <td>NaN</td>\n",
       "      <td>7</td>\n",
       "      <td>NaN</td>\n",
       "      <td>NaN</td>\n",
       "    </tr>\n",
       "    <tr>\n",
       "      <th>4</th>\n",
       "      <td>R</td>\n",
       "      <td>loanDepot.com, LLC</td>\n",
       "      <td>loanDepot.com, LLC</td>\n",
       "      <td>2.125</td>\n",
       "      <td>2.125</td>\n",
       "      <td>619000.0</td>\n",
       "      <td>604000.0</td>\n",
       "      <td>180</td>\n",
       "      <td>176.0</td>\n",
       "      <td>175.0</td>\n",
       "      <td>...</td>\n",
       "      <td>NaN</td>\n",
       "      <td>N</td>\n",
       "      <td>W</td>\n",
       "      <td>Y</td>\n",
       "      <td>7</td>\n",
       "      <td>N</td>\n",
       "      <td>NaN</td>\n",
       "      <td>7</td>\n",
       "      <td>NaN</td>\n",
       "      <td>NaN</td>\n",
       "    </tr>\n",
       "  </tbody>\n",
       "</table>\n",
       "<p>5 rows × 51 columns</p>\n",
       "</div>"
      ],
      "text/plain": [
       "  channel         seller_name       servicer_name  origination_interest_rate  \\\n",
       "0       R  loanDepot.com, LLC  loanDepot.com, LLC                      2.125   \n",
       "1       R  loanDepot.com, LLC  loanDepot.com, LLC                      2.125   \n",
       "2       R  loanDepot.com, LLC  loanDepot.com, LLC                      2.125   \n",
       "3       R  loanDepot.com, LLC  loanDepot.com, LLC                      2.125   \n",
       "4       R  loanDepot.com, LLC  loanDepot.com, LLC                      2.125   \n",
       "\n",
       "   current_interest_rate  origination_UPB  current_actual_UPB  \\\n",
       "0                  2.125         619000.0            616000.0   \n",
       "1                  2.125         619000.0            613000.0   \n",
       "2                  2.125         619000.0            610000.0   \n",
       "3                  2.125         619000.0            607000.0   \n",
       "4                  2.125         619000.0            604000.0   \n",
       "\n",
       "   origination_loan_term  months_to_legal_maturity  months_to_maturity  ...  \\\n",
       "0                    180                     180.0               179.0  ...   \n",
       "1                    180                     179.0               178.0  ...   \n",
       "2                    180                     178.0               177.0  ...   \n",
       "3                    180                     177.0               176.0  ...   \n",
       "4                    180                     176.0               175.0  ...   \n",
       "\n",
       "   foreclosure_principal_writeoff_amt  relocation_mortgage_indicator  \\\n",
       "0                                 NaN                              N   \n",
       "1                                 NaN                              N   \n",
       "2                                 NaN                              N   \n",
       "3                                 NaN                              N   \n",
       "4                                 NaN                              N   \n",
       "\n",
       "   property_valuation_method  high_balance_loan_indicator  \\\n",
       "0                          W                            Y   \n",
       "1                          W                            Y   \n",
       "2                          W                            Y   \n",
       "3                          W                            Y   \n",
       "4                          W                            Y   \n",
       "\n",
       "   borrower_assistance_plan  high_ltv_refinance_option_indicator  \\\n",
       "0                         7                                    N   \n",
       "1                         7                                    N   \n",
       "2                         7                                    N   \n",
       "3                         7                                    N   \n",
       "4                         7                                    N   \n",
       "\n",
       "  repurchase_make_whole_proceeds_flag alternative_delinquency_resolution  \\\n",
       "0                                 NaN                                  7   \n",
       "1                                 NaN                                  7   \n",
       "2                                 NaN                                  7   \n",
       "3                                 NaN                                  7   \n",
       "4                                 NaN                                  7   \n",
       "\n",
       "  alternative_delinquency_resolution_count  total_deferral_amount  \n",
       "0                                      NaN                    NaN  \n",
       "1                                      NaN                    NaN  \n",
       "2                                      NaN                    NaN  \n",
       "3                                      NaN                    NaN  \n",
       "4                                      NaN                    NaN  \n",
       "\n",
       "[5 rows x 51 columns]"
      ]
     },
     "execution_count": 10,
     "metadata": {},
     "output_type": "execute_result"
    }
   ],
   "source": [
    "# Drop columns that have all NaNs\n",
    "data = data.dropna(how='all', axis=1)\n",
    "data.head()"
   ]
  },
  {
   "cell_type": "code",
   "execution_count": 11,
   "metadata": {},
   "outputs": [
    {
     "name": "stdout",
     "output_type": "stream",
     "text": [
      "channel                                            0\n",
      "seller_name                                        0\n",
      "servicer_name                                 127751\n",
      "origination_interest_rate                          0\n",
      "current_interest_rate                         127741\n",
      "origination_UPB                                    0\n",
      "current_actual_UPB                                 0\n",
      "origination_loan_term                              0\n",
      "months_to_legal_maturity                      127751\n",
      "months_to_maturity                            127902\n",
      "origination_ltv                                    0\n",
      "origination_combined_ltv                           0\n",
      "number_of_borrowers                                0\n",
      "debt_to_income                                   558\n",
      "borrower_credit_score_origination               6380\n",
      "co-borrower_credit_score_origination        12212372\n",
      "first_time_homebuyer                               0\n",
      "loan_purpose                                       0\n",
      "property_type                                      0\n",
      "number_of_units                                    0\n",
      "occupancy_status                                   0\n",
      "property_state                                     0\n",
      "zipcode_short                                      0\n",
      "mortgage_insurance_pct                      18999872\n",
      "amortization_type                                  0\n",
      "prepayment_penalty_indicator                       0\n",
      "interest_only_loan_indicator                       0\n",
      "loan_delinquency_months                            0\n",
      "loan_payment_history                          127751\n",
      "modification_flag                             127741\n",
      "zero_balance_code                           22976522\n",
      "zero_balance_effective_date                 22976522\n",
      "upb_at_time_of_removal                      22976522\n",
      "total_principal_current                      1413390\n",
      "last_paid_installment_date                  23104263\n",
      "foreclosure_date                            23104263\n",
      "non_interest_bearing_upb                    23104122\n",
      "principal_forgiveness_amount                23090902\n",
      "mortgage_insurance_type                     18999872\n",
      "servicing_activity_indicator                  127751\n",
      "special_eligibility_program                        0\n",
      "foreclosure_principal_writeoff_amt          23090902\n",
      "relocation_mortgage_indicator                      0\n",
      "property_valuation_method                          0\n",
      "high_balance_loan_indicator                        0\n",
      "borrower_assistance_plan                           0\n",
      "high_ltv_refinance_option_indicator                0\n",
      "repurchase_make_whole_proceeds_flag         22976522\n",
      "alternative_delinquency_resolution                 0\n",
      "alternative_delinquency_resolution_count    23091177\n",
      "total_deferral_amount                       23091177\n",
      "dtype: int64\n"
     ]
    }
   ],
   "source": [
    "# Check for null values\n",
    "print(data.isnull().sum())"
   ]
  },
  {
   "cell_type": "markdown",
   "metadata": {},
   "source": [
    "- Several columns still have a significant amount of missing data. Based on the similar counts of missing  \n",
    "data, it appears that there are records that have missing values for several columns."
   ]
  },
  {
   "cell_type": "code",
   "execution_count": 12,
   "metadata": {},
   "outputs": [
    {
     "data": {
      "text/plain": [
       "NaN    18999872\n",
       "1.0     4050099\n",
       "2.0       43908\n",
       "3.0       10394\n",
       "Name: mortgage_insurance_type, dtype: int64"
      ]
     },
     "execution_count": 12,
     "metadata": {},
     "output_type": "execute_result"
    }
   ],
   "source": [
    "# Examine mortgage insurance type, which has high number of null values\n",
    "data['mortgage_insurance_type'].value_counts(dropna=False)"
   ]
  },
  {
   "cell_type": "code",
   "execution_count": 13,
   "metadata": {},
   "outputs": [
    {
     "data": {
      "text/plain": [
       "4    18999872\n",
       "1     4050099\n",
       "2       43908\n",
       "3       10394\n",
       "Name: mortgage_insurance_type, dtype: int64"
      ]
     },
     "execution_count": 13,
     "metadata": {},
     "output_type": "execute_result"
    }
   ],
   "source": [
    "# For mortgage_insurance_type, fill NaN with '4' to represent 'no mortgage insurance'\n",
    "data['mortgage_insurance_type'].fillna('4', inplace=True)\n",
    "data['mortgage_insurance_type'].replace({1.0: 1, 2.0: 2, 3.0: 3}, inplace=True)\n",
    "# View value counts\n",
    "data['mortgage_insurance_type'].value_counts()"
   ]
  },
  {
   "cell_type": "code",
   "execution_count": 14,
   "metadata": {},
   "outputs": [
    {
     "data": {
      "text/plain": [
       "NaN      12212372\n",
       "809.0      226704\n",
       "801.0      224981\n",
       "808.0      197816\n",
       "804.0      182465\n",
       "           ...   \n",
       "839.0          71\n",
       "833.0          34\n",
       "840.0          18\n",
       "841.0          17\n",
       "835.0          16\n",
       "Name: co-borrower_credit_score_origination, Length: 220, dtype: int64"
      ]
     },
     "execution_count": 14,
     "metadata": {},
     "output_type": "execute_result"
    }
   ],
   "source": [
    "# Examine co-borrower credit scores, which has high number of null values, \n",
    "# possibly indicating that there is no co-borrower\n",
    "data['co-borrower_credit_score_origination'].value_counts(dropna = False)"
   ]
  },
  {
   "cell_type": "code",
   "execution_count": 15,
   "metadata": {},
   "outputs": [
    {
     "data": {
      "text/plain": [
       "771.3581163655454"
      ]
     },
     "execution_count": 15,
     "metadata": {},
     "output_type": "execute_result"
    }
   ],
   "source": [
    "data['co-borrower_credit_score_origination'].mean()"
   ]
  },
  {
   "cell_type": "code",
   "execution_count": 16,
   "metadata": {},
   "outputs": [
    {
     "name": "stdout",
     "output_type": "stream",
     "text": [
      "NaN    23090902\n",
      "0.0       13371\n",
      "Name: principal_forgiveness_amount, dtype: int64\n",
      "--------------------------------------------------\n",
      "NaN    23090902\n",
      "0.0       13371\n",
      "Name: foreclosure_principal_writeoff_amt, dtype: int64\n"
     ]
    }
   ],
   "source": [
    "# Examine principal forgiveness amount and foreclosure principal write-off amount\n",
    "print(data['principal_forgiveness_amount'].value_counts(dropna = False))\n",
    "print('-----'*10)\n",
    "print(data['foreclosure_principal_writeoff_amt'].value_counts(dropna=False))"
   ]
  },
  {
   "cell_type": "code",
   "execution_count": 17,
   "metadata": {},
   "outputs": [
    {
     "name": "stdout",
     "output_type": "stream",
     "text": [
      "1\n",
      "1\n"
     ]
    }
   ],
   "source": [
    "print(data['principal_forgiveness_amount'].nunique())\n",
    "print(data['foreclosure_principal_writeoff_amt'].nunique())"
   ]
  },
  {
   "cell_type": "markdown",
   "metadata": {},
   "source": [
    "- principal forgiveness amount and foreclosure principal writeoff amount variables do not appear to  \n",
    "provide information on amounts, but rather appear to be a binary classification that is not labelled correctly\n",
    "- Each variable only has 1 unique value, which is 0\n",
    "- Variables also represent future information that will not assist with predicting problem loans"
   ]
  },
  {
   "cell_type": "code",
   "execution_count": 18,
   "metadata": {},
   "outputs": [
    {
     "data": {
      "text/plain": [
       "NaN    23091177\n",
       "1.0       12860\n",
       "2.0         222\n",
       "3.0          13\n",
       "4.0           1\n",
       "Name: alternative_delinquency_resolution_count, dtype: int64"
      ]
     },
     "execution_count": 18,
     "metadata": {},
     "output_type": "execute_result"
    }
   ],
   "source": [
    "data['alternative_delinquency_resolution_count'].value_counts(dropna=False)"
   ]
  },
  {
   "cell_type": "markdown",
   "metadata": {},
   "source": [
    "- Most records do not have alternative delinquency resolutions, since most loan  \n",
    "payments are not late nor delinquent."
   ]
  },
  {
   "cell_type": "code",
   "execution_count": 19,
   "metadata": {},
   "outputs": [
    {
     "data": {
      "text/plain": [
       "0.0    23091177\n",
       "1.0       12860\n",
       "2.0         222\n",
       "3.0          13\n",
       "4.0           1\n",
       "Name: alternative_delinquency_resolution_count, dtype: int64"
      ]
     },
     "execution_count": 19,
     "metadata": {},
     "output_type": "execute_result"
    }
   ],
   "source": [
    "# Fill NA with 0 for alternative delinquency resolution count \n",
    "data['alternative_delinquency_resolution_count'].fillna(0, inplace=True)\n",
    "data['alternative_delinquency_resolution_count'].value_counts(dropna=False)"
   ]
  },
  {
   "cell_type": "code",
   "execution_count": 20,
   "metadata": {},
   "outputs": [
    {
     "data": {
      "text/plain": [
       "9074.492603084916"
      ]
     },
     "execution_count": 20,
     "metadata": {},
     "output_type": "execute_result"
    }
   ],
   "source": [
    "# Calculate mean deferral amount for loans that do require alternative delinquency resolution\n",
    "data['total_deferral_amount'].mean()"
   ]
  },
  {
   "cell_type": "code",
   "execution_count": 21,
   "metadata": {},
   "outputs": [],
   "source": [
    "# Drop columns where more than 50% of values are missing\n",
    "# Keep foreclosure date for later use in calculation of problem loans \n",
    "data.drop(['co-borrower_credit_score_origination', 'mortgage_insurance_pct',\n",
    "          'zero_balance_code', 'zero_balance_effective_date',\n",
    "          'upb_at_time_of_removal', 'last_paid_installment_date',\n",
    "          'total_principal_current', \n",
    "           'non_interest_bearing_upb', 'principal_forgiveness_amount',\n",
    "           'foreclosure_principal_writeoff_amt', \n",
    "          'repurchase_make_whole_proceeds_flag',  \n",
    "          'total_deferral_amount'], axis = 1, inplace=True)"
   ]
  },
  {
   "cell_type": "code",
   "execution_count": 22,
   "metadata": {},
   "outputs": [
    {
     "data": {
      "text/plain": [
       "channel                                            0\n",
       "seller_name                                        0\n",
       "servicer_name                                 127751\n",
       "origination_interest_rate                          0\n",
       "current_interest_rate                         127741\n",
       "origination_UPB                                    0\n",
       "current_actual_UPB                                 0\n",
       "origination_loan_term                              0\n",
       "months_to_legal_maturity                      127751\n",
       "months_to_maturity                            127902\n",
       "origination_ltv                                    0\n",
       "origination_combined_ltv                           0\n",
       "number_of_borrowers                                0\n",
       "debt_to_income                                   558\n",
       "borrower_credit_score_origination               6380\n",
       "first_time_homebuyer                               0\n",
       "loan_purpose                                       0\n",
       "property_type                                      0\n",
       "number_of_units                                    0\n",
       "occupancy_status                                   0\n",
       "property_state                                     0\n",
       "zipcode_short                                      0\n",
       "amortization_type                                  0\n",
       "prepayment_penalty_indicator                       0\n",
       "interest_only_loan_indicator                       0\n",
       "loan_delinquency_months                            0\n",
       "loan_payment_history                          127751\n",
       "modification_flag                             127741\n",
       "foreclosure_date                            23104263\n",
       "mortgage_insurance_type                            0\n",
       "servicing_activity_indicator                  127751\n",
       "special_eligibility_program                        0\n",
       "relocation_mortgage_indicator                      0\n",
       "property_valuation_method                          0\n",
       "high_balance_loan_indicator                        0\n",
       "borrower_assistance_plan                           0\n",
       "high_ltv_refinance_option_indicator                0\n",
       "alternative_delinquency_resolution                 0\n",
       "alternative_delinquency_resolution_count           0\n",
       "dtype: int64"
      ]
     },
     "execution_count": 22,
     "metadata": {},
     "output_type": "execute_result"
    }
   ],
   "source": [
    "data.isnull().sum()"
   ]
  },
  {
   "cell_type": "code",
   "execution_count": 23,
   "metadata": {},
   "outputs": [],
   "source": [
    "# Fill NA with mean for variables: debt_to_income, borrower_credit_score_origination, \n",
    "# months_to_maturity\n",
    "data['debt_to_income'].fillna(data['debt_to_income'].mean(), inplace=True)\n",
    "data['borrower_credit_score_origination'].fillna(\n",
    "    data['borrower_credit_score_origination'].mean(), inplace=True)\n",
    "data['months_to_maturity'].fillna(data['months_to_maturity'].mean(), inplace=True)"
   ]
  },
  {
   "cell_type": "code",
   "execution_count": 24,
   "metadata": {},
   "outputs": [
    {
     "data": {
      "text/plain": [
       "NaT           23104263\n",
       "2022-05-20           2\n",
       "2021-12-20           2\n",
       "2022-06-20           1\n",
       "2021-06-20           1\n",
       "2022-04-20           1\n",
       "2022-01-20           1\n",
       "2022-03-20           1\n",
       "2022-02-20           1\n",
       "Name: foreclosure_date, dtype: int64"
      ]
     },
     "execution_count": 24,
     "metadata": {},
     "output_type": "execute_result"
    }
   ],
   "source": [
    "data['foreclosure_date'].value_counts(dropna=False)"
   ]
  },
  {
   "cell_type": "markdown",
   "metadata": {},
   "source": [
    "- Only a handfull of records have foreclosed"
   ]
  },
  {
   "cell_type": "code",
   "execution_count": 25,
   "metadata": {},
   "outputs": [],
   "source": [
    "# instantiate label encoder\n",
    "label_enc = LabelEncoder()"
   ]
  },
  {
   "cell_type": "code",
   "execution_count": 26,
   "metadata": {},
   "outputs": [
    {
     "data": {
      "text/plain": [
       "0    23104263\n",
       "1          10\n",
       "Name: foreclosure_status, dtype: int64"
      ]
     },
     "execution_count": 26,
     "metadata": {},
     "output_type": "execute_result"
    }
   ],
   "source": [
    "# Create new, binary variable that indicates foreclosure status (0: no, 1: yes)\n",
    "data['foreclosure_status'] = np.where(data['foreclosure_date'].isnull(), 0, 1)\n",
    "# Apply label encoding\n",
    "data['foreclosure_status'] = label_enc.fit_transform(data['foreclosure_status'].astype(str))\n",
    "data['foreclosure_status'].value_counts(dropna=False)"
   ]
  },
  {
   "cell_type": "code",
   "execution_count": 27,
   "metadata": {},
   "outputs": [],
   "source": [
    "# Drop foreclosure date, which has mostly missing values\n",
    "data.drop(['foreclosure_date'], axis=1, inplace=True)"
   ]
  },
  {
   "cell_type": "code",
   "execution_count": 28,
   "metadata": {},
   "outputs": [
    {
     "data": {
      "text/html": [
       "<div>\n",
       "<style scoped>\n",
       "    .dataframe tbody tr th:only-of-type {\n",
       "        vertical-align: middle;\n",
       "    }\n",
       "\n",
       "    .dataframe tbody tr th {\n",
       "        vertical-align: top;\n",
       "    }\n",
       "\n",
       "    .dataframe thead th {\n",
       "        text-align: right;\n",
       "    }\n",
       "</style>\n",
       "<table border=\"1\" class=\"dataframe\">\n",
       "  <thead>\n",
       "    <tr style=\"text-align: right;\">\n",
       "      <th></th>\n",
       "      <th>channel</th>\n",
       "      <th>seller_name</th>\n",
       "      <th>servicer_name</th>\n",
       "      <th>origination_interest_rate</th>\n",
       "      <th>current_interest_rate</th>\n",
       "      <th>origination_UPB</th>\n",
       "      <th>current_actual_UPB</th>\n",
       "      <th>origination_loan_term</th>\n",
       "      <th>months_to_legal_maturity</th>\n",
       "      <th>months_to_maturity</th>\n",
       "      <th>...</th>\n",
       "      <th>servicing_activity_indicator</th>\n",
       "      <th>special_eligibility_program</th>\n",
       "      <th>relocation_mortgage_indicator</th>\n",
       "      <th>property_valuation_method</th>\n",
       "      <th>high_balance_loan_indicator</th>\n",
       "      <th>borrower_assistance_plan</th>\n",
       "      <th>high_ltv_refinance_option_indicator</th>\n",
       "      <th>alternative_delinquency_resolution</th>\n",
       "      <th>alternative_delinquency_resolution_count</th>\n",
       "      <th>foreclosure_status</th>\n",
       "    </tr>\n",
       "  </thead>\n",
       "  <tbody>\n",
       "    <tr>\n",
       "      <th>45</th>\n",
       "      <td>R</td>\n",
       "      <td>Other</td>\n",
       "      <td>NaN</td>\n",
       "      <td>2.625</td>\n",
       "      <td>NaN</td>\n",
       "      <td>589000.0</td>\n",
       "      <td>0.0</td>\n",
       "      <td>180</td>\n",
       "      <td>NaN</td>\n",
       "      <td>304.689088</td>\n",
       "      <td>...</td>\n",
       "      <td>NaN</td>\n",
       "      <td>N</td>\n",
       "      <td>N</td>\n",
       "      <td>W</td>\n",
       "      <td>Y</td>\n",
       "      <td>7</td>\n",
       "      <td>N</td>\n",
       "      <td>7</td>\n",
       "      <td>0.0</td>\n",
       "      <td>0</td>\n",
       "    </tr>\n",
       "    <tr>\n",
       "      <th>177</th>\n",
       "      <td>B</td>\n",
       "      <td>Rocket Mortgage, LLC</td>\n",
       "      <td>NaN</td>\n",
       "      <td>2.875</td>\n",
       "      <td>NaN</td>\n",
       "      <td>765000.0</td>\n",
       "      <td>0.0</td>\n",
       "      <td>360</td>\n",
       "      <td>NaN</td>\n",
       "      <td>304.689088</td>\n",
       "      <td>...</td>\n",
       "      <td>NaN</td>\n",
       "      <td>N</td>\n",
       "      <td>N</td>\n",
       "      <td>A</td>\n",
       "      <td>Y</td>\n",
       "      <td>7</td>\n",
       "      <td>N</td>\n",
       "      <td>7</td>\n",
       "      <td>0.0</td>\n",
       "      <td>0</td>\n",
       "    </tr>\n",
       "    <tr>\n",
       "      <th>195</th>\n",
       "      <td>C</td>\n",
       "      <td>PennyMac Corp.</td>\n",
       "      <td>NaN</td>\n",
       "      <td>2.875</td>\n",
       "      <td>NaN</td>\n",
       "      <td>715000.0</td>\n",
       "      <td>0.0</td>\n",
       "      <td>360</td>\n",
       "      <td>NaN</td>\n",
       "      <td>304.689088</td>\n",
       "      <td>...</td>\n",
       "      <td>NaN</td>\n",
       "      <td>N</td>\n",
       "      <td>N</td>\n",
       "      <td>A</td>\n",
       "      <td>Y</td>\n",
       "      <td>7</td>\n",
       "      <td>N</td>\n",
       "      <td>7</td>\n",
       "      <td>0.0</td>\n",
       "      <td>0</td>\n",
       "    </tr>\n",
       "    <tr>\n",
       "      <th>478</th>\n",
       "      <td>B</td>\n",
       "      <td>United Wholesale Mortgage, LLC</td>\n",
       "      <td>NaN</td>\n",
       "      <td>3.250</td>\n",
       "      <td>NaN</td>\n",
       "      <td>628000.0</td>\n",
       "      <td>0.0</td>\n",
       "      <td>360</td>\n",
       "      <td>NaN</td>\n",
       "      <td>304.689088</td>\n",
       "      <td>...</td>\n",
       "      <td>NaN</td>\n",
       "      <td>N</td>\n",
       "      <td>N</td>\n",
       "      <td>A</td>\n",
       "      <td>Y</td>\n",
       "      <td>7</td>\n",
       "      <td>N</td>\n",
       "      <td>7</td>\n",
       "      <td>0.0</td>\n",
       "      <td>0</td>\n",
       "    </tr>\n",
       "    <tr>\n",
       "      <th>740</th>\n",
       "      <td>C</td>\n",
       "      <td>PennyMac Corp.</td>\n",
       "      <td>NaN</td>\n",
       "      <td>2.250</td>\n",
       "      <td>NaN</td>\n",
       "      <td>611000.0</td>\n",
       "      <td>0.0</td>\n",
       "      <td>180</td>\n",
       "      <td>NaN</td>\n",
       "      <td>304.689088</td>\n",
       "      <td>...</td>\n",
       "      <td>NaN</td>\n",
       "      <td>N</td>\n",
       "      <td>N</td>\n",
       "      <td>A</td>\n",
       "      <td>Y</td>\n",
       "      <td>7</td>\n",
       "      <td>N</td>\n",
       "      <td>7</td>\n",
       "      <td>0.0</td>\n",
       "      <td>0</td>\n",
       "    </tr>\n",
       "    <tr>\n",
       "      <th>...</th>\n",
       "      <td>...</td>\n",
       "      <td>...</td>\n",
       "      <td>...</td>\n",
       "      <td>...</td>\n",
       "      <td>...</td>\n",
       "      <td>...</td>\n",
       "      <td>...</td>\n",
       "      <td>...</td>\n",
       "      <td>...</td>\n",
       "      <td>...</td>\n",
       "      <td>...</td>\n",
       "      <td>...</td>\n",
       "      <td>...</td>\n",
       "      <td>...</td>\n",
       "      <td>...</td>\n",
       "      <td>...</td>\n",
       "      <td>...</td>\n",
       "      <td>...</td>\n",
       "      <td>...</td>\n",
       "      <td>...</td>\n",
       "      <td>...</td>\n",
       "    </tr>\n",
       "    <tr>\n",
       "      <th>23102680</th>\n",
       "      <td>R</td>\n",
       "      <td>CrossCountry Mortgage, LLC</td>\n",
       "      <td>NaN</td>\n",
       "      <td>3.375</td>\n",
       "      <td>NaN</td>\n",
       "      <td>152000.0</td>\n",
       "      <td>0.0</td>\n",
       "      <td>360</td>\n",
       "      <td>NaN</td>\n",
       "      <td>304.689088</td>\n",
       "      <td>...</td>\n",
       "      <td>NaN</td>\n",
       "      <td>N</td>\n",
       "      <td>N</td>\n",
       "      <td>A</td>\n",
       "      <td>N</td>\n",
       "      <td>7</td>\n",
       "      <td>N</td>\n",
       "      <td>7</td>\n",
       "      <td>0.0</td>\n",
       "      <td>0</td>\n",
       "    </tr>\n",
       "    <tr>\n",
       "      <th>23103098</th>\n",
       "      <td>R</td>\n",
       "      <td>Other</td>\n",
       "      <td>NaN</td>\n",
       "      <td>2.625</td>\n",
       "      <td>NaN</td>\n",
       "      <td>315000.0</td>\n",
       "      <td>0.0</td>\n",
       "      <td>360</td>\n",
       "      <td>NaN</td>\n",
       "      <td>304.689088</td>\n",
       "      <td>...</td>\n",
       "      <td>NaN</td>\n",
       "      <td>N</td>\n",
       "      <td>N</td>\n",
       "      <td>A</td>\n",
       "      <td>N</td>\n",
       "      <td>7</td>\n",
       "      <td>N</td>\n",
       "      <td>7</td>\n",
       "      <td>0.0</td>\n",
       "      <td>0</td>\n",
       "    </tr>\n",
       "    <tr>\n",
       "      <th>23103169</th>\n",
       "      <td>R</td>\n",
       "      <td>Other</td>\n",
       "      <td>NaN</td>\n",
       "      <td>2.875</td>\n",
       "      <td>NaN</td>\n",
       "      <td>369000.0</td>\n",
       "      <td>0.0</td>\n",
       "      <td>360</td>\n",
       "      <td>NaN</td>\n",
       "      <td>304.689088</td>\n",
       "      <td>...</td>\n",
       "      <td>NaN</td>\n",
       "      <td>N</td>\n",
       "      <td>N</td>\n",
       "      <td>A</td>\n",
       "      <td>N</td>\n",
       "      <td>7</td>\n",
       "      <td>N</td>\n",
       "      <td>7</td>\n",
       "      <td>0.0</td>\n",
       "      <td>0</td>\n",
       "    </tr>\n",
       "    <tr>\n",
       "      <th>23103985</th>\n",
       "      <td>R</td>\n",
       "      <td>Rocket Mortgage, LLC</td>\n",
       "      <td>NaN</td>\n",
       "      <td>2.750</td>\n",
       "      <td>NaN</td>\n",
       "      <td>315000.0</td>\n",
       "      <td>0.0</td>\n",
       "      <td>360</td>\n",
       "      <td>NaN</td>\n",
       "      <td>304.689088</td>\n",
       "      <td>...</td>\n",
       "      <td>NaN</td>\n",
       "      <td>N</td>\n",
       "      <td>N</td>\n",
       "      <td>W</td>\n",
       "      <td>N</td>\n",
       "      <td>7</td>\n",
       "      <td>N</td>\n",
       "      <td>7</td>\n",
       "      <td>0.0</td>\n",
       "      <td>0</td>\n",
       "    </tr>\n",
       "    <tr>\n",
       "      <th>23104080</th>\n",
       "      <td>R</td>\n",
       "      <td>Other</td>\n",
       "      <td>NaN</td>\n",
       "      <td>3.250</td>\n",
       "      <td>NaN</td>\n",
       "      <td>119000.0</td>\n",
       "      <td>0.0</td>\n",
       "      <td>360</td>\n",
       "      <td>NaN</td>\n",
       "      <td>304.689088</td>\n",
       "      <td>...</td>\n",
       "      <td>NaN</td>\n",
       "      <td>N</td>\n",
       "      <td>N</td>\n",
       "      <td>A</td>\n",
       "      <td>N</td>\n",
       "      <td>7</td>\n",
       "      <td>N</td>\n",
       "      <td>7</td>\n",
       "      <td>0.0</td>\n",
       "      <td>0</td>\n",
       "    </tr>\n",
       "  </tbody>\n",
       "</table>\n",
       "<p>127751 rows × 39 columns</p>\n",
       "</div>"
      ],
      "text/plain": [
       "         channel                     seller_name servicer_name  \\\n",
       "45             R                           Other           NaN   \n",
       "177            B            Rocket Mortgage, LLC           NaN   \n",
       "195            C                  PennyMac Corp.           NaN   \n",
       "478            B  United Wholesale Mortgage, LLC           NaN   \n",
       "740            C                  PennyMac Corp.           NaN   \n",
       "...          ...                             ...           ...   \n",
       "23102680       R      CrossCountry Mortgage, LLC           NaN   \n",
       "23103098       R                           Other           NaN   \n",
       "23103169       R                           Other           NaN   \n",
       "23103985       R            Rocket Mortgage, LLC           NaN   \n",
       "23104080       R                           Other           NaN   \n",
       "\n",
       "          origination_interest_rate  current_interest_rate  origination_UPB  \\\n",
       "45                            2.625                    NaN         589000.0   \n",
       "177                           2.875                    NaN         765000.0   \n",
       "195                           2.875                    NaN         715000.0   \n",
       "478                           3.250                    NaN         628000.0   \n",
       "740                           2.250                    NaN         611000.0   \n",
       "...                             ...                    ...              ...   \n",
       "23102680                      3.375                    NaN         152000.0   \n",
       "23103098                      2.625                    NaN         315000.0   \n",
       "23103169                      2.875                    NaN         369000.0   \n",
       "23103985                      2.750                    NaN         315000.0   \n",
       "23104080                      3.250                    NaN         119000.0   \n",
       "\n",
       "          current_actual_UPB  origination_loan_term  months_to_legal_maturity  \\\n",
       "45                       0.0                    180                       NaN   \n",
       "177                      0.0                    360                       NaN   \n",
       "195                      0.0                    360                       NaN   \n",
       "478                      0.0                    360                       NaN   \n",
       "740                      0.0                    180                       NaN   \n",
       "...                      ...                    ...                       ...   \n",
       "23102680                 0.0                    360                       NaN   \n",
       "23103098                 0.0                    360                       NaN   \n",
       "23103169                 0.0                    360                       NaN   \n",
       "23103985                 0.0                    360                       NaN   \n",
       "23104080                 0.0                    360                       NaN   \n",
       "\n",
       "          months_to_maturity  ...  servicing_activity_indicator  \\\n",
       "45                304.689088  ...                           NaN   \n",
       "177               304.689088  ...                           NaN   \n",
       "195               304.689088  ...                           NaN   \n",
       "478               304.689088  ...                           NaN   \n",
       "740               304.689088  ...                           NaN   \n",
       "...                      ...  ...                           ...   \n",
       "23102680          304.689088  ...                           NaN   \n",
       "23103098          304.689088  ...                           NaN   \n",
       "23103169          304.689088  ...                           NaN   \n",
       "23103985          304.689088  ...                           NaN   \n",
       "23104080          304.689088  ...                           NaN   \n",
       "\n",
       "          special_eligibility_program  relocation_mortgage_indicator  \\\n",
       "45                                  N                              N   \n",
       "177                                 N                              N   \n",
       "195                                 N                              N   \n",
       "478                                 N                              N   \n",
       "740                                 N                              N   \n",
       "...                               ...                            ...   \n",
       "23102680                            N                              N   \n",
       "23103098                            N                              N   \n",
       "23103169                            N                              N   \n",
       "23103985                            N                              N   \n",
       "23104080                            N                              N   \n",
       "\n",
       "          property_valuation_method  high_balance_loan_indicator  \\\n",
       "45                                W                            Y   \n",
       "177                               A                            Y   \n",
       "195                               A                            Y   \n",
       "478                               A                            Y   \n",
       "740                               A                            Y   \n",
       "...                             ...                          ...   \n",
       "23102680                          A                            N   \n",
       "23103098                          A                            N   \n",
       "23103169                          A                            N   \n",
       "23103985                          W                            N   \n",
       "23104080                          A                            N   \n",
       "\n",
       "         borrower_assistance_plan high_ltv_refinance_option_indicator  \\\n",
       "45                              7                                   N   \n",
       "177                             7                                   N   \n",
       "195                             7                                   N   \n",
       "478                             7                                   N   \n",
       "740                             7                                   N   \n",
       "...                           ...                                 ...   \n",
       "23102680                        7                                   N   \n",
       "23103098                        7                                   N   \n",
       "23103169                        7                                   N   \n",
       "23103985                        7                                   N   \n",
       "23104080                        7                                   N   \n",
       "\n",
       "         alternative_delinquency_resolution  \\\n",
       "45                                        7   \n",
       "177                                       7   \n",
       "195                                       7   \n",
       "478                                       7   \n",
       "740                                       7   \n",
       "...                                     ...   \n",
       "23102680                                  7   \n",
       "23103098                                  7   \n",
       "23103169                                  7   \n",
       "23103985                                  7   \n",
       "23104080                                  7   \n",
       "\n",
       "          alternative_delinquency_resolution_count foreclosure_status  \n",
       "45                                             0.0                  0  \n",
       "177                                            0.0                  0  \n",
       "195                                            0.0                  0  \n",
       "478                                            0.0                  0  \n",
       "740                                            0.0                  0  \n",
       "...                                            ...                ...  \n",
       "23102680                                       0.0                  0  \n",
       "23103098                                       0.0                  0  \n",
       "23103169                                       0.0                  0  \n",
       "23103985                                       0.0                  0  \n",
       "23104080                                       0.0                  0  \n",
       "\n",
       "[127751 rows x 39 columns]"
      ]
     },
     "execution_count": 28,
     "metadata": {},
     "output_type": "execute_result"
    }
   ],
   "source": [
    "# Examine missing values for servicer_name variable\n",
    "data[data['servicer_name'].isna()]"
   ]
  },
  {
   "cell_type": "code",
   "execution_count": 29,
   "metadata": {},
   "outputs": [
    {
     "data": {
      "text/plain": [
       "945.0    403978\n",
       "852.0    243201\n",
       "840.0    237466\n",
       "980.0    235337\n",
       "750.0    228347\n",
       "          ...  \n",
       "417.0        71\n",
       "408.0        66\n",
       "865.0        17\n",
       "nan          16\n",
       "96.0          5\n",
       "Name: zipcode_short, Length: 891, dtype: int64"
      ]
     },
     "execution_count": 29,
     "metadata": {},
     "output_type": "execute_result"
    }
   ],
   "source": [
    "data['zipcode_short'].value_counts()"
   ]
  },
  {
   "cell_type": "code",
   "execution_count": 30,
   "metadata": {},
   "outputs": [],
   "source": [
    "data = data[data['zipcode_short'].str.contains('nan') == False]"
   ]
  },
  {
   "cell_type": "code",
   "execution_count": 31,
   "metadata": {},
   "outputs": [],
   "source": [
    "# drop rows with NaN in servicer name col, which will also drop NaNs in other columns\n",
    "data = data.dropna(subset=['servicer_name'])"
   ]
  },
  {
   "cell_type": "code",
   "execution_count": 32,
   "metadata": {},
   "outputs": [
    {
     "data": {
      "text/plain": [
       "channel                                     0\n",
       "seller_name                                 0\n",
       "servicer_name                               0\n",
       "origination_interest_rate                   0\n",
       "current_interest_rate                       0\n",
       "origination_UPB                             0\n",
       "current_actual_UPB                          0\n",
       "origination_loan_term                       0\n",
       "months_to_legal_maturity                    0\n",
       "months_to_maturity                          0\n",
       "origination_ltv                             0\n",
       "origination_combined_ltv                    0\n",
       "number_of_borrowers                         0\n",
       "debt_to_income                              0\n",
       "borrower_credit_score_origination           0\n",
       "first_time_homebuyer                        0\n",
       "loan_purpose                                0\n",
       "property_type                               0\n",
       "number_of_units                             0\n",
       "occupancy_status                            0\n",
       "property_state                              0\n",
       "zipcode_short                               0\n",
       "amortization_type                           0\n",
       "prepayment_penalty_indicator                0\n",
       "interest_only_loan_indicator                0\n",
       "loan_delinquency_months                     0\n",
       "loan_payment_history                        0\n",
       "modification_flag                           0\n",
       "mortgage_insurance_type                     0\n",
       "servicing_activity_indicator                0\n",
       "special_eligibility_program                 0\n",
       "relocation_mortgage_indicator               0\n",
       "property_valuation_method                   0\n",
       "high_balance_loan_indicator                 0\n",
       "borrower_assistance_plan                    0\n",
       "high_ltv_refinance_option_indicator         0\n",
       "alternative_delinquency_resolution          0\n",
       "alternative_delinquency_resolution_count    0\n",
       "foreclosure_status                          0\n",
       "dtype: int64"
      ]
     },
     "execution_count": 32,
     "metadata": {},
     "output_type": "execute_result"
    }
   ],
   "source": [
    "# Recheck for missing values\n",
    "data.isnull().sum()"
   ]
  },
  {
   "cell_type": "markdown",
   "metadata": {},
   "source": [
    "- Missing values have been addressed."
   ]
  },
  {
   "cell_type": "code",
   "execution_count": 33,
   "metadata": {},
   "outputs": [
    {
     "data": {
      "text/plain": [
       "(22976506, 39)"
      ]
     },
     "execution_count": 33,
     "metadata": {},
     "output_type": "execute_result"
    }
   ],
   "source": [
    "# Examine shape of dataframe after removing missing values\n",
    "data.shape"
   ]
  },
  {
   "cell_type": "code",
   "execution_count": 34,
   "metadata": {},
   "outputs": [
    {
     "name": "stdout",
     "output_type": "stream",
     "text": [
      "Rows:  -0.55 %\n"
     ]
    }
   ],
   "source": [
    "# Calculate how much data was dropped\n",
    "# Rows dropped\n",
    "print('Rows: ', round(100 * ((22976506 - 23104273) / 23104273), 2), '%')"
   ]
  },
  {
   "cell_type": "markdown",
   "metadata": {},
   "source": [
    "- Dataframe has been cleaned with minimal impact of size of dataset, as 0.55% of records were dropped.\n",
    "- Number of columns has been reduced to 37 from 86."
   ]
  },
  {
   "cell_type": "markdown",
   "metadata": {},
   "source": [
    "### Data labels"
   ]
  },
  {
   "cell_type": "code",
   "execution_count": 35,
   "metadata": {},
   "outputs": [],
   "source": [
    "# Apply binary label encoding to y/n variables\n",
    "# relabel y/n columns to binary (0,1) and change dtype to integer\n",
    "data['first_time_homebuyer'].replace({'N':0, 'Y':1}, inplace=True)\n",
    "data['prepayment_penalty_indicator'].replace({'N':0, 'Y':1}, inplace=True)\n",
    "data['interest_only_loan_indicator'].replace({'N':0, 'Y':1}, inplace=True)\n",
    "data['servicing_activity_indicator'].replace({'N':0, 'Y':1}, inplace=True)\n",
    "data['relocation_mortgage_indicator'].replace({'N':0, 'Y':1}, inplace=True)\n",
    "data['high_balance_loan_indicator'].replace({'N':0, 'Y':1}, inplace=True)\n",
    "data['high_ltv_refinance_option_indicator'].replace({'N':0, 'Y':1}, inplace=True)\n",
    "data['modification_flag'].replace({'N':0, 'Y':1}, inplace=True)\n",
    "data['special_eligibility_program'].replace({'N':0, 'Y':1}, inplace=True)\n",
    "\n",
    "# apply label encoding for binary classification\n",
    "data['first_time_homebuyer'] = label_enc.fit_transform(data['first_time_homebuyer'].astype(str))\n",
    "data['prepayment_penalty_indicator'] = label_enc.fit_transform(data['prepayment_penalty_indicator'].astype(str))\n",
    "data['interest_only_loan_indicator'] = label_enc.fit_transform(data['interest_only_loan_indicator'].astype(str))\n",
    "data['servicing_activity_indicator'] = label_enc.fit_transform(data['servicing_activity_indicator'].astype(str))\n",
    "data['relocation_mortgage_indicator'] = label_enc.fit_transform(data['relocation_mortgage_indicator'].astype(str))\n",
    "data['high_balance_loan_indicator'] = label_enc.fit_transform(data['high_balance_loan_indicator'].astype(str))\n",
    "data['high_ltv_refinance_option_indicator'] = label_enc.fit_transform(data['high_ltv_refinance_option_indicator'].astype(str))\n",
    "data['modification_flag'] = label_enc.fit_transform(data['modification_flag'].astype(str))\n",
    "data['special_eligibility_program'] = label_enc.fit_transform(data['special_eligibility_program'].astype(str))"
   ]
  },
  {
   "cell_type": "code",
   "execution_count": 36,
   "metadata": {},
   "outputs": [
    {
     "data": {
      "text/plain": [
       "7    22800682\n",
       "N      130416\n",
       "F       43091\n",
       "T        1821\n",
       "R         496\n",
       "Name: borrower_assistance_plan, dtype: int64"
      ]
     },
     "execution_count": 36,
     "metadata": {},
     "output_type": "execute_result"
    }
   ],
   "source": [
    "# Examine value counts for borrower_assistance_plan\n",
    "data['borrower_assistance_plan'].value_counts()"
   ]
  },
  {
   "cell_type": "code",
   "execution_count": 37,
   "metadata": {},
   "outputs": [],
   "source": [
    "# Create new variable 'borrower_assistance_plan' to indicate if borrower is on assistance plan\n",
    "# Change labels for borrower assistance plan (binary: 0 for no assistance, 1 for assistance)\n",
    "# def borrower_assistance_labels(x):\n",
    "#     if   x == 'F':   return 1 #forbearance\n",
    "#     elif x == 'R':   return 1 #repayment\n",
    "#     elif x == 'T': return 1   #trial period\n",
    "#     elif x == 'O': return 1   #other\n",
    "#     else: return 0\n",
    "\n",
    "# func = np.vectorize(borrower_assistance_labels)\n",
    "# borrower_assistance_class = func(data['borrower_assistance_plan'])\n",
    "\n",
    "# data['borrower_assistance_status'] = borrower_assistance_class\n",
    "# data['borrower_assistance_status'] = label_enc.fit_transform(data['borrower_assistance_status'].astype(str))\n",
    "\n",
    "# data['borrower_assistance_status'].value_counts()"
   ]
  },
  {
   "cell_type": "code",
   "execution_count": 38,
   "metadata": {},
   "outputs": [],
   "source": [
    "# Change labels for borrower assistance plan\n",
    "borrower_assistance_plan_labels = {'F': 'forbearance',\n",
    "                                 'R': 'repayment',\n",
    "                                 'T': 'trial_period',\n",
    "                                 'O': 'other',\n",
    "                                 'N': 'none',\n",
    "                                 '7': 'not_applicable',\n",
    "                                 '9': 'not_available'}\n",
    "\n",
    "data['borrower_assistance_plan'].replace(borrower_assistance_plan_labels, inplace=True)\n",
    "data['borrower_assistance_plan'] = data['borrower_assistance_plan'].astype(str)"
   ]
  },
  {
   "cell_type": "code",
   "execution_count": 39,
   "metadata": {},
   "outputs": [],
   "source": [
    "# change labels for mortgage_insurance_type\n",
    "mortgage_insurance_type_labels = {1: 'borrower_paid',\n",
    "                                  2: 'lender_paid',\n",
    "                                  3: 'enterprise_paid',\n",
    "                                  4: 'none'}\n",
    "\n",
    "data['mortgage_insurance_type'].replace(mortgage_insurance_type_labels, inplace=True)\n",
    "data['mortgage_insurance_type'] = data['mortgage_insurance_type'].astype(str)"
   ]
  },
  {
   "cell_type": "code",
   "execution_count": 40,
   "metadata": {},
   "outputs": [],
   "source": [
    "# change labels for alternative_delinquency_resolution\n",
    "alternative_delinquency_resolution_labels = {'P': 'payment_deferral',\n",
    "                                 'C': 'covid19',\n",
    "                                 'D': 'natural_disaster',\n",
    "                                 '7': 'not_applicable',\n",
    "                                  7: 'not_applicable',           \n",
    "                                 '9': 'not_available'}\n",
    "data['alternative_delinquency_resolution'].replace(alternative_delinquency_resolution_labels, inplace=True)\n",
    "data['alternative_delinquency_resolution'] = data['alternative_delinquency_resolution'].astype(str)"
   ]
  },
  {
   "cell_type": "code",
   "execution_count": 41,
   "metadata": {},
   "outputs": [
    {
     "data": {
      "text/plain": [
       "alternative_delinquency_resolution_count  alternative_delinquency_resolution\n",
       "0.0                                       not_applicable                        22963410\n",
       "1.0                                       covid19                                  12717\n",
       "                                          natural_disaster                           134\n",
       "                                          payment_deferral                             9\n",
       "2.0                                       covid19                                    222\n",
       "3.0                                       covid19                                     13\n",
       "4.0                                       covid19                                      1\n",
       "Name: alternative_delinquency_resolution, dtype: int64"
      ]
     },
     "execution_count": 41,
     "metadata": {},
     "output_type": "execute_result"
    }
   ],
   "source": [
    "data.groupby('alternative_delinquency_resolution_count')['alternative_delinquency_resolution'].value_counts()"
   ]
  },
  {
   "cell_type": "markdown",
   "metadata": {},
   "source": [
    "### Feature engineering"
   ]
  },
  {
   "cell_type": "code",
   "execution_count": 42,
   "metadata": {},
   "outputs": [],
   "source": [
    "# Create binary variable for payments that are current\n",
    "# def current_labels(x):\n",
    "#     if x == 0: return 1 # current payment, not late nor delinquent\n",
    "#     else: return 0      # late or delinquent\n",
    "\n",
    "# func = np.vectorize(current_labels)\n",
    "# current_labels_class = func(data['loan_delinquency_months'])\n",
    "\n",
    "# data['payment_current'] = current_labels_class\n",
    "# data['payment_current'] = label_enc.fit_transform(data['payment_current'].astype(str))\n",
    "\n",
    "# data['payment_current'].value_counts(dropna=False)\n",
    "\n",
    "# Create binary variable for payments that are late 1-2 months, \n",
    "# but not delinquent (late for 3+ months)\n",
    "\n",
    "# def late_labels(x):\n",
    "#     if x == 1: return 1 #late 1 month\n",
    "#     elif x == 2: return 1 #late 2 months\n",
    "#     else: return 0\n",
    "\n",
    "# func = np.vectorize(late_labels)\n",
    "# late_labels_class = func(data['loan_delinquency_months'])\n",
    "\n",
    "# data['payment_late'] = late_labels_class\n",
    "# data['payment_late'] = label_enc.fit_transform(data['payment_late'].astype(str))\n",
    "\n",
    "# data['payment_late'].value_counts(dropna=False)"
   ]
  },
  {
   "cell_type": "code",
   "execution_count": 43,
   "metadata": {},
   "outputs": [],
   "source": [
    "# Define target variable: Problem loans (0 for no problems; 1 for problem loans)\n",
    "# Problem loans defined as loans that are: 3+ months delinquent; modified;\n",
    "# receive borrower assistance; receive alternative delinquency resolution; \n",
    "# foreclosed.\n",
    "\n",
    "conditions = [(data['loan_delinquency_months'] == 3 ), #delinquent\n",
    "              (data['loan_delinquency_months'] == 4 ), #delinquent\n",
    "              (data['loan_delinquency_months'] == 5 ), #delinquent\n",
    "              (data['loan_delinquency_months'] == 6 ), #delinquent\n",
    "              (data['loan_delinquency_months'] == 7 ), #delinquent\n",
    "              (data['loan_delinquency_months'] == 8 ), #delinquent\n",
    "              (data['loan_delinquency_months'] == 9 ), #delinquent\n",
    "              (data['loan_delinquency_months'] == 10 ), #delinquent\n",
    "              (data['loan_delinquency_months'] == 11 ), #delinquent\n",
    "              (data['loan_delinquency_months'] == 12 ), #delinquent\n",
    "              (data['loan_delinquency_months'] == 13 ), #delinquent\n",
    "              (data['loan_delinquency_months'] == 14 ), #delinquent\n",
    "              (data['loan_delinquency_months'] == 15 ), #delinquent\n",
    "              (data['loan_delinquency_months'] == 16 ), #delinquent\n",
    "              (data['loan_delinquency_months'] == 17 ), #delinquent\n",
    "              (data['loan_delinquency_months'] == 18 ), #delinquent\n",
    "              (data['modification_flag'] == 1),         #modified\n",
    "              (data['borrower_assistance_plan'] == 'forbearance'), #borrower assistance plan\n",
    "              (data['borrower_assistance_plan'] == 'repayment'), #borrower assistance plan\n",
    "              (data['borrower_assistance_plan'] == 'trial_period'), #borrower assistance plan          \n",
    "              (data['borrower_assistance_plan'] == 'other'), #borrower assistance plan \n",
    "              (data['alternative_delinquency_resolution'] == 'covid19'), #alternative delinquency resolution\n",
    "              (data['alternative_delinquency_resolution'] == 'natural_disaster'), #alternative delinquency resolution\n",
    "              (data['alternative_delinquency_resolution'] == 'payment_deferral'), #alternative delinquency resolution\n",
    "              (data['foreclosure_status'] == 1)] #foreclosure\n",
    "\n",
    "choices = [1,1,1,1,1,1,1,1,1,1,1,1,1,1,1,1,1,1,1,1,1,1,1,1,1]\n",
    "\n",
    "data['problem_loans'] = np.select(conditions, choices, 0)"
   ]
  },
  {
   "cell_type": "code",
   "execution_count": 44,
   "metadata": {},
   "outputs": [],
   "source": [
    "# conditions = [\n",
    "#               #(data['loan_delinquency_months'] == 1 ), #late\n",
    "#               #(data['loan_delinquency_months'] == 2 ), #late\n",
    "#               (data['loan_delinquency_months'] == 3 ), #delinquent\n",
    "#               (data['loan_delinquency_months'] == 4 ), #delinquent\n",
    "#               (data['loan_delinquency_months'] == 5 ), #delinquent\n",
    "#               (data['loan_delinquency_months'] == 6 ), #delinquent\n",
    "#               (data['loan_delinquency_months'] == 7 ), #delinquent\n",
    "#               (data['loan_delinquency_months'] == 8 ), #delinquent\n",
    "#               (data['loan_delinquency_months'] == 9 ), #delinquent\n",
    "#               (data['loan_delinquency_months'] == 10 ), #delinquent\n",
    "#               (data['loan_delinquency_months'] == 11 ), #delinquent\n",
    "#               (data['loan_delinquency_months'] == 12 ), #delinquent\n",
    "#               (data['loan_delinquency_months'] == 13 ), #delinquent\n",
    "#               (data['loan_delinquency_months'] == 14 ), #delinquent\n",
    "#               (data['loan_delinquency_months'] == 15 ), #delinquent\n",
    "#               (data['loan_delinquency_months'] == 16 ), #delinquent\n",
    "#               (data['loan_delinquency_months'] == 17 ), #delinquent\n",
    "#               (data['loan_delinquency_months'] == 18 ), #delinquent\n",
    "#               (data['loan_delinquency_months'] == 0) & (\n",
    "#                   data['modification_flag'] == 1), #modified\n",
    "#               (data['loan_delinquency_months'] == 0) & (\n",
    "#                   data['borrower_assistance_status'] == 1), #borrower assistance\n",
    "#               (data['foreclosure_status'] == 1)] #foreclosure\n",
    "# choices = [1,1,1,1,1,1,1,1,1,1,1,1,1,1,1,1,1,1,1,1,1]\n",
    "# data['problem_loans'] = np.select(conditions, choices, 0)"
   ]
  },
  {
   "cell_type": "code",
   "execution_count": 45,
   "metadata": {},
   "outputs": [
    {
     "data": {
      "text/plain": [
       "0    22912691\n",
       "1       63815\n",
       "Name: problem_loans, dtype: int64"
      ]
     },
     "execution_count": 45,
     "metadata": {},
     "output_type": "execute_result"
    }
   ],
   "source": [
    "# Set data type to object\n",
    "data['problem_loans'] = data['problem_loans'].astype(int)\n",
    "data['problem_loans'].value_counts(dropna=False)"
   ]
  },
  {
   "cell_type": "markdown",
   "metadata": {},
   "source": [
    "- Target variable is highly unbalanced, with <1% classified as problem loans.\n",
    "- With over 63k instances of positive class, there is sufficient data to perform modelling."
   ]
  },
  {
   "cell_type": "code",
   "execution_count": 46,
   "metadata": {},
   "outputs": [
    {
     "data": {
      "text/plain": [
       "loan_delinquency_months  problem_loans\n",
       "0                        0                22821742\n",
       "                         1                   17761\n",
       "1                        0                   83028\n",
       "                         1                    8025\n",
       "2                        0                    7921\n",
       "                         1                    6668\n",
       "3                        1                    7595\n",
       "4                        1                    5386\n",
       "5                        1                    4324\n",
       "6                        1                    3266\n",
       "7                        1                    2577\n",
       "8                        1                    2145\n",
       "9                        1                    1725\n",
       "10                       1                    1408\n",
       "11                       1                    1145\n",
       "12                       1                     739\n",
       "13                       1                     455\n",
       "14                       1                     283\n",
       "15                       1                     176\n",
       "16                       1                      90\n",
       "17                       1                      45\n",
       "18                       1                       2\n",
       "Name: problem_loans, dtype: int64"
      ]
     },
     "execution_count": 46,
     "metadata": {},
     "output_type": "execute_result"
    }
   ],
   "source": [
    "# Are problems loans all delayed in payments?  \n",
    "data.groupby('loan_delinquency_months')['problem_loans'].value_counts()"
   ]
  },
  {
   "cell_type": "markdown",
   "metadata": {},
   "source": [
    "- Most problem loans are delayed in payments from 1-18 months. However, more than 17k problem loans  \n",
    "(around 28%) are not delayed in payments.\n",
    "- Delayed loan payments are either paid or modified within the period up to 4 months delayed."
   ]
  },
  {
   "cell_type": "markdown",
   "metadata": {},
   "source": [
    "### Feature selection"
   ]
  },
  {
   "cell_type": "code",
   "execution_count": 81,
   "metadata": {},
   "outputs": [
    {
     "data": {
      "text/plain": [
       "Index(['channel', 'seller_name', 'servicer_name', 'origination_interest_rate',\n",
       "       'current_interest_rate', 'origination_UPB', 'current_actual_UPB',\n",
       "       'origination_loan_term', 'months_to_legal_maturity',\n",
       "       'months_to_maturity', 'origination_ltv', 'origination_combined_ltv',\n",
       "       'number_of_borrowers', 'debt_to_income',\n",
       "       'borrower_credit_score_origination', 'first_time_homebuyer',\n",
       "       'loan_purpose', 'property_type', 'number_of_units', 'occupancy_status',\n",
       "       'property_state', 'zipcode_short', 'amortization_type',\n",
       "       'prepayment_penalty_indicator', 'interest_only_loan_indicator',\n",
       "       'loan_delinquency_months', 'loan_payment_history', 'modification_flag',\n",
       "       'mortgage_insurance_type', 'servicing_activity_indicator',\n",
       "       'special_eligibility_program', 'relocation_mortgage_indicator',\n",
       "       'property_valuation_method', 'high_balance_loan_indicator',\n",
       "       'borrower_assistance_plan', 'high_ltv_refinance_option_indicator',\n",
       "       'alternative_delinquency_resolution',\n",
       "       'alternative_delinquency_resolution_count', 'foreclosure_status',\n",
       "       'problem_loans'],\n",
       "      dtype='object')"
      ]
     },
     "execution_count": 81,
     "metadata": {},
     "output_type": "execute_result"
    }
   ],
   "source": [
    "data.columns"
   ]
  },
  {
   "cell_type": "code",
   "execution_count": 82,
   "metadata": {},
   "outputs": [],
   "source": [
    "# Create new df with subset of data that analysis will focus on\n",
    "df_new = data[['channel', 'seller_name', 'origination_interest_rate', \n",
    "           'origination_UPB', 'origination_loan_term', 'origination_ltv',\n",
    "           'origination_combined_ltv', 'number_of_borrowers', \n",
    "           'debt_to_income', 'borrower_credit_score_origination',\n",
    "           'first_time_homebuyer', 'loan_purpose', 'property_type', \n",
    "           'number_of_units', 'occupancy_status', 'property_state', \n",
    "           'zipcode_short', 'mortgage_insurance_type',\n",
    "           'special_eligibility_program', 'relocation_mortgage_indicator', \n",
    "           'high_balance_loan_indicator', 'loan_delinquency_months', \n",
    "           'modification_flag', 'borrower_assistance_plan', 'foreclosure_status',\n",
    "           'alternative_delinquency_resolution', \n",
    "           'alternative_delinquency_resolution_count', 'problem_loans']].copy()\n"
   ]
  },
  {
   "cell_type": "code",
   "execution_count": 83,
   "metadata": {},
   "outputs": [
    {
     "data": {
      "text/plain": [
       "Index(['channel', 'seller_name', 'origination_interest_rate',\n",
       "       'origination_UPB', 'origination_loan_term', 'origination_ltv',\n",
       "       'origination_combined_ltv', 'number_of_borrowers', 'debt_to_income',\n",
       "       'borrower_credit_score_origination', 'first_time_homebuyer',\n",
       "       'loan_purpose', 'property_type', 'number_of_units', 'occupancy_status',\n",
       "       'property_state', 'zipcode_short', 'mortgage_insurance_type',\n",
       "       'special_eligibility_program', 'relocation_mortgage_indicator',\n",
       "       'high_balance_loan_indicator', 'loan_delinquency_months',\n",
       "       'modification_flag', 'borrower_assistance_plan', 'foreclosure_status',\n",
       "       'alternative_delinquency_resolution',\n",
       "       'alternative_delinquency_resolution_count', 'problem_loans'],\n",
       "      dtype='object')"
      ]
     },
     "execution_count": 83,
     "metadata": {},
     "output_type": "execute_result"
    }
   ],
   "source": [
    "df_new.columns"
   ]
  },
  {
   "cell_type": "markdown",
   "metadata": {},
   "source": [
    "### TO DO: Save df to csv file"
   ]
  },
  {
   "cell_type": "code",
   "execution_count": null,
   "metadata": {},
   "outputs": [],
   "source": [
    "#df_new.to_csv(r'fm_mortgage_loans.csv', header=False, index=False, sep='|')"
   ]
  },
  {
   "cell_type": "code",
   "execution_count": 84,
   "metadata": {},
   "outputs": [],
   "source": [
    "# For this analysis, drop components of target variable and drop zipcode\n",
    "df = df_new.drop(['loan_delinquency_months', \n",
    "                  'modification_flag', 'borrower_assistance_plan', \n",
    "                  'foreclosure_status', 'alternative_delinquency_resolution', \n",
    "                  'alternative_delinquency_resolution_count', 'zipcode_short'], \n",
    "                 axis=1)"
   ]
  },
  {
   "cell_type": "markdown",
   "metadata": {},
   "source": [
    "## Exploratory Data Analysis"
   ]
  },
  {
   "cell_type": "code",
   "execution_count": 89,
   "metadata": {},
   "outputs": [
    {
     "name": "stdout",
     "output_type": "stream",
     "text": [
      "<class 'pandas.core.frame.DataFrame'>\n",
      "Int64Index: 22976506 entries, 0 to 23104272\n",
      "Data columns (total 21 columns):\n",
      " #   Column                             Dtype  \n",
      "---  ------                             -----  \n",
      " 0   channel                            object \n",
      " 1   seller_name                        object \n",
      " 2   origination_interest_rate          float64\n",
      " 3   origination_UPB                    float64\n",
      " 4   origination_loan_term              int64  \n",
      " 5   origination_ltv                    int64  \n",
      " 6   origination_combined_ltv           int64  \n",
      " 7   number_of_borrowers                int64  \n",
      " 8   debt_to_income                     float64\n",
      " 9   borrower_credit_score_origination  float64\n",
      " 10  first_time_homebuyer               int64  \n",
      " 11  loan_purpose                       object \n",
      " 12  property_type                      object \n",
      " 13  number_of_units                    int64  \n",
      " 14  occupancy_status                   object \n",
      " 15  property_state                     object \n",
      " 16  mortgage_insurance_type            object \n",
      " 17  special_eligibility_program        int64  \n",
      " 18  relocation_mortgage_indicator      int64  \n",
      " 19  high_balance_loan_indicator        int64  \n",
      " 20  problem_loans                      int64  \n",
      "dtypes: float64(4), int64(10), object(7)\n",
      "memory usage: 3.8+ GB\n"
     ]
    }
   ],
   "source": [
    "df.info()"
   ]
  },
  {
   "cell_type": "code",
   "execution_count": 90,
   "metadata": {},
   "outputs": [],
   "source": [
    "# Select numerical continuous variables and categorical variables\n",
    "numerical_cols = df.select_dtypes(include=['float', 'int64'])\n",
    "categorical_cols = df.select_dtypes('object')"
   ]
  },
  {
   "cell_type": "code",
   "execution_count": 91,
   "metadata": {},
   "outputs": [
    {
     "data": {
      "text/plain": [
       "Index(['origination_interest_rate', 'origination_UPB', 'origination_loan_term',\n",
       "       'origination_ltv', 'origination_combined_ltv', 'number_of_borrowers',\n",
       "       'debt_to_income', 'borrower_credit_score_origination',\n",
       "       'first_time_homebuyer', 'number_of_units',\n",
       "       'special_eligibility_program', 'relocation_mortgage_indicator',\n",
       "       'high_balance_loan_indicator', 'problem_loans'],\n",
       "      dtype='object')"
      ]
     },
     "execution_count": 91,
     "metadata": {},
     "output_type": "execute_result"
    }
   ],
   "source": [
    "numerical_cols.columns"
   ]
  },
  {
   "cell_type": "code",
   "execution_count": 92,
   "metadata": {},
   "outputs": [
    {
     "data": {
      "text/plain": [
       "Index(['channel', 'seller_name', 'loan_purpose', 'property_type',\n",
       "       'occupancy_status', 'property_state', 'mortgage_insurance_type'],\n",
       "      dtype='object')"
      ]
     },
     "execution_count": 92,
     "metadata": {},
     "output_type": "execute_result"
    }
   ],
   "source": [
    "categorical_cols.columns"
   ]
  },
  {
   "cell_type": "code",
   "execution_count": 93,
   "metadata": {},
   "outputs": [
    {
     "data": {
      "image/png": "[encoded data removed]",
      "text/plain": [
       "<Figure size 720x720 with 15 Axes>"
      ]
     },
     "metadata": {
      "needs_background": "light"
     },
     "output_type": "display_data"
    }
   ],
   "source": [
    "# Create histograms for numerical continuous variables\n",
    "fig, axes = plt.subplots(nrows = 5, ncols = 3, figsize = (10,10))\n",
    "fig.set_tight_layout(True)\n",
    "\n",
    "for index, col in enumerate(numerical_cols.columns):\n",
    "    ax=axes[index//3][index%3]\n",
    "    ax.hist(data[col])\n",
    "    \n",
    "    axes.flat[-1].set_visible(False) # to remove empty subplot\n",
    "    \n",
    "    # Set column name as title\n",
    "    ax.set_title(col)"
   ]
  },
  {
   "cell_type": "code",
   "execution_count": 94,
   "metadata": {},
   "outputs": [
    {
     "name": "stdout",
     "output_type": "stream",
     "text": [
      "0    22912691\n",
      "1       63815\n",
      "Name: problem_loans, dtype: int64\n"
     ]
    },
    {
     "data": {
      "text/plain": [
       "<matplotlib.axes._subplots.AxesSubplot at 0x7f9107e3f320>"
      ]
     },
     "execution_count": 94,
     "metadata": {},
     "output_type": "execute_result"
    },
    {
     "data": {
      "image/png": "[encoded data removed]",
      "text/plain": [
       "<Figure size 432x288 with 1 Axes>"
      ]
     },
     "metadata": {
      "needs_background": "light"
     },
     "output_type": "display_data"
    }
   ],
   "source": [
    "# Examine distribution of target variable\n",
    "print(data['problem_loans'].value_counts())"
   ]
  },
  {
   "cell_type": "markdown",
   "metadata": {},
   "source": [
    "- Distribution of target variable is highly unbalanced, with less than 1% of observations  \n",
    "classified as a problem loan. Nonetheless, at over 63k observations, the value count of  \n",
    "problem loans is large enough to train models in this analysis."
   ]
  },
  {
   "cell_type": "code",
   "execution_count": 95,
   "metadata": {},
   "outputs": [
    {
     "data": {
      "text/html": [
       "<div>\n",
       "<style scoped>\n",
       "    .dataframe tbody tr th:only-of-type {\n",
       "        vertical-align: middle;\n",
       "    }\n",
       "\n",
       "    .dataframe tbody tr th {\n",
       "        vertical-align: top;\n",
       "    }\n",
       "\n",
       "    .dataframe thead th {\n",
       "        text-align: right;\n",
       "    }\n",
       "</style>\n",
       "<table border=\"1\" class=\"dataframe\">\n",
       "  <thead>\n",
       "    <tr style=\"text-align: right;\">\n",
       "      <th></th>\n",
       "      <th>origination_interest_rate</th>\n",
       "      <th>origination_UPB</th>\n",
       "      <th>origination_loan_term</th>\n",
       "      <th>origination_ltv</th>\n",
       "      <th>origination_combined_ltv</th>\n",
       "      <th>number_of_borrowers</th>\n",
       "      <th>debt_to_income</th>\n",
       "      <th>borrower_credit_score_origination</th>\n",
       "      <th>first_time_homebuyer</th>\n",
       "      <th>number_of_units</th>\n",
       "      <th>special_eligibility_program</th>\n",
       "      <th>relocation_mortgage_indicator</th>\n",
       "      <th>high_balance_loan_indicator</th>\n",
       "      <th>problem_loans</th>\n",
       "    </tr>\n",
       "    <tr>\n",
       "      <th>problem_loans</th>\n",
       "      <th></th>\n",
       "      <th></th>\n",
       "      <th></th>\n",
       "      <th></th>\n",
       "      <th></th>\n",
       "      <th></th>\n",
       "      <th></th>\n",
       "      <th></th>\n",
       "      <th></th>\n",
       "      <th></th>\n",
       "      <th></th>\n",
       "      <th></th>\n",
       "      <th></th>\n",
       "      <th></th>\n",
       "    </tr>\n",
       "  </thead>\n",
       "  <tbody>\n",
       "    <tr>\n",
       "      <th>0</th>\n",
       "      <td>2.786097</td>\n",
       "      <td>282150.659082</td>\n",
       "      <td>314.604481</td>\n",
       "      <td>66.947668</td>\n",
       "      <td>67.226441</td>\n",
       "      <td>1.479667</td>\n",
       "      <td>32.864692</td>\n",
       "      <td>765.910337</td>\n",
       "      <td>0.111871</td>\n",
       "      <td>1.024431</td>\n",
       "      <td>0.039080</td>\n",
       "      <td>0.000973</td>\n",
       "      <td>0.038890</td>\n",
       "      <td>0.0</td>\n",
       "    </tr>\n",
       "    <tr>\n",
       "      <th>1</th>\n",
       "      <td>2.958554</td>\n",
       "      <td>314239.442137</td>\n",
       "      <td>342.506809</td>\n",
       "      <td>78.810530</td>\n",
       "      <td>79.203541</td>\n",
       "      <td>1.294570</td>\n",
       "      <td>38.237280</td>\n",
       "      <td>725.325107</td>\n",
       "      <td>0.242106</td>\n",
       "      <td>1.039740</td>\n",
       "      <td>0.075609</td>\n",
       "      <td>0.001128</td>\n",
       "      <td>0.060691</td>\n",
       "      <td>1.0</td>\n",
       "    </tr>\n",
       "  </tbody>\n",
       "</table>\n",
       "</div>"
      ],
      "text/plain": [
       "               origination_interest_rate  origination_UPB  \\\n",
       "problem_loans                                               \n",
       "0                               2.786097    282150.659082   \n",
       "1                               2.958554    314239.442137   \n",
       "\n",
       "               origination_loan_term  origination_ltv  \\\n",
       "problem_loans                                           \n",
       "0                         314.604481        66.947668   \n",
       "1                         342.506809        78.810530   \n",
       "\n",
       "               origination_combined_ltv  number_of_borrowers  debt_to_income  \\\n",
       "problem_loans                                                                  \n",
       "0                             67.226441             1.479667       32.864692   \n",
       "1                             79.203541             1.294570       38.237280   \n",
       "\n",
       "               borrower_credit_score_origination  first_time_homebuyer  \\\n",
       "problem_loans                                                            \n",
       "0                                     765.910337              0.111871   \n",
       "1                                     725.325107              0.242106   \n",
       "\n",
       "               number_of_units  special_eligibility_program  \\\n",
       "problem_loans                                                 \n",
       "0                     1.024431                     0.039080   \n",
       "1                     1.039740                     0.075609   \n",
       "\n",
       "               relocation_mortgage_indicator  high_balance_loan_indicator  \\\n",
       "problem_loans                                                               \n",
       "0                                   0.000973                     0.038890   \n",
       "1                                   0.001128                     0.060691   \n",
       "\n",
       "               problem_loans  \n",
       "problem_loans                 \n",
       "0                        0.0  \n",
       "1                        1.0  "
      ]
     },
     "execution_count": 95,
     "metadata": {},
     "output_type": "execute_result"
    }
   ],
   "source": [
    "# Examine problem loans according to mean values of numerical continuous variables\n",
    "data.groupby('problem_loans')[numerical_cols.columns].mean()"
   ]
  },
  {
   "cell_type": "markdown",
   "metadata": {},
   "source": [
    "- As expected, interest rates, unpaid principal balance, LTV, and combined LTV (which accounts for  \n",
    "original loan amount, home equity line of credit drawn, and outstanding principal balance of any  \n",
    "other underlying mortgage loan) are higher for problem loans than performing loans\n",
    "- Also expected, debt-to-income is higher and borrower credit score is lower for problem loans\n"
   ]
  },
  {
   "cell_type": "code",
   "execution_count": 96,
   "metadata": {},
   "outputs": [
    {
     "name": "stdout",
     "output_type": "stream",
     "text": [
      "11.372925074636376 %\n"
     ]
    }
   ],
   "source": [
    "# Unpaid principal balance at origination difference between problem loans and non-problem loans\n",
    "print(f'{100*(314239.442137-282150.659082)/282150.6590821}', '%')"
   ]
  },
  {
   "cell_type": "markdown",
   "metadata": {},
   "source": [
    "- problem loans are associated with higher interest rates, higher unpaid principal balances, longer loan term,  \n",
    "months to maturity, loan-to-values, debt-to-income, number of units\n",
    "    - mean unpaid principal balance is 11% higher for problem loans compared to non-problem loans.\n",
    "- problem loans are associated with lower number of borrowers and lower credit score"
   ]
  },
  {
   "cell_type": "code",
   "execution_count": 97,
   "metadata": {},
   "outputs": [
    {
     "data": {
      "image/png": "[encoded data removed]",
      "text/plain": [
       "<Figure size 720x720 with 30 Axes>"
      ]
     },
     "metadata": {
      "needs_background": "light"
     },
     "output_type": "display_data"
    }
   ],
   "source": [
    "# Plot problem loan classication by mean numerical values\n",
    "data.groupby('problem_loans')[numerical_cols.columns].mean().plot(kind='bar', \n",
    "                                                          subplots=True, \n",
    "                                                          layout=(6,5), \n",
    "                                                          figsize=(10,10),\n",
    "                                                          legend=False)\n",
    "plt.tight_layout()\n",
    "plt.show()"
   ]
  },
  {
   "cell_type": "code",
   "execution_count": 301,
   "metadata": {},
   "outputs": [
    {
     "data": {
      "text/plain": [
       "<matplotlib.axes._subplots.AxesSubplot at 0x7f8fa7e18390>"
      ]
     },
     "execution_count": 301,
     "metadata": {},
     "output_type": "execute_result"
    },
    {
     "data": {
      "image/png": "[encoded data removed]",
      "text/plain": [
       "<Figure size 432x288 with 1 Axes>"
      ]
     },
     "metadata": {
      "needs_background": "light"
     },
     "output_type": "display_data"
    }
   ],
   "source": [
    "data.groupby('problem_loans')['borrower_credit_score_origination'].mean().plot(kind='bar')"
   ]
  },
  {
   "cell_type": "code",
   "execution_count": 356,
   "metadata": {},
   "outputs": [
    {
     "data": {
      "image/png": "[encoded data removed]",
      "text/plain": [
       "<Figure size 792x432 with 5 Axes>"
      ]
     },
     "metadata": {
      "needs_background": "light"
     },
     "output_type": "display_data"
    }
   ],
   "source": [
    "# Plot problem loans by credit score, combined loan-to-value, debt-to-income,\n",
    "# and unpaid principal balance\n",
    "fig, axes = plt.subplots(nrows = 1, ncols = 5, figsize = (11,6))\n",
    "fig.set_tight_layout(True)\n",
    "\n",
    "data.groupby('problem_loans')['borrower_credit_score_origination'].mean().plot(\n",
    "kind='bar',  color='slategray', ax=axes[0])\n",
    "\n",
    "data.groupby('problem_loans')['origination_combined_ltv'].mean().plot(\n",
    "kind='bar', color='green', ax = axes[1])\n",
    "\n",
    "data.groupby('problem_loans')['debt_to_income'].mean().plot(\n",
    "kind='bar', color='navy', ax = axes[2])\n",
    "\n",
    "data.groupby('problem_loans')['origination_UPB'].mean().plot(\n",
    "kind='bar', color='orange', ax = axes[3])\n",
    "\n",
    "data.groupby('problem_loans')['origination_interest_rate'].mean().plot(\n",
    "kind='bar',  color='firebrick', ax=axes[4])\n",
    "\n",
    "# Set y-axis ticks range and label\n",
    "axes[3].set_ylim([0, 350000])\n",
    "axes[3].yaxis.set_major_formatter(StrMethodFormatter('{x:,.0f}'))\n",
    "\n",
    "# Format x-tick labels and x-labels\n",
    "xlabels = ['Performing', 'Problem']\n",
    "axes[0].set_xticklabels(xlabels, rotation=0)\n",
    "axes[0].set_xlabel('Loans')\n",
    "axes[1].set_xticklabels(xlabels, rotation=0)\n",
    "axes[1].set_xlabel('Loans')\n",
    "axes[2].set_xticklabels(xlabels, rotation=0)\n",
    "axes[2].set_xlabel('Loans')\n",
    "axes[3].set_xticklabels(xlabels, rotation=0)\n",
    "axes[3].set_xlabel('Loans')\n",
    "axes[4].set_xticklabels(xlabels, rotation=0)\n",
    "axes[4].set_xlabel('Loans')\n",
    "\n",
    "# Format subplot titles\n",
    "axes[0].set_title('Credit score', fontweight='bold')\n",
    "axes[1].set_title('Combined loan-to-value (%)', fontweight='bold')\n",
    "axes[2].set_title('Debt-to-income (%)', fontweight='bold')\n",
    "axes[3].set_title('Unpaid principal balance ($)', fontweight='bold')\n",
    "axes[4].set_title('Interest rate (%)', fontweight='bold')\n",
    "\n",
    "# Remove grid lines\n",
    "axes[0].grid(False)\n",
    "axes[1].grid(False)\n",
    "axes[2].grid(False)\n",
    "axes[3].grid(False)\n",
    "axes[4].grid(False)\n",
    "\n",
    "# Remove borders\n",
    "#sns.despine(ax=ax)\n",
    "\n",
    "# Set title\n",
    "fig.suptitle('Classification of Problem Loans',\n",
    "             fontsize=13, fontweight='bold', y=1.03)\n",
    "\n",
    "plt.show()"
   ]
  },
  {
   "cell_type": "code",
   "execution_count": 100,
   "metadata": {},
   "outputs": [
    {
     "data": {
      "text/plain": [
       "Index(['channel', 'seller_name', 'loan_purpose', 'property_type',\n",
       "       'occupancy_status', 'property_state', 'mortgage_insurance_type'],\n",
       "      dtype='object')"
      ]
     },
     "execution_count": 100,
     "metadata": {},
     "output_type": "execute_result"
    }
   ],
   "source": [
    "categorical_cols.columns"
   ]
  },
  {
   "cell_type": "code",
   "execution_count": null,
   "metadata": {},
   "outputs": [],
   "source": [
    "# Plot problem loan classication by categorical values\n",
    "# fig, axes = plt.subplots(nrows = 5, ncols = 2)\n",
    "# axes = axes.flatten()   \n",
    "# fig.set_size_inches(10, 15)\n",
    "# plt.suptitle('Counts of Categorical Variables', y=1.02)\n",
    "# plt.tight_layout()\n",
    "\n",
    "# cat_cols = categorical_cols[['channel', 'loan_purpose',\n",
    "#        'property_type', 'occupancy_status', 'property_state',\n",
    "#        'amortization_type', 'loan_payment_history', 'mortgage_insurance_type',\n",
    "#        'property_valuation_method', 'borrower_assistance_plan', \n",
    "#         'alternative_delinquency_resolution'\n",
    "#                             ]]\n",
    "\n",
    "# for ax, col in zip(axes, cat_cols.columns):\n",
    "#     sns.countplot(x=cat_cols[col], ax = ax,  data=data, palette='viridis')\n",
    "#     axes.flat[-1].set_visible(False) # to remove empty subplot\n",
    "#     sns.despine()"
   ]
  },
  {
   "cell_type": "code",
   "execution_count": 102,
   "metadata": {},
   "outputs": [
    {
     "data": {
      "image/png": "[encoded data removed]",
      "text/plain": [
       "<Figure size 648x504 with 2 Axes>"
      ]
     },
     "metadata": {
      "needs_background": "light"
     },
     "output_type": "display_data"
    }
   ],
   "source": [
    "# Plot sellers of loans that are classified as performing loans and problem loans\n",
    "# Create figure and set size\n",
    "fig, axes = plt.subplots(nrows = 2, ncols = 1, figsize= (9,7))\n",
    "\n",
    "data[(data.problem_loans == 0)]['seller_name'].value_counts(\n",
    "    normalize=True, ascending=True).plot(kind='barh', color = 'navy', ax=axes[0])\n",
    "axes[0].set_title('Performing Loans')\n",
    "\n",
    "data[(data.problem_loans == 1)]['seller_name'].value_counts(\n",
    "    normalize=True, ascending=True).plot(kind='barh', color = 'red', ax=axes[1])\n",
    "axes[1].set_title('Problem Loans')\n",
    "\n",
    "# Set title\n",
    "fig.suptitle('Performing and Problem Loans by Seller',\n",
    "             fontsize=13, y=1.05)\n",
    "\n",
    "fig.tight_layout()"
   ]
  },
  {
   "cell_type": "code",
   "execution_count": null,
   "metadata": {},
   "outputs": [],
   "source": []
  },
  {
   "cell_type": "code",
   "execution_count": 358,
   "metadata": {},
   "outputs": [
    {
     "data": {
      "text/plain": [
       "Other                                              11616011\n",
       "Rocket Mortgage, LLC                                2554627\n",
       "United Wholesale Mortgage, LLC                      1284332\n",
       "Wells Fargo Bank, N.A.                              1083402\n",
       "PennyMac Corp.                                       650200\n",
       "loanDepot.com, LLC                                   614706\n",
       "Home Point Financial Corporation                     593703\n",
       "JPMorgan Chase Bank, National Association            490766\n",
       "Amerisave Mortgage Corporation                       391845\n",
       "Better Mortgage Corporation                          385498\n",
       "Caliber Home Loans, Inc.                             384440\n",
       "Quicken Loans, LLC                                   366090\n",
       "U.S. Bank N.A.                                       351111\n",
       "NationStar Mortgage, LLC                             326977\n",
       "CrossCountry Mortgage, LLC                           302758\n",
       "Broker Solutions, Inc. dba New American Funding      294043\n",
       "Movement Mortgage, LLC                               291592\n",
       "NewRez LLC                                           264868\n",
       "Flagstar Bank, FSB                                   228468\n",
       "Cardinal Financial Company, Limited Partnership      212428\n",
       "Finance of America Mortgage LLC                      209998\n",
       "Guaranteed Rate, Inc.                                 45126\n",
       "Guild Mortgage Company LLC                            33517\n",
       "Name: seller_name, dtype: int64"
      ]
     },
     "execution_count": 358,
     "metadata": {},
     "output_type": "execute_result"
    }
   ],
   "source": [
    "data.seller_name.value_counts()"
   ]
  },
  {
   "cell_type": "code",
   "execution_count": null,
   "metadata": {},
   "outputs": [],
   "source": [
    "# data.loc[data['problem_loans'] | (data['seller_name'] == 'Rocket Mortgage, LLC')"
   ]
  },
  {
   "cell_type": "code",
   "execution_count": 103,
   "metadata": {},
   "outputs": [
    {
     "data": {
      "text/plain": [
       "0    22912691\n",
       "1       63815\n",
       "Name: problem_loans, dtype: int64"
      ]
     },
     "execution_count": 103,
     "metadata": {},
     "output_type": "execute_result"
    }
   ],
   "source": [
    "data.problem_loans.value_counts(dropna=False)"
   ]
  },
  {
   "cell_type": "code",
   "execution_count": 104,
   "metadata": {},
   "outputs": [
    {
     "data": {
      "text/plain": [
       "Other                             26677\n",
       "Rocket Mortgage, LLC               7553\n",
       "United Wholesale Mortgage, LLC     5083\n",
       "Wells Fargo Bank, N.A.             4094\n",
       "PennyMac Corp.                     2860\n",
       "Name: seller_name, dtype: int64"
      ]
     },
     "execution_count": 104,
     "metadata": {},
     "output_type": "execute_result"
    }
   ],
   "source": [
    "# Calculate share of Rocket Mortgage loans that are classified as problem loans\n",
    "data[(data.problem_loans == 1)]['seller_name'].value_counts(ascending=False).head()"
   ]
  },
  {
   "cell_type": "code",
   "execution_count": 105,
   "metadata": {},
   "outputs": [
    {
     "data": {
      "text/plain": [
       "0.11835775287941706"
      ]
     },
     "execution_count": 105,
     "metadata": {},
     "output_type": "execute_result"
    }
   ],
   "source": [
    "# Rocket mortgage problem loans / total problem loans\n",
    "7553/63815"
   ]
  },
  {
   "cell_type": "code",
   "execution_count": 106,
   "metadata": {},
   "outputs": [
    {
     "data": {
      "text/plain": [
       "Other                             11616011\n",
       "Rocket Mortgage, LLC               2554627\n",
       "United Wholesale Mortgage, LLC     1284332\n",
       "Wells Fargo Bank, N.A.             1083402\n",
       "PennyMac Corp.                      650200\n",
       "Name: seller_name, dtype: int64"
      ]
     },
     "execution_count": 106,
     "metadata": {},
     "output_type": "execute_result"
    }
   ],
   "source": [
    "# Total number of loans by seller\n",
    "data.seller_name.value_counts().head()"
   ]
  },
  {
   "cell_type": "code",
   "execution_count": 108,
   "metadata": {},
   "outputs": [
    {
     "data": {
      "text/plain": [
       "0.11118431148756909"
      ]
     },
     "execution_count": 108,
     "metadata": {},
     "output_type": "execute_result"
    }
   ],
   "source": [
    "# Rocket mortgage loans / total loans\n",
    "2554627 / 22976506"
   ]
  },
  {
   "cell_type": "code",
   "execution_count": 109,
   "metadata": {},
   "outputs": [
    {
     "data": {
      "text/plain": [
       "<matplotlib.axes._subplots.AxesSubplot at 0x7f910103dc50>"
      ]
     },
     "execution_count": 109,
     "metadata": {},
     "output_type": "execute_result"
    },
    {
     "data": {
      "image/png": "[encoded data removed]",
      "text/plain": [
       "<Figure size 432x288 with 1 Axes>"
      ]
     },
     "metadata": {
      "needs_background": "light"
     },
     "output_type": "display_data"
    }
   ],
   "source": [
    "sns.countplot(x='occupancy_status', data=data, palette='viridis')"
   ]
  },
  {
   "cell_type": "code",
   "execution_count": 110,
   "metadata": {},
   "outputs": [
    {
     "data": {
      "text/plain": [
       "<matplotlib.axes._subplots.AxesSubplot at 0x7f9100f08f28>"
      ]
     },
     "execution_count": 110,
     "metadata": {},
     "output_type": "execute_result"
    },
    {
     "data": {
      "image/png": "[encoded data removed]",
      "text/plain": [
       "<Figure size 432x288 with 1 Axes>"
      ]
     },
     "metadata": {
      "needs_background": "light"
     },
     "output_type": "display_data"
    }
   ],
   "source": [
    "data.groupby('problem_loans')['property_type'].value_counts(normalize=True).plot(kind='bar')"
   ]
  },
  {
   "cell_type": "markdown",
   "metadata": {},
   "source": [
    "- Majority of performing and problem loans are single-family homes, followed by planned urban developments, and condos. The share of performing and problem loans are roughly equal these property types."
   ]
  },
  {
   "cell_type": "code",
   "execution_count": 112,
   "metadata": {},
   "outputs": [
    {
     "data": {
      "text/plain": [
       "problem_loans  loan_purpose\n",
       "0              R               0.551703\n",
       "               P               0.241763\n",
       "               C               0.206534\n",
       "1              P               0.436386\n",
       "               R               0.391131\n",
       "               C               0.172483\n",
       "Name: loan_purpose, dtype: float64"
      ]
     },
     "execution_count": 112,
     "metadata": {},
     "output_type": "execute_result"
    }
   ],
   "source": [
    "data.groupby('problem_loans')['loan_purpose'].value_counts(normalize=True)"
   ]
  },
  {
   "cell_type": "markdown",
   "metadata": {},
   "source": [
    "- Loans for purchase for higher shares of problem loans than they do for performing loans."
   ]
  },
  {
   "cell_type": "code",
   "execution_count": 113,
   "metadata": {},
   "outputs": [
    {
     "data": {
      "text/plain": [
       "problem_loans  first_time_homebuyer\n",
       "0              0                       0.888129\n",
       "               1                       0.111871\n",
       "1              0                       0.757894\n",
       "               1                       0.242106\n",
       "Name: first_time_homebuyer, dtype: float64"
      ]
     },
     "execution_count": 113,
     "metadata": {},
     "output_type": "execute_result"
    }
   ],
   "source": [
    "data.groupby('problem_loans')['first_time_homebuyer'].value_counts(normalize=True)"
   ]
  },
  {
   "cell_type": "markdown",
   "metadata": {},
   "source": [
    "- First-time homebuyers account for a larger share of problem loans than they do for performing loans."
   ]
  },
  {
   "cell_type": "code",
   "execution_count": 114,
   "metadata": {},
   "outputs": [
    {
     "data": {
      "text/plain": [
       "problem_loans  occupancy_status\n",
       "0              P                   0.893324\n",
       "               I                   0.071385\n",
       "               S                   0.035291\n",
       "1              P                   0.927854\n",
       "               I                   0.054407\n",
       "               S                   0.017739\n",
       "Name: occupancy_status, dtype: float64"
      ]
     },
     "execution_count": 114,
     "metadata": {},
     "output_type": "execute_result"
    }
   ],
   "source": [
    "data.groupby('problem_loans')['occupancy_status'].value_counts(normalize=True)"
   ]
  },
  {
   "cell_type": "markdown",
   "metadata": {},
   "source": [
    "- Problem loans have higher share of primary home occupancy status than investment or secondary  \n",
    "home status compared to performing loans."
   ]
  },
  {
   "cell_type": "markdown",
   "metadata": {},
   "source": [
    "## Modelling"
   ]
  },
  {
   "cell_type": "markdown",
   "metadata": {},
   "source": [
    "### Undersampling"
   ]
  },
  {
   "cell_type": "markdown",
   "metadata": {},
   "source": [
    "To balance distribution of target variable, perform undersampling of majority class."
   ]
  },
  {
   "cell_type": "code",
   "execution_count": 116,
   "metadata": {},
   "outputs": [
    {
     "data": {
      "text/plain": [
       "0    22912691\n",
       "1       63815\n",
       "Name: problem_loans, dtype: int64"
      ]
     },
     "execution_count": 116,
     "metadata": {},
     "output_type": "execute_result"
    }
   ],
   "source": [
    "df.problem_loans.value_counts()"
   ]
  },
  {
   "cell_type": "markdown",
   "metadata": {},
   "source": [
    "- There are 63,815 instances of problem loans."
   ]
  },
  {
   "cell_type": "code",
   "execution_count": 120,
   "metadata": {},
   "outputs": [],
   "source": [
    "# Create new dataframe with problem loans and random equivalent sample of non-problem loans\n",
    "\n",
    "# Create df with problem loans\n",
    "df_problem_loans = df.loc[df.problem_loans == 1]\n",
    "\n",
    "# Create random sample of non-problem loans, equal to size of problem loans df\n",
    "df_nonproblem_loans = df.loc[df.problem_loans == 0].sample(n=63815)\n",
    "\n",
    "# Concat df_problem_loans and df_nonproblem_loans into new, balanced df:\n",
    "df_balanced = pd.concat([df_problem_loans, df_nonproblem_loans], axis=0)"
   ]
  },
  {
   "cell_type": "code",
   "execution_count": 121,
   "metadata": {},
   "outputs": [
    {
     "data": {
      "text/plain": [
       "(127630, 21)"
      ]
     },
     "execution_count": 121,
     "metadata": {},
     "output_type": "execute_result"
    }
   ],
   "source": [
    "df_balanced.shape"
   ]
  },
  {
   "cell_type": "code",
   "execution_count": 122,
   "metadata": {},
   "outputs": [
    {
     "data": {
      "text/plain": [
       "1    63815\n",
       "0    63815\n",
       "Name: problem_loans, dtype: int64"
      ]
     },
     "execution_count": 122,
     "metadata": {},
     "output_type": "execute_result"
    }
   ],
   "source": [
    "df_balanced.problem_loans.value_counts()"
   ]
  },
  {
   "cell_type": "markdown",
   "metadata": {},
   "source": [
    "### Train-test-split"
   ]
  },
  {
   "cell_type": "code",
   "execution_count": 123,
   "metadata": {},
   "outputs": [],
   "source": [
    "X = df_balanced.drop(['problem_loans'], axis=1)\n",
    "y = df_balanced['problem_loans']"
   ]
  },
  {
   "cell_type": "code",
   "execution_count": 180,
   "metadata": {},
   "outputs": [],
   "source": [
    "# Split data into train and test sets\n",
    "X_train,X_test,y_train,y_test = train_test_split(X,y,test_size=.20,\n",
    "                                                random_state=42)\n",
    "\n",
    "# For model evaluation, split test set into validate and test sets\n",
    "# 80(train)-10(validate)-10(test) split\n",
    "X_test,X_validate,y_test,y_validate = train_test_split(X_test,y_test,test_size=.50,\n",
    "                                                random_state=42)"
   ]
  },
  {
   "cell_type": "markdown",
   "metadata": {},
   "source": [
    "### Build column transformer for pipeline"
   ]
  },
  {
   "cell_type": "code",
   "execution_count": 126,
   "metadata": {},
   "outputs": [
    {
     "data": {
      "text/plain": [
       "origination_loan_term            int64\n",
       "origination_ltv                  int64\n",
       "origination_combined_ltv         int64\n",
       "number_of_borrowers              int64\n",
       "first_time_homebuyer             int64\n",
       "number_of_units                  int64\n",
       "special_eligibility_program      int64\n",
       "relocation_mortgage_indicator    int64\n",
       "high_balance_loan_indicator      int64\n",
       "problem_loans                    int64\n",
       "dtype: object"
      ]
     },
     "execution_count": 126,
     "metadata": {},
     "output_type": "execute_result"
    }
   ],
   "source": [
    "# Filter for integer data types\n",
    "df_balanced.dtypes[df.dtypes == 'int64']"
   ]
  },
  {
   "cell_type": "code",
   "execution_count": 127,
   "metadata": {},
   "outputs": [
    {
     "data": {
      "text/plain": [
       "origination_interest_rate            float64\n",
       "origination_UPB                      float64\n",
       "debt_to_income                       float64\n",
       "borrower_credit_score_origination    float64\n",
       "dtype: object"
      ]
     },
     "execution_count": 127,
     "metadata": {},
     "output_type": "execute_result"
    }
   ],
   "source": [
    "# Filter for float data types\n",
    "df_balanced.dtypes[df.dtypes == 'float']"
   ]
  },
  {
   "cell_type": "code",
   "execution_count": 128,
   "metadata": {},
   "outputs": [
    {
     "data": {
      "text/plain": [
       "channel                    object\n",
       "seller_name                object\n",
       "loan_purpose               object\n",
       "property_type              object\n",
       "occupancy_status           object\n",
       "property_state             object\n",
       "mortgage_insurance_type    object\n",
       "dtype: object"
      ]
     },
     "execution_count": 128,
     "metadata": {},
     "output_type": "execute_result"
    }
   ],
   "source": [
    "# Filter for object data types\n",
    "df_balanced.dtypes[df.dtypes == 'object']"
   ]
  },
  {
   "cell_type": "code",
   "execution_count": 129,
   "metadata": {},
   "outputs": [],
   "source": [
    "# Define lists of numeric and categorical features\n",
    "\n",
    "numeric_features = ['origination_loan_term', 'origination_ltv', 'origination_combined_ltv',\n",
    "                    'number_of_borrowers', 'first_time_homebuyer',\n",
    "                    'number_of_units', 'special_eligibility_program',\n",
    "                    'relocation_mortgage_indicator', 'high_balance_loan_indicator',\n",
    "                    'origination_interest_rate', 'origination_UPB', \n",
    "                    'debt_to_income', 'borrower_credit_score_origination']\n",
    "\n",
    "categorical_features = ['channel', 'seller_name', 'loan_purpose', 'property_type', \n",
    "                        'occupancy_status', 'property_state', 'mortgage_insurance_type']"
   ]
  },
  {
   "cell_type": "code",
   "execution_count": 130,
   "metadata": {},
   "outputs": [],
   "source": [
    "# Build column transformer for scaling numerical features and one-hot-encoding  \n",
    "# categorical features\n",
    "\n",
    "# Instantiate MinMaxScaler and OneHotEncoder\n",
    "numeric_transformer = MinMaxScaler()\n",
    "categorical_transformer = OneHotEncoder(sparse=False, handle_unknown='ignore')\n",
    "\n",
    "# Define preprocessor for numeric and categorical data\n",
    "feature_preprocessor = ColumnTransformer(transformers=\n",
    "                [('num', numeric_transformer, numeric_features),\n",
    "                ('cat', categorical_transformer, categorical_features)])\n",
    "\n",
    "# Define preprocessor for categorical data\n",
    "# feature_preprocessor = ColumnTransformer(transformers=\n",
    "#                 [('cat', categorical_transformer, categorical_features)])\n",
    "\n",
    "# Define preprocessor for numeric data only (MinMaxScaler)\n",
    "# numeric_preprocessor = ColumnTransformer(transformers=\n",
    "#                         [('num', numeric_transformer, numeric_features)])\n",
    "\n",
    "# Define preprocessor for categorical data only (ohe)\n",
    "# categorical_preprocessor = ColumnTransformer(transformers=\n",
    "#                      [('cat', categorical_transformer, categorical_features)])"
   ]
  },
  {
   "cell_type": "code",
   "execution_count": 131,
   "metadata": {},
   "outputs": [
    {
     "name": "stdout",
     "output_type": "stream",
     "text": [
      "(95722, 107)\n"
     ]
    },
    {
     "data": {
      "text/html": [
       "<div>\n",
       "<style scoped>\n",
       "    .dataframe tbody tr th:only-of-type {\n",
       "        vertical-align: middle;\n",
       "    }\n",
       "\n",
       "    .dataframe tbody tr th {\n",
       "        vertical-align: top;\n",
       "    }\n",
       "\n",
       "    .dataframe thead th {\n",
       "        text-align: right;\n",
       "    }\n",
       "</style>\n",
       "<table border=\"1\" class=\"dataframe\">\n",
       "  <thead>\n",
       "    <tr style=\"text-align: right;\">\n",
       "      <th></th>\n",
       "      <th>0</th>\n",
       "      <th>1</th>\n",
       "      <th>2</th>\n",
       "      <th>3</th>\n",
       "      <th>4</th>\n",
       "      <th>5</th>\n",
       "      <th>6</th>\n",
       "      <th>7</th>\n",
       "      <th>8</th>\n",
       "      <th>9</th>\n",
       "      <th>...</th>\n",
       "      <th>97</th>\n",
       "      <th>98</th>\n",
       "      <th>99</th>\n",
       "      <th>100</th>\n",
       "      <th>101</th>\n",
       "      <th>102</th>\n",
       "      <th>103</th>\n",
       "      <th>104</th>\n",
       "      <th>105</th>\n",
       "      <th>106</th>\n",
       "    </tr>\n",
       "  </thead>\n",
       "  <tbody>\n",
       "    <tr>\n",
       "      <th>0</th>\n",
       "      <td>1.000000</td>\n",
       "      <td>0.602151</td>\n",
       "      <td>0.528302</td>\n",
       "      <td>0.333333</td>\n",
       "      <td>0.0</td>\n",
       "      <td>0.0</td>\n",
       "      <td>0.0</td>\n",
       "      <td>0.0</td>\n",
       "      <td>0.0</td>\n",
       "      <td>0.342069</td>\n",
       "      <td>...</td>\n",
       "      <td>0.0</td>\n",
       "      <td>0.0</td>\n",
       "      <td>0.0</td>\n",
       "      <td>0.0</td>\n",
       "      <td>0.0</td>\n",
       "      <td>0.0</td>\n",
       "      <td>0.0</td>\n",
       "      <td>0.0</td>\n",
       "      <td>0.0</td>\n",
       "      <td>1.0</td>\n",
       "    </tr>\n",
       "    <tr>\n",
       "      <th>1</th>\n",
       "      <td>1.000000</td>\n",
       "      <td>0.924731</td>\n",
       "      <td>0.811321</td>\n",
       "      <td>0.000000</td>\n",
       "      <td>1.0</td>\n",
       "      <td>0.0</td>\n",
       "      <td>0.0</td>\n",
       "      <td>0.0</td>\n",
       "      <td>1.0</td>\n",
       "      <td>0.310345</td>\n",
       "      <td>...</td>\n",
       "      <td>0.0</td>\n",
       "      <td>0.0</td>\n",
       "      <td>0.0</td>\n",
       "      <td>0.0</td>\n",
       "      <td>0.0</td>\n",
       "      <td>0.0</td>\n",
       "      <td>1.0</td>\n",
       "      <td>0.0</td>\n",
       "      <td>0.0</td>\n",
       "      <td>0.0</td>\n",
       "    </tr>\n",
       "    <tr>\n",
       "      <th>2</th>\n",
       "      <td>1.000000</td>\n",
       "      <td>0.623656</td>\n",
       "      <td>0.547170</td>\n",
       "      <td>0.000000</td>\n",
       "      <td>0.0</td>\n",
       "      <td>0.0</td>\n",
       "      <td>0.0</td>\n",
       "      <td>0.0</td>\n",
       "      <td>0.0</td>\n",
       "      <td>0.342069</td>\n",
       "      <td>...</td>\n",
       "      <td>0.0</td>\n",
       "      <td>0.0</td>\n",
       "      <td>0.0</td>\n",
       "      <td>0.0</td>\n",
       "      <td>0.0</td>\n",
       "      <td>0.0</td>\n",
       "      <td>0.0</td>\n",
       "      <td>0.0</td>\n",
       "      <td>0.0</td>\n",
       "      <td>1.0</td>\n",
       "    </tr>\n",
       "    <tr>\n",
       "      <th>3</th>\n",
       "      <td>0.345455</td>\n",
       "      <td>0.440860</td>\n",
       "      <td>0.386792</td>\n",
       "      <td>0.333333</td>\n",
       "      <td>0.0</td>\n",
       "      <td>0.0</td>\n",
       "      <td>0.0</td>\n",
       "      <td>0.0</td>\n",
       "      <td>0.0</td>\n",
       "      <td>0.310345</td>\n",
       "      <td>...</td>\n",
       "      <td>0.0</td>\n",
       "      <td>0.0</td>\n",
       "      <td>0.0</td>\n",
       "      <td>0.0</td>\n",
       "      <td>0.0</td>\n",
       "      <td>0.0</td>\n",
       "      <td>0.0</td>\n",
       "      <td>0.0</td>\n",
       "      <td>0.0</td>\n",
       "      <td>1.0</td>\n",
       "    </tr>\n",
       "    <tr>\n",
       "      <th>4</th>\n",
       "      <td>0.563636</td>\n",
       "      <td>0.462366</td>\n",
       "      <td>0.405660</td>\n",
       "      <td>0.333333</td>\n",
       "      <td>0.0</td>\n",
       "      <td>0.0</td>\n",
       "      <td>0.0</td>\n",
       "      <td>0.0</td>\n",
       "      <td>0.0</td>\n",
       "      <td>0.310345</td>\n",
       "      <td>...</td>\n",
       "      <td>0.0</td>\n",
       "      <td>0.0</td>\n",
       "      <td>0.0</td>\n",
       "      <td>0.0</td>\n",
       "      <td>0.0</td>\n",
       "      <td>0.0</td>\n",
       "      <td>0.0</td>\n",
       "      <td>0.0</td>\n",
       "      <td>0.0</td>\n",
       "      <td>1.0</td>\n",
       "    </tr>\n",
       "    <tr>\n",
       "      <th>...</th>\n",
       "      <td>...</td>\n",
       "      <td>...</td>\n",
       "      <td>...</td>\n",
       "      <td>...</td>\n",
       "      <td>...</td>\n",
       "      <td>...</td>\n",
       "      <td>...</td>\n",
       "      <td>...</td>\n",
       "      <td>...</td>\n",
       "      <td>...</td>\n",
       "      <td>...</td>\n",
       "      <td>...</td>\n",
       "      <td>...</td>\n",
       "      <td>...</td>\n",
       "      <td>...</td>\n",
       "      <td>...</td>\n",
       "      <td>...</td>\n",
       "      <td>...</td>\n",
       "      <td>...</td>\n",
       "      <td>...</td>\n",
       "      <td>...</td>\n",
       "    </tr>\n",
       "    <tr>\n",
       "      <th>95717</th>\n",
       "      <td>1.000000</td>\n",
       "      <td>0.956989</td>\n",
       "      <td>0.839623</td>\n",
       "      <td>0.333333</td>\n",
       "      <td>0.0</td>\n",
       "      <td>0.0</td>\n",
       "      <td>0.0</td>\n",
       "      <td>0.0</td>\n",
       "      <td>0.0</td>\n",
       "      <td>0.241379</td>\n",
       "      <td>...</td>\n",
       "      <td>0.0</td>\n",
       "      <td>0.0</td>\n",
       "      <td>0.0</td>\n",
       "      <td>0.0</td>\n",
       "      <td>0.0</td>\n",
       "      <td>0.0</td>\n",
       "      <td>1.0</td>\n",
       "      <td>0.0</td>\n",
       "      <td>0.0</td>\n",
       "      <td>0.0</td>\n",
       "    </tr>\n",
       "    <tr>\n",
       "      <th>95718</th>\n",
       "      <td>1.000000</td>\n",
       "      <td>0.860215</td>\n",
       "      <td>0.754717</td>\n",
       "      <td>0.000000</td>\n",
       "      <td>0.0</td>\n",
       "      <td>0.0</td>\n",
       "      <td>0.0</td>\n",
       "      <td>0.0</td>\n",
       "      <td>0.0</td>\n",
       "      <td>0.310345</td>\n",
       "      <td>...</td>\n",
       "      <td>0.0</td>\n",
       "      <td>0.0</td>\n",
       "      <td>0.0</td>\n",
       "      <td>0.0</td>\n",
       "      <td>0.0</td>\n",
       "      <td>0.0</td>\n",
       "      <td>1.0</td>\n",
       "      <td>0.0</td>\n",
       "      <td>0.0</td>\n",
       "      <td>0.0</td>\n",
       "    </tr>\n",
       "    <tr>\n",
       "      <th>95719</th>\n",
       "      <td>1.000000</td>\n",
       "      <td>0.645161</td>\n",
       "      <td>0.698113</td>\n",
       "      <td>0.333333</td>\n",
       "      <td>0.0</td>\n",
       "      <td>0.0</td>\n",
       "      <td>0.0</td>\n",
       "      <td>0.0</td>\n",
       "      <td>0.0</td>\n",
       "      <td>0.344828</td>\n",
       "      <td>...</td>\n",
       "      <td>0.0</td>\n",
       "      <td>0.0</td>\n",
       "      <td>0.0</td>\n",
       "      <td>0.0</td>\n",
       "      <td>0.0</td>\n",
       "      <td>0.0</td>\n",
       "      <td>0.0</td>\n",
       "      <td>0.0</td>\n",
       "      <td>0.0</td>\n",
       "      <td>1.0</td>\n",
       "    </tr>\n",
       "    <tr>\n",
       "      <th>95720</th>\n",
       "      <td>0.345455</td>\n",
       "      <td>0.494624</td>\n",
       "      <td>0.433962</td>\n",
       "      <td>0.000000</td>\n",
       "      <td>0.0</td>\n",
       "      <td>0.0</td>\n",
       "      <td>0.0</td>\n",
       "      <td>0.0</td>\n",
       "      <td>0.0</td>\n",
       "      <td>0.241379</td>\n",
       "      <td>...</td>\n",
       "      <td>0.0</td>\n",
       "      <td>0.0</td>\n",
       "      <td>0.0</td>\n",
       "      <td>0.0</td>\n",
       "      <td>0.0</td>\n",
       "      <td>0.0</td>\n",
       "      <td>0.0</td>\n",
       "      <td>0.0</td>\n",
       "      <td>0.0</td>\n",
       "      <td>1.0</td>\n",
       "    </tr>\n",
       "    <tr>\n",
       "      <th>95721</th>\n",
       "      <td>1.000000</td>\n",
       "      <td>0.978495</td>\n",
       "      <td>0.858491</td>\n",
       "      <td>0.000000</td>\n",
       "      <td>1.0</td>\n",
       "      <td>0.0</td>\n",
       "      <td>0.0</td>\n",
       "      <td>0.0</td>\n",
       "      <td>0.0</td>\n",
       "      <td>0.517241</td>\n",
       "      <td>...</td>\n",
       "      <td>0.0</td>\n",
       "      <td>0.0</td>\n",
       "      <td>0.0</td>\n",
       "      <td>0.0</td>\n",
       "      <td>0.0</td>\n",
       "      <td>0.0</td>\n",
       "      <td>1.0</td>\n",
       "      <td>0.0</td>\n",
       "      <td>0.0</td>\n",
       "      <td>0.0</td>\n",
       "    </tr>\n",
       "  </tbody>\n",
       "</table>\n",
       "<p>95722 rows × 107 columns</p>\n",
       "</div>"
      ],
      "text/plain": [
       "            0         1         2         3    4    5    6    7    8    \\\n",
       "0      1.000000  0.602151  0.528302  0.333333  0.0  0.0  0.0  0.0  0.0   \n",
       "1      1.000000  0.924731  0.811321  0.000000  1.0  0.0  0.0  0.0  1.0   \n",
       "2      1.000000  0.623656  0.547170  0.000000  0.0  0.0  0.0  0.0  0.0   \n",
       "3      0.345455  0.440860  0.386792  0.333333  0.0  0.0  0.0  0.0  0.0   \n",
       "4      0.563636  0.462366  0.405660  0.333333  0.0  0.0  0.0  0.0  0.0   \n",
       "...         ...       ...       ...       ...  ...  ...  ...  ...  ...   \n",
       "95717  1.000000  0.956989  0.839623  0.333333  0.0  0.0  0.0  0.0  0.0   \n",
       "95718  1.000000  0.860215  0.754717  0.000000  0.0  0.0  0.0  0.0  0.0   \n",
       "95719  1.000000  0.645161  0.698113  0.333333  0.0  0.0  0.0  0.0  0.0   \n",
       "95720  0.345455  0.494624  0.433962  0.000000  0.0  0.0  0.0  0.0  0.0   \n",
       "95721  1.000000  0.978495  0.858491  0.000000  1.0  0.0  0.0  0.0  0.0   \n",
       "\n",
       "            9    ...  97   98   99   100  101  102  103  104  105  106  \n",
       "0      0.342069  ...  0.0  0.0  0.0  0.0  0.0  0.0  0.0  0.0  0.0  1.0  \n",
       "1      0.310345  ...  0.0  0.0  0.0  0.0  0.0  0.0  1.0  0.0  0.0  0.0  \n",
       "2      0.342069  ...  0.0  0.0  0.0  0.0  0.0  0.0  0.0  0.0  0.0  1.0  \n",
       "3      0.310345  ...  0.0  0.0  0.0  0.0  0.0  0.0  0.0  0.0  0.0  1.0  \n",
       "4      0.310345  ...  0.0  0.0  0.0  0.0  0.0  0.0  0.0  0.0  0.0  1.0  \n",
       "...         ...  ...  ...  ...  ...  ...  ...  ...  ...  ...  ...  ...  \n",
       "95717  0.241379  ...  0.0  0.0  0.0  0.0  0.0  0.0  1.0  0.0  0.0  0.0  \n",
       "95718  0.310345  ...  0.0  0.0  0.0  0.0  0.0  0.0  1.0  0.0  0.0  0.0  \n",
       "95719  0.344828  ...  0.0  0.0  0.0  0.0  0.0  0.0  0.0  0.0  0.0  1.0  \n",
       "95720  0.241379  ...  0.0  0.0  0.0  0.0  0.0  0.0  0.0  0.0  0.0  1.0  \n",
       "95721  0.517241  ...  0.0  0.0  0.0  0.0  0.0  0.0  1.0  0.0  0.0  0.0  \n",
       "\n",
       "[95722 rows x 107 columns]"
      ]
     },
     "execution_count": 131,
     "metadata": {},
     "output_type": "execute_result"
    }
   ],
   "source": [
    "# Confirm that ColumnTransformer feature_preprocessor worked\n",
    "# Apply feature_preprocessor to X_train set and print shape\n",
    "X_train_transformed = feature_preprocessor.fit_transform(X_train)\n",
    "print(X_train_transformed.shape)\n",
    "\n",
    "# Create df and examine\n",
    "X_train_transformed = pd.DataFrame(X_train_transformed)\n",
    "X_train_transformed"
   ]
  },
  {
   "cell_type": "code",
   "execution_count": 137,
   "metadata": {},
   "outputs": [
    {
     "data": {
      "text/plain": [
       "['origination_loan_term',\n",
       " 'origination_ltv',\n",
       " 'origination_combined_ltv',\n",
       " 'number_of_borrowers',\n",
       " 'first_time_homebuyer',\n",
       " 'number_of_units',\n",
       " 'special_eligibility_program',\n",
       " 'relocation_mortgage_indicator',\n",
       " 'high_balance_loan_indicator',\n",
       " 'origination_interest_rate',\n",
       " 'origination_UPB',\n",
       " 'debt_to_income',\n",
       " 'borrower_credit_score_origination',\n",
       " 'x0_B',\n",
       " 'x0_C',\n",
       " 'x0_R',\n",
       " 'x1_Amerisave Mortgage Corporation',\n",
       " 'x1_Better Mortgage Corporation',\n",
       " 'x1_Broker Solutions, Inc. dba New American Funding',\n",
       " 'x1_Caliber Home Loans, Inc.',\n",
       " 'x1_Cardinal Financial Company, Limited Partnership',\n",
       " 'x1_CrossCountry Mortgage, LLC',\n",
       " 'x1_Finance of America Mortgage LLC',\n",
       " 'x1_Flagstar Bank, FSB',\n",
       " 'x1_Guaranteed Rate, Inc.',\n",
       " 'x1_Guild Mortgage Company LLC',\n",
       " 'x1_Home Point Financial Corporation',\n",
       " 'x1_JPMorgan Chase Bank, National Association',\n",
       " 'x1_Movement Mortgage, LLC',\n",
       " 'x1_NationStar Mortgage, LLC',\n",
       " 'x1_NewRez LLC',\n",
       " 'x1_Other',\n",
       " 'x1_PennyMac Corp.',\n",
       " 'x1_Quicken Loans, LLC',\n",
       " 'x1_Rocket Mortgage, LLC',\n",
       " 'x1_U.S. Bank N.A.',\n",
       " 'x1_United Wholesale Mortgage, LLC',\n",
       " 'x1_Wells Fargo Bank, N.A.',\n",
       " 'x1_loanDepot.com, LLC',\n",
       " 'x2_C',\n",
       " 'x2_P',\n",
       " 'x2_R',\n",
       " 'x3_CO',\n",
       " 'x3_CP',\n",
       " 'x3_MH',\n",
       " 'x3_PU',\n",
       " 'x3_SF',\n",
       " 'x4_I',\n",
       " 'x4_P',\n",
       " 'x4_S',\n",
       " 'x5_AK',\n",
       " 'x5_AL',\n",
       " 'x5_AR',\n",
       " 'x5_AZ',\n",
       " 'x5_CA',\n",
       " 'x5_CO',\n",
       " 'x5_CT',\n",
       " 'x5_DC',\n",
       " 'x5_DE',\n",
       " 'x5_FL',\n",
       " 'x5_GA',\n",
       " 'x5_GU',\n",
       " 'x5_HI',\n",
       " 'x5_IA',\n",
       " 'x5_ID',\n",
       " 'x5_IL',\n",
       " 'x5_IN',\n",
       " 'x5_KS',\n",
       " 'x5_KY',\n",
       " 'x5_LA',\n",
       " 'x5_MA',\n",
       " 'x5_MD',\n",
       " 'x5_ME',\n",
       " 'x5_MI',\n",
       " 'x5_MN',\n",
       " 'x5_MO',\n",
       " 'x5_MS',\n",
       " 'x5_MT',\n",
       " 'x5_NC',\n",
       " 'x5_ND',\n",
       " 'x5_NE',\n",
       " 'x5_NH',\n",
       " 'x5_NJ',\n",
       " 'x5_NM',\n",
       " 'x5_NV',\n",
       " 'x5_NY',\n",
       " 'x5_OH',\n",
       " 'x5_OK',\n",
       " 'x5_OR',\n",
       " 'x5_PA',\n",
       " 'x5_PR',\n",
       " 'x5_RI',\n",
       " 'x5_SC',\n",
       " 'x5_SD',\n",
       " 'x5_TN',\n",
       " 'x5_TX',\n",
       " 'x5_UT',\n",
       " 'x5_VA',\n",
       " 'x5_VT',\n",
       " 'x5_WA',\n",
       " 'x5_WI',\n",
       " 'x5_WV',\n",
       " 'x5_WY',\n",
       " 'x6_borrower_paid',\n",
       " 'x6_enterprise_paid',\n",
       " 'x6_lender_paid',\n",
       " 'x6_none']"
      ]
     },
     "execution_count": 137,
     "metadata": {},
     "output_type": "execute_result"
    }
   ],
   "source": [
    "# Extract names of transformed variables\n",
    "feature_preprocessor.fit_transform(X_train, y_train)\n",
    "enc_cat_features = feature_preprocessor.named_transformers_[\n",
    "                                                    'cat'].get_feature_names()\n",
    "labels = np.concatenate([numeric_features, enc_cat_features])\n",
    "transformed_df_columns = pd.DataFrame(feature_preprocessor.transform(X_train), columns=labels).columns\n",
    "transformed_df_columns.tolist()"
   ]
  },
  {
   "cell_type": "code",
   "execution_count": 135,
   "metadata": {},
   "outputs": [
    {
     "data": {
      "text/plain": [
       "107"
      ]
     },
     "execution_count": 135,
     "metadata": {},
     "output_type": "execute_result"
    }
   ],
   "source": [
    "# Check len of new transformed_df_columns\n",
    "len(transformed_df_columns)"
   ]
  },
  {
   "cell_type": "code",
   "execution_count": 138,
   "metadata": {},
   "outputs": [],
   "source": [
    "# Create list of column names that have been transformed\n",
    "transformed_col_names = [\n",
    "    'origination_loan_term', 'origination_ltv', 'origination_combined_ltv',\n",
    "    'number_of_borrowers', 'first_time_homebuyer', 'number_of_units',\n",
    "    'special_eligibility_program', 'relocation_mortgage_indicator', \n",
    "    'high_balance_loan_indicator', 'origination_interest_rate',\n",
    "    'origination_UPB', 'debt_to_income', 'borrower_credit_score_origination',  \n",
    "    'channel_B', 'channel_C', 'channel_R', \n",
    "    'seller_Amerisave Mortgage','seller_Better Mortgage',\n",
    "    'seller_New American Funding','seller_Caliber Home Loans',\n",
    "    'seller_Cardinal Financial','seller_CrossCountry Mortgage',\n",
    "    'seller_Finance of America Mortgage','seller_Flagstar Bank',\n",
    "    'seller_Guaranteed Rate','seller_Guild Mortgage Company',\n",
    "    'seller_Home Point Financial','seller_JPMorgan Chase Bank',\n",
    "    'seller_Movement Mortgage','seller_NationStar Mortgage',\n",
    "    'seller_NewRez','seller_Other','seller_PennyMac','seller_Quicken Loans',\n",
    "    'seller_Rocket Mortgage','seller_U.S. Bank',\n",
    "    'seller_United Wholesale Mortgage','seller_Wells Fargo Bank',\n",
    "    'seller_loanDepot.com','loan_purpose_C', 'loan_purpose_P', 'loan_purpose_R', \n",
    "    'property_type_CO', 'property_type_CP', 'property_type_MH', \n",
    "    'property_type_PU', 'property_type_SF', 'occupancy_status_I', \n",
    "    'occupancy_status_P', 'occupancy_status_S', \n",
    "    'state_AK', 'state_AL', 'state_AR', 'state_AZ','state_CA','state_CO',\n",
    "    'state_CT','state_DC','state_DE','state_FL','state_GA','state_GU',\n",
    "    'state_HI','state_IA','state_ID','state_IL','state_IN','state_KS',\n",
    "    'state_KY','state_LA','state_MA','state_MD','state_ME','state_MI',\n",
    "    'state_MN','state_MO','state_MS','state_MT','state_NC','state_ND',\n",
    "    'state_NE','state_NH','state_NJ','state_NM','state_NV','state_NY',\n",
    "    'state_OH','state_OK','state_OR','state_PA','state_PR','state_RI',\n",
    "    'state_SC','state_SD','state_TN','state_TX','state_UT','state_VA',\n",
    "    'state_VT','state_WA','state_WI','state_WV','state_WY',\n",
    "    'mortgage_insurance_type_borrower_paid','mortgage_insurance_type_enterprise_paid', \n",
    "    'mortgage_insurance_type_lender_paid', 'mortgage_insurance_type_none'\n",
    "    ]"
   ]
  },
  {
   "cell_type": "code",
   "execution_count": 139,
   "metadata": {},
   "outputs": [
    {
     "data": {
      "text/plain": [
       "107"
      ]
     },
     "execution_count": 139,
     "metadata": {},
     "output_type": "execute_result"
    }
   ],
   "source": [
    "# Check len of new list\n",
    "len(transformed_col_names)"
   ]
  },
  {
   "cell_type": "code",
   "execution_count": 140,
   "metadata": {},
   "outputs": [
    {
     "data": {
      "text/html": [
       "<div>\n",
       "<style scoped>\n",
       "    .dataframe tbody tr th:only-of-type {\n",
       "        vertical-align: middle;\n",
       "    }\n",
       "\n",
       "    .dataframe tbody tr th {\n",
       "        vertical-align: top;\n",
       "    }\n",
       "\n",
       "    .dataframe thead th {\n",
       "        text-align: right;\n",
       "    }\n",
       "</style>\n",
       "<table border=\"1\" class=\"dataframe\">\n",
       "  <thead>\n",
       "    <tr style=\"text-align: right;\">\n",
       "      <th></th>\n",
       "      <th>origination_loan_term</th>\n",
       "      <th>origination_ltv</th>\n",
       "      <th>origination_combined_ltv</th>\n",
       "      <th>number_of_borrowers</th>\n",
       "      <th>first_time_homebuyer</th>\n",
       "      <th>number_of_units</th>\n",
       "      <th>special_eligibility_program</th>\n",
       "      <th>relocation_mortgage_indicator</th>\n",
       "      <th>high_balance_loan_indicator</th>\n",
       "      <th>origination_interest_rate</th>\n",
       "      <th>...</th>\n",
       "      <th>state_VA</th>\n",
       "      <th>state_VT</th>\n",
       "      <th>state_WA</th>\n",
       "      <th>state_WI</th>\n",
       "      <th>state_WV</th>\n",
       "      <th>state_WY</th>\n",
       "      <th>mortgage_insurance_type_borrower_paid</th>\n",
       "      <th>mortgage_insurance_type_enterprise_paid</th>\n",
       "      <th>mortgage_insurance_type_lender_paid</th>\n",
       "      <th>mortgage_insurance_type_none</th>\n",
       "    </tr>\n",
       "  </thead>\n",
       "  <tbody>\n",
       "    <tr>\n",
       "      <th>0</th>\n",
       "      <td>1.000000</td>\n",
       "      <td>0.602151</td>\n",
       "      <td>0.528302</td>\n",
       "      <td>0.333333</td>\n",
       "      <td>0.0</td>\n",
       "      <td>0.0</td>\n",
       "      <td>0.0</td>\n",
       "      <td>0.0</td>\n",
       "      <td>0.0</td>\n",
       "      <td>0.342069</td>\n",
       "      <td>...</td>\n",
       "      <td>0.0</td>\n",
       "      <td>0.0</td>\n",
       "      <td>0.0</td>\n",
       "      <td>0.0</td>\n",
       "      <td>0.0</td>\n",
       "      <td>0.0</td>\n",
       "      <td>0.0</td>\n",
       "      <td>0.0</td>\n",
       "      <td>0.0</td>\n",
       "      <td>1.0</td>\n",
       "    </tr>\n",
       "    <tr>\n",
       "      <th>1</th>\n",
       "      <td>1.000000</td>\n",
       "      <td>0.924731</td>\n",
       "      <td>0.811321</td>\n",
       "      <td>0.000000</td>\n",
       "      <td>1.0</td>\n",
       "      <td>0.0</td>\n",
       "      <td>0.0</td>\n",
       "      <td>0.0</td>\n",
       "      <td>1.0</td>\n",
       "      <td>0.310345</td>\n",
       "      <td>...</td>\n",
       "      <td>0.0</td>\n",
       "      <td>0.0</td>\n",
       "      <td>0.0</td>\n",
       "      <td>0.0</td>\n",
       "      <td>0.0</td>\n",
       "      <td>0.0</td>\n",
       "      <td>1.0</td>\n",
       "      <td>0.0</td>\n",
       "      <td>0.0</td>\n",
       "      <td>0.0</td>\n",
       "    </tr>\n",
       "    <tr>\n",
       "      <th>2</th>\n",
       "      <td>1.000000</td>\n",
       "      <td>0.623656</td>\n",
       "      <td>0.547170</td>\n",
       "      <td>0.000000</td>\n",
       "      <td>0.0</td>\n",
       "      <td>0.0</td>\n",
       "      <td>0.0</td>\n",
       "      <td>0.0</td>\n",
       "      <td>0.0</td>\n",
       "      <td>0.342069</td>\n",
       "      <td>...</td>\n",
       "      <td>0.0</td>\n",
       "      <td>0.0</td>\n",
       "      <td>0.0</td>\n",
       "      <td>0.0</td>\n",
       "      <td>0.0</td>\n",
       "      <td>0.0</td>\n",
       "      <td>0.0</td>\n",
       "      <td>0.0</td>\n",
       "      <td>0.0</td>\n",
       "      <td>1.0</td>\n",
       "    </tr>\n",
       "    <tr>\n",
       "      <th>3</th>\n",
       "      <td>0.345455</td>\n",
       "      <td>0.440860</td>\n",
       "      <td>0.386792</td>\n",
       "      <td>0.333333</td>\n",
       "      <td>0.0</td>\n",
       "      <td>0.0</td>\n",
       "      <td>0.0</td>\n",
       "      <td>0.0</td>\n",
       "      <td>0.0</td>\n",
       "      <td>0.310345</td>\n",
       "      <td>...</td>\n",
       "      <td>0.0</td>\n",
       "      <td>0.0</td>\n",
       "      <td>0.0</td>\n",
       "      <td>0.0</td>\n",
       "      <td>0.0</td>\n",
       "      <td>0.0</td>\n",
       "      <td>0.0</td>\n",
       "      <td>0.0</td>\n",
       "      <td>0.0</td>\n",
       "      <td>1.0</td>\n",
       "    </tr>\n",
       "    <tr>\n",
       "      <th>4</th>\n",
       "      <td>0.563636</td>\n",
       "      <td>0.462366</td>\n",
       "      <td>0.405660</td>\n",
       "      <td>0.333333</td>\n",
       "      <td>0.0</td>\n",
       "      <td>0.0</td>\n",
       "      <td>0.0</td>\n",
       "      <td>0.0</td>\n",
       "      <td>0.0</td>\n",
       "      <td>0.310345</td>\n",
       "      <td>...</td>\n",
       "      <td>0.0</td>\n",
       "      <td>0.0</td>\n",
       "      <td>0.0</td>\n",
       "      <td>0.0</td>\n",
       "      <td>0.0</td>\n",
       "      <td>0.0</td>\n",
       "      <td>0.0</td>\n",
       "      <td>0.0</td>\n",
       "      <td>0.0</td>\n",
       "      <td>1.0</td>\n",
       "    </tr>\n",
       "    <tr>\n",
       "      <th>...</th>\n",
       "      <td>...</td>\n",
       "      <td>...</td>\n",
       "      <td>...</td>\n",
       "      <td>...</td>\n",
       "      <td>...</td>\n",
       "      <td>...</td>\n",
       "      <td>...</td>\n",
       "      <td>...</td>\n",
       "      <td>...</td>\n",
       "      <td>...</td>\n",
       "      <td>...</td>\n",
       "      <td>...</td>\n",
       "      <td>...</td>\n",
       "      <td>...</td>\n",
       "      <td>...</td>\n",
       "      <td>...</td>\n",
       "      <td>...</td>\n",
       "      <td>...</td>\n",
       "      <td>...</td>\n",
       "      <td>...</td>\n",
       "      <td>...</td>\n",
       "    </tr>\n",
       "    <tr>\n",
       "      <th>95717</th>\n",
       "      <td>1.000000</td>\n",
       "      <td>0.956989</td>\n",
       "      <td>0.839623</td>\n",
       "      <td>0.333333</td>\n",
       "      <td>0.0</td>\n",
       "      <td>0.0</td>\n",
       "      <td>0.0</td>\n",
       "      <td>0.0</td>\n",
       "      <td>0.0</td>\n",
       "      <td>0.241379</td>\n",
       "      <td>...</td>\n",
       "      <td>0.0</td>\n",
       "      <td>0.0</td>\n",
       "      <td>0.0</td>\n",
       "      <td>0.0</td>\n",
       "      <td>0.0</td>\n",
       "      <td>0.0</td>\n",
       "      <td>1.0</td>\n",
       "      <td>0.0</td>\n",
       "      <td>0.0</td>\n",
       "      <td>0.0</td>\n",
       "    </tr>\n",
       "    <tr>\n",
       "      <th>95718</th>\n",
       "      <td>1.000000</td>\n",
       "      <td>0.860215</td>\n",
       "      <td>0.754717</td>\n",
       "      <td>0.000000</td>\n",
       "      <td>0.0</td>\n",
       "      <td>0.0</td>\n",
       "      <td>0.0</td>\n",
       "      <td>0.0</td>\n",
       "      <td>0.0</td>\n",
       "      <td>0.310345</td>\n",
       "      <td>...</td>\n",
       "      <td>0.0</td>\n",
       "      <td>0.0</td>\n",
       "      <td>0.0</td>\n",
       "      <td>0.0</td>\n",
       "      <td>0.0</td>\n",
       "      <td>0.0</td>\n",
       "      <td>1.0</td>\n",
       "      <td>0.0</td>\n",
       "      <td>0.0</td>\n",
       "      <td>0.0</td>\n",
       "    </tr>\n",
       "    <tr>\n",
       "      <th>95719</th>\n",
       "      <td>1.000000</td>\n",
       "      <td>0.645161</td>\n",
       "      <td>0.698113</td>\n",
       "      <td>0.333333</td>\n",
       "      <td>0.0</td>\n",
       "      <td>0.0</td>\n",
       "      <td>0.0</td>\n",
       "      <td>0.0</td>\n",
       "      <td>0.0</td>\n",
       "      <td>0.344828</td>\n",
       "      <td>...</td>\n",
       "      <td>0.0</td>\n",
       "      <td>0.0</td>\n",
       "      <td>0.0</td>\n",
       "      <td>0.0</td>\n",
       "      <td>0.0</td>\n",
       "      <td>0.0</td>\n",
       "      <td>0.0</td>\n",
       "      <td>0.0</td>\n",
       "      <td>0.0</td>\n",
       "      <td>1.0</td>\n",
       "    </tr>\n",
       "    <tr>\n",
       "      <th>95720</th>\n",
       "      <td>0.345455</td>\n",
       "      <td>0.494624</td>\n",
       "      <td>0.433962</td>\n",
       "      <td>0.000000</td>\n",
       "      <td>0.0</td>\n",
       "      <td>0.0</td>\n",
       "      <td>0.0</td>\n",
       "      <td>0.0</td>\n",
       "      <td>0.0</td>\n",
       "      <td>0.241379</td>\n",
       "      <td>...</td>\n",
       "      <td>0.0</td>\n",
       "      <td>0.0</td>\n",
       "      <td>0.0</td>\n",
       "      <td>0.0</td>\n",
       "      <td>0.0</td>\n",
       "      <td>0.0</td>\n",
       "      <td>0.0</td>\n",
       "      <td>0.0</td>\n",
       "      <td>0.0</td>\n",
       "      <td>1.0</td>\n",
       "    </tr>\n",
       "    <tr>\n",
       "      <th>95721</th>\n",
       "      <td>1.000000</td>\n",
       "      <td>0.978495</td>\n",
       "      <td>0.858491</td>\n",
       "      <td>0.000000</td>\n",
       "      <td>1.0</td>\n",
       "      <td>0.0</td>\n",
       "      <td>0.0</td>\n",
       "      <td>0.0</td>\n",
       "      <td>0.0</td>\n",
       "      <td>0.517241</td>\n",
       "      <td>...</td>\n",
       "      <td>0.0</td>\n",
       "      <td>0.0</td>\n",
       "      <td>0.0</td>\n",
       "      <td>0.0</td>\n",
       "      <td>0.0</td>\n",
       "      <td>0.0</td>\n",
       "      <td>1.0</td>\n",
       "      <td>0.0</td>\n",
       "      <td>0.0</td>\n",
       "      <td>0.0</td>\n",
       "    </tr>\n",
       "  </tbody>\n",
       "</table>\n",
       "<p>95722 rows × 107 columns</p>\n",
       "</div>"
      ],
      "text/plain": [
       "       origination_loan_term  origination_ltv  origination_combined_ltv  \\\n",
       "0                   1.000000         0.602151                  0.528302   \n",
       "1                   1.000000         0.924731                  0.811321   \n",
       "2                   1.000000         0.623656                  0.547170   \n",
       "3                   0.345455         0.440860                  0.386792   \n",
       "4                   0.563636         0.462366                  0.405660   \n",
       "...                      ...              ...                       ...   \n",
       "95717               1.000000         0.956989                  0.839623   \n",
       "95718               1.000000         0.860215                  0.754717   \n",
       "95719               1.000000         0.645161                  0.698113   \n",
       "95720               0.345455         0.494624                  0.433962   \n",
       "95721               1.000000         0.978495                  0.858491   \n",
       "\n",
       "       number_of_borrowers  first_time_homebuyer  number_of_units  \\\n",
       "0                 0.333333                   0.0              0.0   \n",
       "1                 0.000000                   1.0              0.0   \n",
       "2                 0.000000                   0.0              0.0   \n",
       "3                 0.333333                   0.0              0.0   \n",
       "4                 0.333333                   0.0              0.0   \n",
       "...                    ...                   ...              ...   \n",
       "95717             0.333333                   0.0              0.0   \n",
       "95718             0.000000                   0.0              0.0   \n",
       "95719             0.333333                   0.0              0.0   \n",
       "95720             0.000000                   0.0              0.0   \n",
       "95721             0.000000                   1.0              0.0   \n",
       "\n",
       "       special_eligibility_program  relocation_mortgage_indicator  \\\n",
       "0                              0.0                            0.0   \n",
       "1                              0.0                            0.0   \n",
       "2                              0.0                            0.0   \n",
       "3                              0.0                            0.0   \n",
       "4                              0.0                            0.0   \n",
       "...                            ...                            ...   \n",
       "95717                          0.0                            0.0   \n",
       "95718                          0.0                            0.0   \n",
       "95719                          0.0                            0.0   \n",
       "95720                          0.0                            0.0   \n",
       "95721                          0.0                            0.0   \n",
       "\n",
       "       high_balance_loan_indicator  origination_interest_rate  ...  state_VA  \\\n",
       "0                              0.0                   0.342069  ...       0.0   \n",
       "1                              1.0                   0.310345  ...       0.0   \n",
       "2                              0.0                   0.342069  ...       0.0   \n",
       "3                              0.0                   0.310345  ...       0.0   \n",
       "4                              0.0                   0.310345  ...       0.0   \n",
       "...                            ...                        ...  ...       ...   \n",
       "95717                          0.0                   0.241379  ...       0.0   \n",
       "95718                          0.0                   0.310345  ...       0.0   \n",
       "95719                          0.0                   0.344828  ...       0.0   \n",
       "95720                          0.0                   0.241379  ...       0.0   \n",
       "95721                          0.0                   0.517241  ...       0.0   \n",
       "\n",
       "       state_VT  state_WA  state_WI  state_WV  state_WY  \\\n",
       "0           0.0       0.0       0.0       0.0       0.0   \n",
       "1           0.0       0.0       0.0       0.0       0.0   \n",
       "2           0.0       0.0       0.0       0.0       0.0   \n",
       "3           0.0       0.0       0.0       0.0       0.0   \n",
       "4           0.0       0.0       0.0       0.0       0.0   \n",
       "...         ...       ...       ...       ...       ...   \n",
       "95717       0.0       0.0       0.0       0.0       0.0   \n",
       "95718       0.0       0.0       0.0       0.0       0.0   \n",
       "95719       0.0       0.0       0.0       0.0       0.0   \n",
       "95720       0.0       0.0       0.0       0.0       0.0   \n",
       "95721       0.0       0.0       0.0       0.0       0.0   \n",
       "\n",
       "       mortgage_insurance_type_borrower_paid  \\\n",
       "0                                        0.0   \n",
       "1                                        1.0   \n",
       "2                                        0.0   \n",
       "3                                        0.0   \n",
       "4                                        0.0   \n",
       "...                                      ...   \n",
       "95717                                    1.0   \n",
       "95718                                    1.0   \n",
       "95719                                    0.0   \n",
       "95720                                    0.0   \n",
       "95721                                    1.0   \n",
       "\n",
       "       mortgage_insurance_type_enterprise_paid  \\\n",
       "0                                          0.0   \n",
       "1                                          0.0   \n",
       "2                                          0.0   \n",
       "3                                          0.0   \n",
       "4                                          0.0   \n",
       "...                                        ...   \n",
       "95717                                      0.0   \n",
       "95718                                      0.0   \n",
       "95719                                      0.0   \n",
       "95720                                      0.0   \n",
       "95721                                      0.0   \n",
       "\n",
       "       mortgage_insurance_type_lender_paid  mortgage_insurance_type_none  \n",
       "0                                      0.0                           1.0  \n",
       "1                                      0.0                           0.0  \n",
       "2                                      0.0                           1.0  \n",
       "3                                      0.0                           1.0  \n",
       "4                                      0.0                           1.0  \n",
       "...                                    ...                           ...  \n",
       "95717                                  0.0                           0.0  \n",
       "95718                                  0.0                           0.0  \n",
       "95719                                  0.0                           1.0  \n",
       "95720                                  0.0                           1.0  \n",
       "95721                                  0.0                           0.0  \n",
       "\n",
       "[95722 rows x 107 columns]"
      ]
     },
     "execution_count": 140,
     "metadata": {},
     "output_type": "execute_result"
    }
   ],
   "source": [
    "# Rename columns\n",
    "X_train_transformed.columns = transformed_col_names\n",
    "X_train_transformed"
   ]
  },
  {
   "cell_type": "markdown",
   "metadata": {},
   "source": [
    "### Define Function Evaluation Metrics"
   ]
  },
  {
   "cell_type": "markdown",
   "metadata": {},
   "source": [
    "Evaluation metrics: The lender seeks to correctly i) identify problem loans (true negatives) in order to\n",
    "minimize  \n",
    "losses from un-repaid loans and ii) identify good, performing loans (true positives) in\n",
    "order to maximize profits.\n",
    "\n",
    "Given the need to minimize false positives and false negatives, the f1-score should be a primary evaluation  \n",
    "metric. F1-score is interpreted as a harmonic mean of the precision and recall.\n",
    "\n",
    "Model evaluation should also focus on precision, since there is a need to minimize losses from false positives."
   ]
  },
  {
   "cell_type": "code",
   "execution_count": 255,
   "metadata": {},
   "outputs": [],
   "source": [
    "# Define function for model evaluation metrics\n",
    "def model_evaluation(model_pipe, X_train, y_train, X_test, y_test, model_name):\n",
    "\n",
    "    y_pred_train = model_pipe.predict(X_train)\n",
    "    y_pred_test = model_pipe.predict(X_test)\n",
    "\n",
    "    # Define evaluation metric\n",
    "    fscore = f1_score(y_test, y_pred_test)*100\n",
    "    prec_score = precision_score(y_test, y_pred_test)*100\n",
    "\n",
    "    # Instantiate figure\n",
    "    fig, (ax1, ax2) = plt.subplots(ncols=2, figsize=(11, 5))\n",
    "    # Plot confusion matrix\n",
    "    plot_confusion_matrix(model_pipe, \n",
    "                      X_test, y_test, \n",
    "                      cmap = 'Blues',\n",
    "                     display_labels= ['Problem Loan', 'Performing Loan'],\n",
    "                     #values_format= '%0.2f', \n",
    "                     normalize='true', ax=ax1\n",
    "                     )\n",
    "    ax1.grid(False)\n",
    "    ax1.set_title(f'Confusion Matrix: {model_name}', y=1.05, fontsize = 13)\n",
    "    \n",
    "    # Plot precision-recall curve, which is useful measure of success of prediction  \n",
    "    # when classes are imbalanced. High precision relates to low FP rate, high  \n",
    "    # recall relates to low false negative rate.\n",
    "    y_score = model_pipe.predict_proba(X_test)[:, 1]\n",
    "    precision, recall, thresholds = precision_recall_curve(y_test, y_score)\n",
    "    ax2.plot(recall, precision, marker='.', color='blue', label=model_name)\n",
    "    #add axis labels\n",
    "    ax2.set_title(f'Precision-Recall Curve')\n",
    "    ax2.set_ylabel('Precision - Positive label: 1')\n",
    "    ax2.set_xlabel('Recall - Positive label: 1')\n",
    "    ax2.legend()\n",
    "    #display plot of precision-recall curve\n",
    "    plt.show()\n",
    "    \n",
    "    print('----------------------------------------------------------')\n",
    "    # Classification report \n",
    "    print('----------------------------------------------------------')\n",
    "    print(model_name)\n",
    "    print('Classification Report: Train')\n",
    "    print(classification_report(y_train, y_pred_train))\n",
    "    print('----------------------------------------------------------')\n",
    "    print('Classification Report: Test')\n",
    "    print(classification_report(y_test, y_pred_test))\n",
    "    print(f'F1 Score for Test Set: {round(fscore, 2)}%')\n",
    "    print(f'Precision Score for Test Set: {round(prec_score,2)}%')\n",
    "    print (\"Area Under Precision-Recall Curve(AP): %0.2f\" \n",
    "           % average_precision_score(y_test, y_score))\n",
    "    print('----------------------------------------------------------')\n",
    "    print('----------------------------------------------------------')"
   ]
  },
  {
   "cell_type": "markdown",
   "metadata": {},
   "source": [
    "## Classification Modelling"
   ]
  },
  {
   "cell_type": "markdown",
   "metadata": {},
   "source": [
    "### Baseline model"
   ]
  },
  {
   "cell_type": "code",
   "execution_count": 183,
   "metadata": {},
   "outputs": [
    {
     "name": "stdout",
     "output_type": "stream",
     "text": [
      "Training Score: 0.7\n",
      "Testing Score: 0.7\n"
     ]
    }
   ],
   "source": [
    "# Define baseline Decision Stump Classifier (baseline model 1.0)\n",
    "# Set random state equal to 42. Set max_depth parameter to 2.\n",
    "\n",
    "stump_clf = DecisionTreeClassifier(random_state=42, max_depth=2)\n",
    "\n",
    "# Build DummyClassifier model with preprocessing pipeline\n",
    "stump_pipe = Pipeline(steps = [ ('preprocess', feature_preprocessor),\n",
    "                        ('classifier', stump_clf)])\n",
    "\n",
    "# Fit the DummyClassifier pipeline model to training data\n",
    "stump_pipe.fit(X_train, y_train)\n",
    "\n",
    "# Predict y on validate data\n",
    "y_pred = stump_pipe.predict(X_validate)\n",
    "                             \n",
    "print(f'Training Score:', np.round(stump_pipe.score(X_train, y_train),2))\n",
    "print(f'Testing Score:', np.round(stump_pipe.score(X_validate, y_validate),2))"
   ]
  },
  {
   "cell_type": "markdown",
   "metadata": {},
   "source": [
    "- Mean accuracy score is 70% for training and test sets. Model is not overfitting, but  \n",
    "performance can be improved."
   ]
  },
  {
   "cell_type": "code",
   "execution_count": 254,
   "metadata": {},
   "outputs": [
    {
     "data": {
      "image/png": "[encoded data removed]",
      "text/plain": [
       "<Figure size 792x360 with 3 Axes>"
      ]
     },
     "metadata": {
      "needs_background": "light"
     },
     "output_type": "display_data"
    },
    {
     "name": "stdout",
     "output_type": "stream",
     "text": [
      "----------------------------------------------------------\n",
      "----------------------------------------------------------\n",
      "Decision Stump Classifier\n",
      "Classification Report: Train\n",
      "              precision    recall  f1-score   support\n",
      "\n",
      "           0       0.76      0.59      0.66     51122\n",
      "           1       0.66      0.81      0.73     50982\n",
      "\n",
      "    accuracy                           0.70    102104\n",
      "   macro avg       0.71      0.70      0.69    102104\n",
      "weighted avg       0.71      0.70      0.69    102104\n",
      "\n",
      "----------------------------------------------------------\n",
      "Classification Report: Test\n",
      "              precision    recall  f1-score   support\n",
      "\n",
      "           0       0.77      0.58      0.66      6424\n",
      "           1       0.66      0.82      0.73      6339\n",
      "\n",
      "    accuracy                           0.70     12763\n",
      "   macro avg       0.71      0.70      0.70     12763\n",
      "weighted avg       0.71      0.70      0.70     12763\n",
      "\n",
      "F1 Score for Test Set: 73.18%\n",
      "Precision Score for Test Set: 66.0%\n",
      "Area Under Precision-Recall Curve(AP): 0.68\n",
      "----------------------------------------------------------\n",
      "----------------------------------------------------------\n"
     ]
    }
   ],
   "source": [
    "# Evaluate model performance\n",
    "model_evaluation(stump_pipe, X_train, y_train, X_validate, y_validate, \n",
    "                 'Decision Stump Classifier')"
   ]
  },
  {
   "cell_type": "markdown",
   "metadata": {},
   "source": [
    "- Baseline model has good f1-score of 73%, precision score (66%) and area under the  \n",
    "precision-recall curve (68%) can be improved in subsequent modelling.   "
   ]
  },
  {
   "cell_type": "markdown",
   "metadata": {},
   "source": [
    "### Model iterations"
   ]
  },
  {
   "cell_type": "markdown",
   "metadata": {},
   "source": [
    "#### Decision Tree"
   ]
  },
  {
   "cell_type": "code",
   "execution_count": 147,
   "metadata": {},
   "outputs": [
    {
     "name": "stdout",
     "output_type": "stream",
     "text": [
      "Training Score: 0.83\n",
      "Testing Score: 0.8\n"
     ]
    }
   ],
   "source": [
    "# Build decision tree classifier with greater max_depth than decision stump classifier\n",
    "# Set random state equal to 42.\n",
    "dt_clf = DecisionTreeClassifier(random_state=42)\n",
    "\n",
    "# Create pipeline for Decision Tree Classifier\n",
    "dt_pipe = Pipeline([('preprocessor', feature_preprocessor), \n",
    "                   ('dt', dt_clf)])\n",
    "\n",
    "# Define model hyperparameters for GridSearch in a dictionary                            \n",
    "dt_param_grid = {\n",
    "     'dt__criterion': ['entropy','gini'],\n",
    "     'dt__splitter': ['best', 'random'],\n",
    "     'dt__max_depth': [4,6,8,10, 12], #lower values avoid overfitting\n",
    "     'dt__min_samples_leaf': [1,2,4,6,8] #higher values avoid overfitting\n",
    "      }\n",
    "\n",
    "# Instantiate GridSearchCV\n",
    "dt_gs = GridSearchCV(dt_pipe,  #pipeline\n",
    "                     dt_param_grid, #hyperparameters\n",
    "                     cv=10, #number of cross-validation folds\n",
    "                     n_jobs=-1,\n",
    "                     return_train_score=True\n",
    "                    )\n",
    "\n",
    "# Fit model to training data    \n",
    "dt_gs.fit(X_train,y_train)"
   ]
  },
  {
   "cell_type": "code",
   "execution_count": 148,
   "metadata": {},
   "outputs": [
    {
     "data": {
      "text/plain": [
       "{'dt__criterion': 'gini',\n",
       " 'dt__max_depth': 12,\n",
       " 'dt__min_samples_leaf': 1,\n",
       " 'dt__splitter': 'best'}"
      ]
     },
     "execution_count": 148,
     "metadata": {},
     "output_type": "execute_result"
    }
   ],
   "source": [
    "# Select best parameters for Decision Tree\n",
    "dt_gs.best_params_"
   ]
  },
  {
   "cell_type": "code",
   "execution_count": 256,
   "metadata": {},
   "outputs": [
    {
     "name": "stdout",
     "output_type": "stream",
     "text": [
      "Training Score: 0.82\n",
      "Validation Score: 0.83\n"
     ]
    },
    {
     "data": {
      "image/png": "[encoded data removed]",
      "text/plain": [
       "<Figure size 792x360 with 3 Axes>"
      ]
     },
     "metadata": {
      "needs_background": "light"
     },
     "output_type": "display_data"
    },
    {
     "name": "stdout",
     "output_type": "stream",
     "text": [
      "----------------------------------------------------------\n",
      "----------------------------------------------------------\n",
      "Decision Tree Classifier\n",
      "Classification Report: Train\n",
      "              precision    recall  f1-score   support\n",
      "\n",
      "           0       0.85      0.78      0.81     51122\n",
      "           1       0.80      0.87      0.83     50982\n",
      "\n",
      "    accuracy                           0.82    102104\n",
      "   macro avg       0.82      0.82      0.82    102104\n",
      "weighted avg       0.82      0.82      0.82    102104\n",
      "\n",
      "----------------------------------------------------------\n",
      "Classification Report: Test\n",
      "              precision    recall  f1-score   support\n",
      "\n",
      "           0       0.86      0.78      0.82      6424\n",
      "           1       0.80      0.87      0.83      6339\n",
      "\n",
      "    accuracy                           0.83     12763\n",
      "   macro avg       0.83      0.83      0.83     12763\n",
      "weighted avg       0.83      0.83      0.83     12763\n",
      "\n",
      "F1 Score for Test Set: 83.32%\n",
      "Precision Score for Test Set: 79.69%\n",
      "Area Under Precision-Recall Curve(AP): 0.88\n",
      "----------------------------------------------------------\n",
      "----------------------------------------------------------\n"
     ]
    }
   ],
   "source": [
    "# Print training and validate scores\n",
    "print(f'Training Score:', np.round(dt_gs.score(X_train, y_train),2))\n",
    "print(f'Validation Score:', np.round(dt_gs.score(X_validate, y_validate),2))\n",
    "\n",
    "# Evaluate decision tree classifier\n",
    "model_evaluation(dt_gs, X_train, y_train, X_validate, y_validate, \n",
    "                 'Decision Tree Classifier')"
   ]
  },
  {
   "cell_type": "markdown",
   "metadata": {},
   "source": [
    "- Decision tree classifier model shows improvement compared to baseline model in f1 score (83%),  \n",
    "precision score (79.7%), and area under the PR curve (88%). \n",
    "- Model is not overfitting, with mean training score of 82% and testing score of 83%."
   ]
  },
  {
   "cell_type": "code",
   "execution_count": 151,
   "metadata": {},
   "outputs": [
    {
     "data": {
      "text/html": [
       "<div>\n",
       "<style scoped>\n",
       "    .dataframe tbody tr th:only-of-type {\n",
       "        vertical-align: middle;\n",
       "    }\n",
       "\n",
       "    .dataframe tbody tr th {\n",
       "        vertical-align: top;\n",
       "    }\n",
       "\n",
       "    .dataframe thead th {\n",
       "        text-align: right;\n",
       "    }\n",
       "</style>\n",
       "<table border=\"1\" class=\"dataframe\">\n",
       "  <thead>\n",
       "    <tr style=\"text-align: right;\">\n",
       "      <th></th>\n",
       "      <th>importance</th>\n",
       "    </tr>\n",
       "  </thead>\n",
       "  <tbody>\n",
       "    <tr>\n",
       "      <th>borrower_credit_score_origination</th>\n",
       "      <td>0.391600</td>\n",
       "    </tr>\n",
       "    <tr>\n",
       "      <th>origination_combined_ltv</th>\n",
       "      <td>0.111970</td>\n",
       "    </tr>\n",
       "    <tr>\n",
       "      <th>debt_to_income</th>\n",
       "      <td>0.101901</td>\n",
       "    </tr>\n",
       "    <tr>\n",
       "      <th>origination_UPB</th>\n",
       "      <td>0.083913</td>\n",
       "    </tr>\n",
       "    <tr>\n",
       "      <th>origination_ltv</th>\n",
       "      <td>0.042456</td>\n",
       "    </tr>\n",
       "    <tr>\n",
       "      <th>origination_interest_rate</th>\n",
       "      <td>0.033212</td>\n",
       "    </tr>\n",
       "    <tr>\n",
       "      <th>number_of_borrowers</th>\n",
       "      <td>0.027617</td>\n",
       "    </tr>\n",
       "    <tr>\n",
       "      <th>origination_loan_term</th>\n",
       "      <td>0.015332</td>\n",
       "    </tr>\n",
       "    <tr>\n",
       "      <th>seller_Other</th>\n",
       "      <td>0.011509</td>\n",
       "    </tr>\n",
       "    <tr>\n",
       "      <th>state_CA</th>\n",
       "      <td>0.009002</td>\n",
       "    </tr>\n",
       "  </tbody>\n",
       "</table>\n",
       "</div>"
      ],
      "text/plain": [
       "                                   importance\n",
       "borrower_credit_score_origination    0.391600\n",
       "origination_combined_ltv             0.111970\n",
       "debt_to_income                       0.101901\n",
       "origination_UPB                      0.083913\n",
       "origination_ltv                      0.042456\n",
       "origination_interest_rate            0.033212\n",
       "number_of_borrowers                  0.027617\n",
       "origination_loan_term                0.015332\n",
       "seller_Other                         0.011509\n",
       "state_CA                             0.009002"
      ]
     },
     "execution_count": 151,
     "metadata": {},
     "output_type": "execute_result"
    }
   ],
   "source": [
    "# Extract important features\n",
    "feature_importance_df = pd.DataFrame(dt_gs.best_estimator_.named_steps[\n",
    "                                        'dt'].feature_importances_, \n",
    "                                         index=X_train_transformed.columns)\n",
    "\n",
    "feature_importance_df.columns = ['importance']\n",
    "feature_importance_df.sort_values(by=['importance'], ascending=False).head(10)"
   ]
  },
  {
   "cell_type": "markdown",
   "metadata": {},
   "source": [
    "#### Logistic Regression"
   ]
  },
  {
   "cell_type": "code",
   "execution_count": 152,
   "metadata": {},
   "outputs": [
    {
     "name": "stdout",
     "output_type": "stream",
     "text": [
      "Training Score: 0.75\n",
      "Testing Score 0.75\n"
     ]
    }
   ],
   "source": [
    "# Build logistic regression model\n",
    "# Set random state equal to 42, solver to 'lbfgs'\n",
    "lr = LogisticRegression(fit_intercept=False,\n",
    "                               random_state=42,\n",
    "                               solver='lbfgs',\n",
    "                               max_iter=1e4)\n",
    "\n",
    "# Build logistic regression model with preprocessing pipeline\n",
    "lr_pipe = Pipeline(steps = \n",
    "                   [('preprocessor', feature_preprocessor), \n",
    "                   ('lr', lr)])\n",
    "\n",
    "# Fit logistic regression model to training data\n",
    "lr_pipe.fit(X_train, y_train)"
   ]
  },
  {
   "cell_type": "code",
   "execution_count": 257,
   "metadata": {},
   "outputs": [
    {
     "name": "stdout",
     "output_type": "stream",
     "text": [
      "Training Score: 0.75\n",
      "Validation Score 0.75\n"
     ]
    },
    {
     "data": {
      "image/png": "[encoded data removed]",
      "text/plain": [
       "<Figure size 792x360 with 3 Axes>"
      ]
     },
     "metadata": {
      "needs_background": "light"
     },
     "output_type": "display_data"
    },
    {
     "name": "stdout",
     "output_type": "stream",
     "text": [
      "----------------------------------------------------------\n",
      "----------------------------------------------------------\n",
      "Logistic Regression\n",
      "Classification Report: Train\n",
      "              precision    recall  f1-score   support\n",
      "\n",
      "           0       0.76      0.73      0.74     51122\n",
      "           1       0.74      0.77      0.75     50982\n",
      "\n",
      "    accuracy                           0.75    102104\n",
      "   macro avg       0.75      0.75      0.75    102104\n",
      "weighted avg       0.75      0.75      0.75    102104\n",
      "\n",
      "----------------------------------------------------------\n",
      "Classification Report: Test\n",
      "              precision    recall  f1-score   support\n",
      "\n",
      "           0       0.77      0.73      0.75      6424\n",
      "           1       0.74      0.78      0.76      6339\n",
      "\n",
      "    accuracy                           0.75     12763\n",
      "   macro avg       0.75      0.75      0.75     12763\n",
      "weighted avg       0.75      0.75      0.75     12763\n",
      "\n",
      "F1 Score for Test Set: 75.83%\n",
      "Precision Score for Test Set: 73.98%\n",
      "Area Under Precision-Recall Curve(AP): 0.81\n",
      "----------------------------------------------------------\n",
      "----------------------------------------------------------\n"
     ]
    }
   ],
   "source": [
    "# Print train and validate score\n",
    "print(f'Training Score:', np.round(lr_pipe.score(X_train, y_train),2))\n",
    "print(f'Validation Score', np.round(lr_pipe.score(X_validate, y_validate),2))\n",
    "\n",
    "# Predict y\n",
    "y_pred = lr_pipe.predict(X_validate)\n",
    "\n",
    "# Evaluate logistic regression model\n",
    "model_evaluation(lr_pipe, X_train, y_train, X_validate, y_validate, \n",
    "                 'Logistic Regression')"
   ]
  },
  {
   "cell_type": "markdown",
   "metadata": {},
   "source": [
    "- Logistic regression model also shows improvement compared to baseline model, with  \n",
    "f1 score of 76%, precision score of 74%, and area under PR curve of 81%.\n",
    "- Both train and validation scores are 75%.\n",
    "- Performance is not as good compared to decision tree with grid search."
   ]
  },
  {
   "cell_type": "code",
   "execution_count": 163,
   "metadata": {},
   "outputs": [
    {
     "data": {
      "text/plain": [
       "borrower_credit_score_origination    3.551599\n",
       "origination_combined_ltv             3.047936\n",
       "debt_to_income                       1.895875\n",
       "number_of_borrowers                  1.793190\n",
       "seller_Quicken Loans                 1.650258\n",
       "state_LA                             1.287271\n",
       "origination_interest_rate            0.990288\n",
       "number_of_units                      0.883802\n",
       "state_VT                             0.883420\n",
       "origination_UPB                      0.880292\n",
       "dtype: float64"
      ]
     },
     "execution_count": 163,
     "metadata": {},
     "output_type": "execute_result"
    }
   ],
   "source": [
    "# Return feature importance\n",
    "lr_coeffs = lr.coef_\n",
    "feature_names = pd.Series(abs(lr_coeffs[0]), index=transformed_col_names)\n",
    "feature_names.sort_values(ascending=False).head(10)"
   ]
  },
  {
   "cell_type": "markdown",
   "metadata": {},
   "source": [
    "#### Random Forest"
   ]
  },
  {
   "cell_type": "code",
   "execution_count": 168,
   "metadata": {},
   "outputs": [
    {
     "data": {
      "text/plain": [
       "GridSearchCV(cv=10, error_score=nan,\n",
       "             estimator=Pipeline(memory=None,\n",
       "                                steps=[('preprocessor',\n",
       "                                        ColumnTransformer(n_jobs=None,\n",
       "                                                          remainder='drop',\n",
       "                                                          sparse_threshold=0.3,\n",
       "                                                          transformer_weights=None,\n",
       "                                                          transformers=[('num',\n",
       "                                                                         MinMaxScaler(copy=True,\n",
       "                                                                                      feature_range=(0,\n",
       "                                                                                                     1)),\n",
       "                                                                         ['origination_loan_term',\n",
       "                                                                          'origination_ltv',\n",
       "                                                                          'origination_combined_ltv',\n",
       "                                                                          'number_of_borrowers',\n",
       "                                                                          'first_time...\n",
       "                                                               oob_score=False,\n",
       "                                                               random_state=42,\n",
       "                                                               verbose=0,\n",
       "                                                               warm_start=False))],\n",
       "                                verbose=False),\n",
       "             iid='deprecated', n_jobs=-1,\n",
       "             param_grid={'rf__criterion': ['gini', 'entropy'],\n",
       "                         'rf__max_depth': [4, 6, 8, 10],\n",
       "                         'rf__max_features': ['auto', 'sqrt'],\n",
       "                         'rf__min_samples_leaf': [2, 3, 4],\n",
       "                         'rf__min_samples_split': [2, 4, 6]},\n",
       "             pre_dispatch='2*n_jobs', refit=True, return_train_score=True,\n",
       "             scoring=None, verbose=0)"
      ]
     },
     "execution_count": 168,
     "metadata": {},
     "output_type": "execute_result"
    }
   ],
   "source": [
    "# Instantiate Random Forest classifier model\n",
    "# Set random_state to 42\n",
    "rf_clf = RandomForestClassifier(random_state=42)\n",
    "\n",
    "# Create pipeline\n",
    "rf_pipe = Pipeline(steps = [('preprocessor', feature_preprocessor), \n",
    "                   ('rf', rf_clf)])\n",
    "\n",
    "# Define hyperparameters for GridSearch in a dictionary \n",
    "rf_param_grid = {\n",
    "    'rf__criterion':['gini','entropy'],\n",
    "     'rf__max_depth': [4,6,8,10],\n",
    "     'rf__max_features': ['auto', 'sqrt'],\n",
    "     'rf__min_samples_leaf': [2,3,4],\n",
    "     'rf__min_samples_split': [2,4,6],\n",
    "     }\n",
    "\n",
    "# Instantiate GridSearchCV\n",
    "rf_gs = GridSearchCV(rf_pipe, rf_param_grid,\n",
    "                     cv=10,\n",
    "                     n_jobs=-1,\n",
    "                     return_train_score=True\n",
    "                    )\n",
    "\n",
    "# Fit the Random Forest classifier model to training data\n",
    "rf_gs.fit(X_train, y_train)"
   ]
  },
  {
   "cell_type": "code",
   "execution_count": 169,
   "metadata": {},
   "outputs": [
    {
     "data": {
      "text/plain": [
       "{'rf__criterion': 'gini',\n",
       " 'rf__max_depth': 10,\n",
       " 'rf__max_features': 'auto',\n",
       " 'rf__min_samples_leaf': 2,\n",
       " 'rf__min_samples_split': 2}"
      ]
     },
     "execution_count": 169,
     "metadata": {},
     "output_type": "execute_result"
    }
   ],
   "source": [
    "rf_gs.best_params_"
   ]
  },
  {
   "cell_type": "code",
   "execution_count": 258,
   "metadata": {},
   "outputs": [
    {
     "name": "stdout",
     "output_type": "stream",
     "text": [
      "Training Score: 0.77\n",
      "Validation Score 0.77\n"
     ]
    },
    {
     "data": {
      "image/png": "[encoded data removed]",
      "text/plain": [
       "<Figure size 792x360 with 3 Axes>"
      ]
     },
     "metadata": {
      "needs_background": "light"
     },
     "output_type": "display_data"
    },
    {
     "name": "stdout",
     "output_type": "stream",
     "text": [
      "----------------------------------------------------------\n",
      "----------------------------------------------------------\n",
      "Random Forest Classifier\n",
      "Classification Report: Train\n",
      "              precision    recall  f1-score   support\n",
      "\n",
      "           0       0.78      0.75      0.76     51122\n",
      "           1       0.76      0.80      0.78     50982\n",
      "\n",
      "    accuracy                           0.77    102104\n",
      "   macro avg       0.77      0.77      0.77    102104\n",
      "weighted avg       0.77      0.77      0.77    102104\n",
      "\n",
      "----------------------------------------------------------\n",
      "Classification Report: Test\n",
      "              precision    recall  f1-score   support\n",
      "\n",
      "           0       0.79      0.74      0.77      6424\n",
      "           1       0.76      0.80      0.78      6339\n",
      "\n",
      "    accuracy                           0.77     12763\n",
      "   macro avg       0.77      0.77      0.77     12763\n",
      "weighted avg       0.77      0.77      0.77     12763\n",
      "\n",
      "F1 Score for Test Set: 77.83%\n",
      "Precision Score for Test Set: 75.52%\n",
      "Area Under Precision-Recall Curve(AP): 0.84\n",
      "----------------------------------------------------------\n",
      "----------------------------------------------------------\n"
     ]
    }
   ],
   "source": [
    "# Print training and validation scores\n",
    "print(f'Training Score:', np.round(rf_gs.score(X_train, y_train),2))\n",
    "print(f'Validation Score', np.round(rf_gs.score(X_validate, y_validate),2))\n",
    "\n",
    "# Estimate y_pred\n",
    "y_pred = rf_gs.best_estimator_.predict(X_test)\n",
    "\n",
    "# Evaluate model performance\n",
    "model_evaluation(rf_gs.best_estimator_, X_train, y_train, X_validate, y_validate, \n",
    "                 'Random Forest Classifier')"
   ]
  },
  {
   "cell_type": "code",
   "execution_count": 175,
   "metadata": {},
   "outputs": [
    {
     "data": {
      "text/html": [
       "<div>\n",
       "<style scoped>\n",
       "    .dataframe tbody tr th:only-of-type {\n",
       "        vertical-align: middle;\n",
       "    }\n",
       "\n",
       "    .dataframe tbody tr th {\n",
       "        vertical-align: top;\n",
       "    }\n",
       "\n",
       "    .dataframe thead th {\n",
       "        text-align: right;\n",
       "    }\n",
       "</style>\n",
       "<table border=\"1\" class=\"dataframe\">\n",
       "  <thead>\n",
       "    <tr style=\"text-align: right;\">\n",
       "      <th></th>\n",
       "      <th>importance</th>\n",
       "    </tr>\n",
       "  </thead>\n",
       "  <tbody>\n",
       "    <tr>\n",
       "      <th>borrower_credit_score_origination</th>\n",
       "      <td>0.292422</td>\n",
       "    </tr>\n",
       "    <tr>\n",
       "      <th>origination_ltv</th>\n",
       "      <td>0.101493</td>\n",
       "    </tr>\n",
       "    <tr>\n",
       "      <th>origination_combined_ltv</th>\n",
       "      <td>0.099289</td>\n",
       "    </tr>\n",
       "    <tr>\n",
       "      <th>debt_to_income</th>\n",
       "      <td>0.098320</td>\n",
       "    </tr>\n",
       "    <tr>\n",
       "      <th>mortgage_insurance_type_borrower_paid</th>\n",
       "      <td>0.051695</td>\n",
       "    </tr>\n",
       "    <tr>\n",
       "      <th>origination_interest_rate</th>\n",
       "      <td>0.045343</td>\n",
       "    </tr>\n",
       "    <tr>\n",
       "      <th>mortgage_insurance_type_none</th>\n",
       "      <td>0.043163</td>\n",
       "    </tr>\n",
       "    <tr>\n",
       "      <th>number_of_borrowers</th>\n",
       "      <td>0.041610</td>\n",
       "    </tr>\n",
       "    <tr>\n",
       "      <th>origination_loan_term</th>\n",
       "      <td>0.031511</td>\n",
       "    </tr>\n",
       "    <tr>\n",
       "      <th>origination_UPB</th>\n",
       "      <td>0.028406</td>\n",
       "    </tr>\n",
       "  </tbody>\n",
       "</table>\n",
       "</div>"
      ],
      "text/plain": [
       "                                       importance\n",
       "borrower_credit_score_origination        0.292422\n",
       "origination_ltv                          0.101493\n",
       "origination_combined_ltv                 0.099289\n",
       "debt_to_income                           0.098320\n",
       "mortgage_insurance_type_borrower_paid    0.051695\n",
       "origination_interest_rate                0.045343\n",
       "mortgage_insurance_type_none             0.043163\n",
       "number_of_borrowers                      0.041610\n",
       "origination_loan_term                    0.031511\n",
       "origination_UPB                          0.028406"
      ]
     },
     "execution_count": 175,
     "metadata": {},
     "output_type": "execute_result"
    }
   ],
   "source": [
    "# Extract important features\n",
    "feature_importance_df = pd.DataFrame(rf_gs.best_estimator_.named_steps[\n",
    "                                        'rf'].feature_importances_, \n",
    "                                         index=X_train_transformed.columns)\n",
    "\n",
    "feature_importance_df.columns = ['importance']\n",
    "feature_importance_df.sort_values(by=['importance'], ascending=False).head(10)"
   ]
  },
  {
   "cell_type": "markdown",
   "metadata": {},
   "source": [
    "#### Gradient Boosting"
   ]
  },
  {
   "cell_type": "code",
   "execution_count": 164,
   "metadata": {},
   "outputs": [
    {
     "name": "stdout",
     "output_type": "stream",
     "text": [
      "Training Score: 0.88\n",
      "Testing Score 0.84\n"
     ]
    }
   ],
   "source": [
    "#Instantiate GradientBoosting Classifier\n",
    "gb_clf = GradientBoostingClassifier(random_state=42, learning_rate = 0.005)\n",
    "\n",
    "#Define pipeline\n",
    "gb_pipe = Pipeline(steps = [('preprocessor', feature_preprocessor), \n",
    "                   ('gb', gb_clf)])\n",
    "\n",
    "# Define hyperparameters for GridSearch in a dictionary \n",
    "gb_param_grid = {\n",
    "     'gb__max_depth': [4,6,8,10,12],\n",
    "     'gb__min_samples_leaf': [2, 3, 4],\n",
    "     'gb__min_samples_split': [2,4,6],\n",
    "     }\n",
    "\n",
    "# Instantiate GridSearchCV\n",
    "gb_gs = GridSearchCV(gb_pipe, gb_param_grid,\n",
    "                     cv=10,\n",
    "                     n_jobs=-1,\n",
    "                     return_train_score=True\n",
    "                    )\n",
    "\n",
    "# Fit GradientBoosting Model to training data\n",
    "gb_gs.fit(X_train, y_train)\n",
    "\n",
    "# Predict y on testing data\n",
    "y_pred = gb_gs.predict(X_validate)"
   ]
  },
  {
   "cell_type": "code",
   "execution_count": 165,
   "metadata": {},
   "outputs": [
    {
     "data": {
      "text/plain": [
       "{'gb__max_depth': 12, 'gb__min_samples_leaf': 2, 'gb__min_samples_split': 2}"
      ]
     },
     "execution_count": 165,
     "metadata": {},
     "output_type": "execute_result"
    }
   ],
   "source": [
    "gb_gs.best_params_"
   ]
  },
  {
   "cell_type": "code",
   "execution_count": 259,
   "metadata": {},
   "outputs": [
    {
     "name": "stdout",
     "output_type": "stream",
     "text": [
      "Training Score: 0.87\n",
      "Validation Score 0.87\n"
     ]
    },
    {
     "data": {
      "image/png": "[encoded data removed]",
      "text/plain": [
       "<Figure size 792x360 with 3 Axes>"
      ]
     },
     "metadata": {
      "needs_background": "light"
     },
     "output_type": "display_data"
    },
    {
     "name": "stdout",
     "output_type": "stream",
     "text": [
      "----------------------------------------------------------\n",
      "----------------------------------------------------------\n",
      "Gradient Boosting\n",
      "Classification Report: Train\n",
      "              precision    recall  f1-score   support\n",
      "\n",
      "           0       0.89      0.84      0.86     51122\n",
      "           1       0.85      0.90      0.87     50982\n",
      "\n",
      "    accuracy                           0.87    102104\n",
      "   macro avg       0.87      0.87      0.87    102104\n",
      "weighted avg       0.87      0.87      0.87    102104\n",
      "\n",
      "----------------------------------------------------------\n",
      "Classification Report: Test\n",
      "              precision    recall  f1-score   support\n",
      "\n",
      "           0       0.90      0.83      0.86      6424\n",
      "           1       0.84      0.90      0.87      6339\n",
      "\n",
      "    accuracy                           0.87     12763\n",
      "   macro avg       0.87      0.87      0.87     12763\n",
      "weighted avg       0.87      0.87      0.87     12763\n",
      "\n",
      "F1 Score for Test Set: 87.1%\n",
      "Precision Score for Test Set: 84.26%\n",
      "Area Under Precision-Recall Curve(AP): 0.93\n",
      "----------------------------------------------------------\n",
      "----------------------------------------------------------\n"
     ]
    }
   ],
   "source": [
    "# Print train and validation score\n",
    "print(f'Training Score:', np.round(gb_gs.score(X_train, y_train),2))\n",
    "print(f'Validation Score', np.round(gb_gs.score(X_validate, y_validate),2))\n",
    "\n",
    "# Evaluate model performance\n",
    "model_evaluation(gb_gs, X_train, y_train, X_validate, y_validate,\n",
    "                 'Gradient Boosting')"
   ]
  },
  {
   "cell_type": "code",
   "execution_count": 174,
   "metadata": {},
   "outputs": [
    {
     "data": {
      "text/html": [
       "<div>\n",
       "<style scoped>\n",
       "    .dataframe tbody tr th:only-of-type {\n",
       "        vertical-align: middle;\n",
       "    }\n",
       "\n",
       "    .dataframe tbody tr th {\n",
       "        vertical-align: top;\n",
       "    }\n",
       "\n",
       "    .dataframe thead th {\n",
       "        text-align: right;\n",
       "    }\n",
       "</style>\n",
       "<table border=\"1\" class=\"dataframe\">\n",
       "  <thead>\n",
       "    <tr style=\"text-align: right;\">\n",
       "      <th></th>\n",
       "      <th>importance</th>\n",
       "    </tr>\n",
       "  </thead>\n",
       "  <tbody>\n",
       "    <tr>\n",
       "      <th>borrower_credit_score_origination</th>\n",
       "      <td>0.379115</td>\n",
       "    </tr>\n",
       "    <tr>\n",
       "      <th>origination_combined_ltv</th>\n",
       "      <td>0.106442</td>\n",
       "    </tr>\n",
       "    <tr>\n",
       "      <th>debt_to_income</th>\n",
       "      <td>0.097856</td>\n",
       "    </tr>\n",
       "    <tr>\n",
       "      <th>origination_UPB</th>\n",
       "      <td>0.088730</td>\n",
       "    </tr>\n",
       "    <tr>\n",
       "      <th>origination_ltv</th>\n",
       "      <td>0.044768</td>\n",
       "    </tr>\n",
       "    <tr>\n",
       "      <th>origination_interest_rate</th>\n",
       "      <td>0.040374</td>\n",
       "    </tr>\n",
       "    <tr>\n",
       "      <th>number_of_borrowers</th>\n",
       "      <td>0.028772</td>\n",
       "    </tr>\n",
       "    <tr>\n",
       "      <th>origination_loan_term</th>\n",
       "      <td>0.013521</td>\n",
       "    </tr>\n",
       "    <tr>\n",
       "      <th>seller_Other</th>\n",
       "      <td>0.011113</td>\n",
       "    </tr>\n",
       "    <tr>\n",
       "      <th>state_CA</th>\n",
       "      <td>0.008844</td>\n",
       "    </tr>\n",
       "  </tbody>\n",
       "</table>\n",
       "</div>"
      ],
      "text/plain": [
       "                                   importance\n",
       "borrower_credit_score_origination    0.379115\n",
       "origination_combined_ltv             0.106442\n",
       "debt_to_income                       0.097856\n",
       "origination_UPB                      0.088730\n",
       "origination_ltv                      0.044768\n",
       "origination_interest_rate            0.040374\n",
       "number_of_borrowers                  0.028772\n",
       "origination_loan_term                0.013521\n",
       "seller_Other                         0.011113\n",
       "state_CA                             0.008844"
      ]
     },
     "execution_count": 174,
     "metadata": {},
     "output_type": "execute_result"
    }
   ],
   "source": [
    "# Extract important features\n",
    "feature_importance_df = pd.DataFrame(gb_gs.best_estimator_.named_steps[\n",
    "                                        'gb'].feature_importances_, \n",
    "                                         index=X_train_transformed.columns)\n",
    "\n",
    "feature_importance_df.columns = ['importance']\n",
    "feature_importance_df.sort_values(by=['importance'], ascending=False).head(10)"
   ]
  },
  {
   "cell_type": "markdown",
   "metadata": {},
   "source": [
    "#### XGBoost Classifier"
   ]
  },
  {
   "cell_type": "code",
   "execution_count": 171,
   "metadata": {},
   "outputs": [
    {
     "name": "stdout",
     "output_type": "stream",
     "text": [
      "Training Score: 0.82\n",
      "Testing Score: 0.8\n"
     ]
    }
   ],
   "source": [
    "# Instantiate XGBoost model\n",
    "xgb_clf = XGBClassifier(random_state=42, learning_rate = 0.005)\n",
    "\n",
    "# Build pipeline\n",
    "xgb_pipe = Pipeline(steps = [('preprocessor', feature_preprocessor), \n",
    "                   ('xgb', xgb_clf)])\n",
    "\n",
    "# Defining hyperparameters for GridSearch in a dictionary \n",
    "xgb_param_grid = {\n",
    "     'xgb__max_depth': [4,6,8,10],\n",
    "     'xgb__min_samples_leaf': [2,3,4],\n",
    "     'xgb__min_samples_split': [2,4,6,8],\n",
    "     }\n",
    "\n",
    "# Instantiate GridSearchCV\n",
    "xgb_gs = GridSearchCV(xgb_pipe, xgb_param_grid,\n",
    "                     cv=10,\n",
    "                     n_jobs=-1,\n",
    "                     return_train_score=True\n",
    "                     )\n",
    "\n",
    "# Fit model\n",
    "xgb_gs.fit(X_train, y_train)\n",
    "\n",
    "# Predict y on testing data\n",
    "y_pred = xgb_gs.predict(X_test)\n",
    "\n",
    "print(f'Training Score:', np.round(xgb_gs.score(X_train, y_train),2))\n",
    "print(f'Testing Score:', np.round(xgb_gs.score(X_test, y_test),2))"
   ]
  },
  {
   "cell_type": "code",
   "execution_count": 172,
   "metadata": {},
   "outputs": [
    {
     "data": {
      "text/plain": [
       "{'xgb__max_depth': 10, 'xgb__min_samples_leaf': 2, 'xgb__min_samples_split': 2}"
      ]
     },
     "execution_count": 172,
     "metadata": {},
     "output_type": "execute_result"
    }
   ],
   "source": [
    "xgb_gs.best_params_"
   ]
  },
  {
   "cell_type": "code",
   "execution_count": 260,
   "metadata": {},
   "outputs": [
    {
     "name": "stdout",
     "output_type": "stream",
     "text": [
      "Training Score: 0.82\n",
      "Validation Score: 0.82\n"
     ]
    },
    {
     "data": {
      "image/png": "[encoded data removed]",
      "text/plain": [
       "<Figure size 792x360 with 3 Axes>"
      ]
     },
     "metadata": {
      "needs_background": "light"
     },
     "output_type": "display_data"
    },
    {
     "name": "stdout",
     "output_type": "stream",
     "text": [
      "----------------------------------------------------------\n",
      "----------------------------------------------------------\n",
      "XGradient Boosting\n",
      "Classification Report: Train\n",
      "              precision    recall  f1-score   support\n",
      "\n",
      "           0       0.83      0.80      0.81     51122\n",
      "           1       0.80      0.83      0.82     50982\n",
      "\n",
      "    accuracy                           0.82    102104\n",
      "   macro avg       0.82      0.82      0.81    102104\n",
      "weighted avg       0.82      0.82      0.81    102104\n",
      "\n",
      "----------------------------------------------------------\n",
      "Classification Report: Test\n",
      "              precision    recall  f1-score   support\n",
      "\n",
      "           0       0.84      0.80      0.82      6424\n",
      "           1       0.80      0.84      0.82      6339\n",
      "\n",
      "    accuracy                           0.82     12763\n",
      "   macro avg       0.82      0.82      0.82     12763\n",
      "weighted avg       0.82      0.82      0.82     12763\n",
      "\n",
      "F1 Score for Test Set: 82.34%\n",
      "Precision Score for Test Set: 80.46%\n",
      "Area Under Precision-Recall Curve(AP): 0.88\n",
      "----------------------------------------------------------\n",
      "----------------------------------------------------------\n"
     ]
    }
   ],
   "source": [
    "# Print training and validation scores\n",
    "\n",
    "print(f'Training Score:', np.round(xgb_gs.score(X_train, y_train),2))\n",
    "print(f'Validation Score:', np.round(xgb_gs.score(X_validate, y_validate),2))\n",
    "\n",
    "# Evaluate model performance\n",
    "model_evaluation(xgb_gs, X_train, y_train, X_validate, y_validate,\n",
    "                 'XGradient Boosting')"
   ]
  },
  {
   "cell_type": "code",
   "execution_count": 176,
   "metadata": {},
   "outputs": [
    {
     "data": {
      "text/html": [
       "<div>\n",
       "<style scoped>\n",
       "    .dataframe tbody tr th:only-of-type {\n",
       "        vertical-align: middle;\n",
       "    }\n",
       "\n",
       "    .dataframe tbody tr th {\n",
       "        vertical-align: top;\n",
       "    }\n",
       "\n",
       "    .dataframe thead th {\n",
       "        text-align: right;\n",
       "    }\n",
       "</style>\n",
       "<table border=\"1\" class=\"dataframe\">\n",
       "  <thead>\n",
       "    <tr style=\"text-align: right;\">\n",
       "      <th></th>\n",
       "      <th>importance</th>\n",
       "    </tr>\n",
       "  </thead>\n",
       "  <tbody>\n",
       "    <tr>\n",
       "      <th>origination_combined_ltv</th>\n",
       "      <td>0.091408</td>\n",
       "    </tr>\n",
       "    <tr>\n",
       "      <th>borrower_credit_score_origination</th>\n",
       "      <td>0.084382</td>\n",
       "    </tr>\n",
       "    <tr>\n",
       "      <th>number_of_borrowers</th>\n",
       "      <td>0.024401</td>\n",
       "    </tr>\n",
       "    <tr>\n",
       "      <th>debt_to_income</th>\n",
       "      <td>0.020653</td>\n",
       "    </tr>\n",
       "    <tr>\n",
       "      <th>number_of_units</th>\n",
       "      <td>0.017732</td>\n",
       "    </tr>\n",
       "    <tr>\n",
       "      <th>seller_Flagstar Bank</th>\n",
       "      <td>0.017452</td>\n",
       "    </tr>\n",
       "    <tr>\n",
       "      <th>occupancy_status_I</th>\n",
       "      <td>0.016483</td>\n",
       "    </tr>\n",
       "    <tr>\n",
       "      <th>state_NY</th>\n",
       "      <td>0.015497</td>\n",
       "    </tr>\n",
       "    <tr>\n",
       "      <th>property_type_CP</th>\n",
       "      <td>0.014261</td>\n",
       "    </tr>\n",
       "    <tr>\n",
       "      <th>state_CT</th>\n",
       "      <td>0.014134</td>\n",
       "    </tr>\n",
       "  </tbody>\n",
       "</table>\n",
       "</div>"
      ],
      "text/plain": [
       "                                   importance\n",
       "origination_combined_ltv             0.091408\n",
       "borrower_credit_score_origination    0.084382\n",
       "number_of_borrowers                  0.024401\n",
       "debt_to_income                       0.020653\n",
       "number_of_units                      0.017732\n",
       "seller_Flagstar Bank                 0.017452\n",
       "occupancy_status_I                   0.016483\n",
       "state_NY                             0.015497\n",
       "property_type_CP                     0.014261\n",
       "state_CT                             0.014134"
      ]
     },
     "execution_count": 176,
     "metadata": {},
     "output_type": "execute_result"
    }
   ],
   "source": [
    "# Extract important features\n",
    "feature_importance_df = pd.DataFrame(xgb_gs.best_estimator_.named_steps[\n",
    "                                        'xgb'].feature_importances_, \n",
    "                                         index=X_train_transformed.columns)\n",
    "\n",
    "feature_importance_df.columns = ['importance']\n",
    "feature_importance_df.sort_values(by=['importance'], ascending=False).head(10)"
   ]
  },
  {
   "cell_type": "markdown",
   "metadata": {},
   "source": [
    "## Model evaluation"
   ]
  },
  {
   "cell_type": "markdown",
   "metadata": {},
   "source": [
    "- top three models: gradient boosting, xgboost, decision tree "
   ]
  },
  {
   "cell_type": "code",
   "execution_count": 261,
   "metadata": {},
   "outputs": [
    {
     "data": {
      "image/png": "[encoded data removed]",
      "text/plain": [
       "<Figure size 792x360 with 3 Axes>"
      ]
     },
     "metadata": {
      "needs_background": "light"
     },
     "output_type": "display_data"
    },
    {
     "name": "stdout",
     "output_type": "stream",
     "text": [
      "----------------------------------------------------------\n",
      "----------------------------------------------------------\n",
      "Decision Tree Classifier\n",
      "Classification Report: Train\n",
      "              precision    recall  f1-score   support\n",
      "\n",
      "           0       0.85      0.78      0.81     51122\n",
      "           1       0.80      0.87      0.83     50982\n",
      "\n",
      "    accuracy                           0.82    102104\n",
      "   macro avg       0.82      0.82      0.82    102104\n",
      "weighted avg       0.82      0.82      0.82    102104\n",
      "\n",
      "----------------------------------------------------------\n",
      "Classification Report: Test\n",
      "              precision    recall  f1-score   support\n",
      "\n",
      "           0       0.85      0.78      0.81      6269\n",
      "           1       0.80      0.86      0.83      6494\n",
      "\n",
      "    accuracy                           0.82     12763\n",
      "   macro avg       0.82      0.82      0.82     12763\n",
      "weighted avg       0.82      0.82      0.82     12763\n",
      "\n",
      "F1 Score for Test Set: 83.21%\n",
      "Precision Score for Test Set: 80.39%\n",
      "Area Under Precision-Recall Curve(AP): 0.87\n",
      "----------------------------------------------------------\n",
      "----------------------------------------------------------\n"
     ]
    }
   ],
   "source": [
    "# Model evaluation: Decision tree with grid search\n",
    "model_evaluation(dt_gs, X_train, y_train, X_test, y_test, \n",
    "                 'Decision Tree Classifier')"
   ]
  },
  {
   "cell_type": "code",
   "execution_count": 262,
   "metadata": {},
   "outputs": [
    {
     "data": {
      "image/png": "[encoded data removed]",
      "text/plain": [
       "<Figure size 792x360 with 3 Axes>"
      ]
     },
     "metadata": {
      "needs_background": "light"
     },
     "output_type": "display_data"
    },
    {
     "name": "stdout",
     "output_type": "stream",
     "text": [
      "----------------------------------------------------------\n",
      "----------------------------------------------------------\n",
      "Gradient Boosting\n",
      "Classification Report: Train\n",
      "              precision    recall  f1-score   support\n",
      "\n",
      "           0       0.89      0.84      0.86     51122\n",
      "           1       0.85      0.90      0.87     50982\n",
      "\n",
      "    accuracy                           0.87    102104\n",
      "   macro avg       0.87      0.87      0.87    102104\n",
      "weighted avg       0.87      0.87      0.87    102104\n",
      "\n",
      "----------------------------------------------------------\n",
      "Classification Report: Test\n",
      "              precision    recall  f1-score   support\n",
      "\n",
      "           0       0.88      0.83      0.86      6269\n",
      "           1       0.85      0.89      0.87      6494\n",
      "\n",
      "    accuracy                           0.86     12763\n",
      "   macro avg       0.86      0.86      0.86     12763\n",
      "weighted avg       0.86      0.86      0.86     12763\n",
      "\n",
      "F1 Score for Test Set: 86.81%\n",
      "Precision Score for Test Set: 84.54%\n",
      "Area Under Precision-Recall Curve(AP): 0.92\n",
      "----------------------------------------------------------\n",
      "----------------------------------------------------------\n"
     ]
    }
   ],
   "source": [
    "# Model evaluation: Gradient boosting with grid search\n",
    "model_evaluation(gb_gs, X_train, y_train, X_test, y_test,\n",
    "                 'Gradient Boosting')"
   ]
  },
  {
   "cell_type": "code",
   "execution_count": 263,
   "metadata": {},
   "outputs": [
    {
     "data": {
      "image/png": "[encoded data removed]",
      "text/plain": [
       "<Figure size 792x360 with 3 Axes>"
      ]
     },
     "metadata": {
      "needs_background": "light"
     },
     "output_type": "display_data"
    },
    {
     "name": "stdout",
     "output_type": "stream",
     "text": [
      "----------------------------------------------------------\n",
      "----------------------------------------------------------\n",
      "XGradient Boosting\n",
      "Classification Report: Train\n",
      "              precision    recall  f1-score   support\n",
      "\n",
      "           0       0.83      0.80      0.81     51122\n",
      "           1       0.80      0.83      0.82     50982\n",
      "\n",
      "    accuracy                           0.82    102104\n",
      "   macro avg       0.82      0.82      0.81    102104\n",
      "weighted avg       0.82      0.82      0.81    102104\n",
      "\n",
      "----------------------------------------------------------\n",
      "Classification Report: Test\n",
      "              precision    recall  f1-score   support\n",
      "\n",
      "           0       0.81      0.79      0.80      6269\n",
      "           1       0.81      0.82      0.82      6494\n",
      "\n",
      "    accuracy                           0.81     12763\n",
      "   macro avg       0.81      0.81      0.81     12763\n",
      "weighted avg       0.81      0.81      0.81     12763\n",
      "\n",
      "F1 Score for Test Set: 81.56%\n",
      "Precision Score for Test Set: 80.64%\n",
      "Area Under Precision-Recall Curve(AP): 0.88\n",
      "----------------------------------------------------------\n",
      "----------------------------------------------------------\n"
     ]
    }
   ],
   "source": [
    "# Model evaluation: XGradient Boost with grid search\n",
    "model_evaluation(xgb_gs, X_train, y_train, X_test, y_test,\n",
    "                 'XGradient Boosting')"
   ]
  },
  {
   "cell_type": "markdown",
   "metadata": {},
   "source": [
    "- Gradient boosting model has best performance"
   ]
  },
  {
   "cell_type": "code",
   "execution_count": 213,
   "metadata": {},
   "outputs": [],
   "source": [
    "# Extract important features\n",
    "feature_importance_df = pd.DataFrame(gb_gs.best_estimator_.named_steps[\n",
    "                                        'gb'].feature_importances_, \n",
    "                                         index=X_train_transformed.columns)"
   ]
  },
  {
   "cell_type": "code",
   "execution_count": 282,
   "metadata": {},
   "outputs": [
    {
     "data": {
      "image/png": "[encoded data removed]",
      "text/plain": [
       "<Figure size 576x432 with 1 Axes>"
      ]
     },
     "metadata": {
      "needs_background": "light"
     },
     "output_type": "display_data"
    }
   ],
   "source": [
    "fig, ax = plt.subplots(figsize=(8,6))\n",
    "\n",
    "feature_importance_df.columns = ['importance']\n",
    "feature_importance_df.sort_values(by=['importance'], \n",
    "                                  ascending=True).tail(40).plot.barh(\n",
    "                                                                color='navy',\n",
    "                                                                ax=ax)\n",
    "# Set title and axis labels\n",
    "ax.set_title('Importance of Features \\n for Predicting Problem Mortgage Loans \\n (Gradient Boosting Model) \\n', \n",
    "             fontsize=14, fontweight='bold') \n",
    "ax.set_xlabel('Feature importance')\n",
    "ax.set_ylabel('Features')\n",
    "\n",
    "# Remove legend\n",
    "ax.get_legend().remove()\n",
    "\n",
    "# Remove grid line\n",
    "plt.grid(False)\n",
    "\n",
    "# Remove top border and right border\n",
    "ax.spines['top'].set_visible(False)\n",
    "ax.spines['right'].set_visible(False)\n",
    "\n",
    "plt.tight_layout()"
   ]
  },
  {
   "cell_type": "markdown",
   "metadata": {},
   "source": [
    "The model identifies borrower credit score, debt-to-income ratios, loan-to-value ratios, unpaid principal  \n",
    "balance, and interest rates as the most important features determining whether a loan is classified as a  \n",
    "problem loan. These findings are not too surpring, as these metrics are commonly used in credit risk  \n",
    "assessments.\n",
    "\n",
    "Interestingly, the model also identifies several sellers of loans that are important in determining the  \n",
    "classification of a loan as problematic. In addition, it also identifies a number of states  \n",
    "that are important determinants--some of these states are the four most populated (such as California,  \n",
    "New York, Florida, Texas), but the results also highlight less populated states such as Louisiana,  \n",
    "Georgia, Washington, Massachusetts, and North Carolina."
   ]
  },
  {
   "cell_type": "markdown",
   "metadata": {},
   "source": [
    "## Recommendations"
   ]
  },
  {
   "cell_type": "markdown",
   "metadata": {},
   "source": [
    "Based on results of the best performing model--the Gradient Boosting model--Fannie Mae\n",
    "should focus credit  \n",
    "risk management resources, including analysis and loan resolution, on loans that are likely to be problem loans,  \n",
    "which have on average:\n",
    "- borrower credit score of 725 (compared to 766 for performing loans)\n",
    "- debt-to-income ratios of 38% (compared to 32%)\n",
    "- combined loan-to-value ratio of 79% (compared to 67%)\n",
    "- unpaid principal balance of $314K (compared to 282K)\n",
    "- interest rate of 2.96% (compared to 2.79%)"
   ]
  },
  {
   "cell_type": "markdown",
   "metadata": {},
   "source": [
    "By location, mortgage loans in the states of Louisiana, Georgia, Washington, Massachusetts, and North Carolina, in  \n",
    "addition to the four most populated states, should be monitored more closely compared to other states."
   ]
  },
  {
   "cell_type": "markdown",
   "metadata": {},
   "source": [
    "Furthermore, the peformance of mortgage loans sold by Rocket Mortgage, Better Mortgage, Wells Fargo, Flagstar,  \n",
    "Home Point, loandepot.com, New Rez and 'other' should be examined more closely compared to other identified  \n",
    "sellers."
   ]
  },
  {
   "cell_type": "markdown",
   "metadata": {},
   "source": [
    "## Next Steps"
   ]
  },
  {
   "cell_type": "markdown",
   "metadata": {},
   "source": [
    "Next steps include broadening the geographical assessment of problem loans by zipcode, as well as  \n",
    "predicting the value of losses for problem loans."
   ]
  },
  {
   "cell_type": "markdown",
   "metadata": {},
   "source": [
    "## Questions"
   ]
  },
  {
   "cell_type": "markdown",
   "metadata": {},
   "source": [
    "Done:\n",
    "- trim data\n",
    "- move csv to /Data folder\n",
    "- notebook: link csv to /Data folder\n",
    "\n",
    "To do:\n",
    "- save processed dataset to csv and upload to Kaggle\n",
    "\n",
    "Questions:\n",
    "- train test split / then again on test set: train and validate. select top models, then evaluate on test set \n",
    "- best eval metrics - ROC curve?"
   ]
  },
  {
   "cell_type": "code",
   "execution_count": null,
   "metadata": {},
   "outputs": [],
   "source": []
  }
 ],
 "metadata": {
  "kernelspec": {
   "display_name": "Python [conda env:learn-env] *",
   "language": "python",
   "name": "conda-env-learn-env-py"
  },
  "language_info": {
   "codemirror_mode": {
    "name": "ipython",
    "version": 3
   },
   "file_extension": ".py",
   "mimetype": "text/x-python",
   "name": "python",
   "nbconvert_exporter": "python",
   "pygments_lexer": "ipython3",
   "version": "3.6.9"
  },
  "toc": {
   "base_numbering": 1,
   "nav_menu": {},
   "number_sections": true,
   "sideBar": true,
   "skip_h1_title": true,
   "title_cell": "Table of Contents",
   "title_sidebar": "Contents",
   "toc_cell": false,
   "toc_position": {
    "height": "calc(100% - 180px)",
    "left": "10px",
    "top": "150px",
    "width": "295px"
   },
   "toc_section_display": true,
   "toc_window_display": true
  }
 },
 "nbformat": 4,
 "nbformat_minor": 2
}
