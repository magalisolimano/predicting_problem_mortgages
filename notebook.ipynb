{
 "cells": [
  {
   "cell_type": "markdown",
   "metadata": {},
   "source": [
    "## Predicting Problem Mortgage Loans\n",
    "By: Magali Solimano  \n",
    "Date: December 2022"
   ]
  },
  {
   "cell_type": "markdown",
   "metadata": {},
   "source": [
    "## Import Libraries and Load Data\n"
   ]
  },
  {
   "cell_type": "code",
   "execution_count": 2,
   "metadata": {},
   "outputs": [],
   "source": [
    "import pandas as pd\n",
    "import numpy as np\n",
    "\n",
    "from sklearn.preprocessing import LabelEncoder\n",
    "from sklearn.preprocessing import OneHotEncoder\n",
    "from sklearn.compose import ColumnTransformer\n",
    "\n",
    "# Data visualization\n",
    "import seaborn as sns\n",
    "sns.set_style('whitegrid')\n",
    "import matplotlib.pyplot as plt\n",
    "%matplotlib inline\n",
    "from matplotlib.ticker import StrMethodFormatter\n",
    "\n",
    "#from kneed import KneeLocator\n",
    "import sklearn\n",
    "from sklearn.datasets import make_blobs\n",
    "from sklearn.cluster import KMeans\n",
    "from sklearn.metrics import silhouette_score\n",
    "\n",
    "# Model building\n",
    "from sklearn.model_selection import train_test_split\n",
    "from sklearn.preprocessing import MinMaxScaler\n",
    "from sklearn.preprocessing import StandardScaler\n",
    "from sklearn.dummy import DummyClassifier\n",
    "from sklearn.tree import DecisionTreeClassifier\n",
    "from sklearn.ensemble import RandomForestClassifier,GradientBoostingClassifier\n",
    "from imblearn.ensemble import RUSBoostClassifier\n",
    "from xgboost import XGBClassifier\n",
    "from sklearn.pipeline import Pipeline\n",
    "from imblearn.pipeline import Pipeline as imbPipeline\n",
    "from sklearn.metrics import (accuracy_score, precision_score, recall_score, \n",
    "                             f1_score, auc, average_precision_score, \n",
    "                             confusion_matrix, plot_confusion_matrix, \n",
    "                             ConfusionMatrixDisplay, classification_report,\n",
    "                             precision_recall_curve)\n",
    "from sklearn.linear_model import LogisticRegression\n",
    "import six\n",
    "from imblearn.over_sampling import SMOTE, SMOTENC\n",
    "from sklearn.model_selection import GridSearchCV\n",
    "\n",
    "# Ignore warnings\n",
    "import warnings\n",
    "warnings.filterwarnings(\"ignore\")"
   ]
  },
  {
   "cell_type": "code",
   "execution_count": 3,
   "metadata": {},
   "outputs": [],
   "source": [
    "# Import data\n",
    "data = pd.read_csv('2021Q1.csv',sep=\"|\", header=None)"
   ]
  },
  {
   "cell_type": "code",
   "execution_count": 4,
   "metadata": {},
   "outputs": [
    {
     "data": {
      "text/plain": [
       "(23104273, 108)"
      ]
     },
     "execution_count": 4,
     "metadata": {},
     "output_type": "execute_result"
    }
   ],
   "source": [
    "# View shape of dataframe\n",
    "data.shape"
   ]
  },
  {
   "cell_type": "markdown",
   "metadata": {},
   "source": [
    "- Dataset is very large, with 23 million rows and 108 columns."
   ]
  },
  {
   "cell_type": "code",
   "execution_count": 5,
   "metadata": {},
   "outputs": [],
   "source": [
    "# Define column names and rename columns\n",
    "column_names = [\n",
    "    'reference_pool_id',\n",
    "    'loan_id',\n",
    "    'monthly_reporting_pd',\n",
    "    'channel',\n",
    "    'seller_name',\n",
    "    'servicer_name',\n",
    "    'master_servicer',\n",
    "    'original_interest_rate',\n",
    "    'current_interest_rate',\n",
    "    'original_UPB',\n",
    "    'UPB_at_issuance',\n",
    "    'current_actual_UPB',\n",
    "    'original_loan_term',\n",
    "    'origination_date',\n",
    "    'first_payment_date',\n",
    "    'loan_age_months',\n",
    "    'months_to_legal_maturity',\n",
    "    'months_to_maturity',\n",
    "    'maturity_date',\n",
    "    'original_ltv',\n",
    "    'original_combined_ltv',\n",
    "    'number_of_borrowers',\n",
    "    'debt_to_income',\n",
    "    'borrower_credit_score_origination',\n",
    "    'co-borrower_credit_score_origination',\n",
    "    'first_time_homebuyer',\n",
    "    'loan_purpose',\n",
    "    'property_type',\n",
    "    'number_of_units',\n",
    "    'occupancy_status',\n",
    "    'property_state',\n",
    "    'metropolitan_statistical_area',\n",
    "    'zipcode_short',\n",
    "    'mortgage_insurance_pct',\n",
    "    'amortization_type',\n",
    "    'prepayment_penalty_indicator',\n",
    "    'interest_only_loan_indicator',\n",
    "    'interest_only_first_principal_int_payment_date',\n",
    "    'months_to_amortization',\n",
    "    'loan_delinquency_months',\n",
    "    'loan_payment_history',\n",
    "    'modification_flag',\n",
    "    'mortgage_insurance_cancellation_indicator',\n",
    "    'zero_balance_code',\n",
    "    'zero_balance_effective_date',\n",
    "    'upb_at_time_of_removal',\n",
    "    'repurchase_date',\n",
    "    'scheduled_principal_current',\n",
    "    'total_principal_current',\n",
    "    'unscheduled_principal_current',\n",
    "    'last_paid_installment_date',\n",
    "    'foreclosure_date',\n",
    "    'disposition_date',\n",
    "    'foreclosure_costs',\n",
    "    'property_preservation_repair_costs',\n",
    "    'asset_recovery_costs',\n",
    "    'misc_holding_expenses_and_credits',\n",
    "    'associated_taxes_for_holding_property',\n",
    "    'net_sales_proceeds',\n",
    "    'credit_enhancement_proceeds',\n",
    "    'repurchase_make_whole_proceeds',\n",
    "    'other_foreclosure_proceeds',\n",
    "    'non_interest_bearing_upb',\n",
    "    'principal_forgiveness_amount',\n",
    "    'original_list_start_date',\n",
    "    'original_list_price',\n",
    "    'current_list_start_date',\n",
    "    'current_list_price',\n",
    "    'borrower_credit_score_issuance',\n",
    "    'co-borrower_credit_score_issuance',\n",
    "    'borrower_credit_score_current',\n",
    "    'co-borrower_credit_score_current',\n",
    "    'mortgage_insurance_type',\n",
    "    'servicing_activity_indicator',\n",
    "    'current_period_modification_loss_ammount',\n",
    "    'cumulative_modification_loss_amount',\n",
    "    'current_period_credit_event_net_gainloss',\n",
    "    'cumulative_credit_event_net_gainloss',\n",
    "    'special_eligibility_program',\n",
    "    'foreclosure_principal_writeoff_amt',\n",
    "    'relocation_mortgage_indicator',\n",
    "    'zero_balance_code_change_date',\n",
    "    'loan_holdback_indicator',\n",
    "    'loan_holdback_effective_date',\n",
    "    'delinquent_accrued_interest',\n",
    "    'property_valuation_method',\n",
    "    'high_balance_loan_indicator',\n",
    "    'arm_initial_fixedrate_period_lessthan5yr_indicator',\n",
    "    'arm_product_type',\n",
    "    'initial_fixed_rate_period',\n",
    "    'interest_rate_adj_frequency',\n",
    "    'next_interest_rate_adj_date',\n",
    "    'next_payment_change_date',\n",
    "    'index',\n",
    "    'arm_cap_structure',\n",
    "    'initial_interest_rate_capup_pct',\n",
    "    'periodic_interest_rate_capup_pct',\n",
    "    'lifetime_interest_rate_capup_pct',\n",
    "    'mortgage_margin',\n",
    "    'arm_balloon_indicator',\n",
    "    'arm_plan_number',\n",
    "    'borrower_assistance_plan',\n",
    "    'high_ltv_refinance_option_indicator',\n",
    "    'deal_name',\n",
    "    'repurchase_make_whole_proceeds_flag',\n",
    "    'alternative_delinquency_resolution',\n",
    "    'alternative_delinquency_resolution_count',\n",
    "    'total_deferral_amount'] \n",
    "\n",
    "data.columns = column_names"
   ]
  },
  {
   "cell_type": "code",
   "execution_count": 6,
   "metadata": {
    "scrolled": true
   },
   "outputs": [
    {
     "name": "stdout",
     "output_type": "stream",
     "text": [
      "<class 'pandas.core.frame.DataFrame'>\n",
      "RangeIndex: 23104273 entries, 0 to 23104272\n",
      "Columns: 108 entries, reference_pool_id to total_deferral_amount\n",
      "dtypes: float64(75), int64(11), object(22)\n",
      "memory usage: 18.6+ GB\n"
     ]
    }
   ],
   "source": [
    "data.info()"
   ]
  },
  {
   "cell_type": "markdown",
   "metadata": {},
   "source": [
    "- Several variables have dtypes that should be changed to string (zipcode and msa)  \n",
    "and datetime (eg, date-related variable such as foreclosure date)."
   ]
  },
  {
   "cell_type": "code",
   "execution_count": 7,
   "metadata": {},
   "outputs": [
    {
     "data": {
      "text/html": [
       "<div>\n",
       "<style scoped>\n",
       "    .dataframe tbody tr th:only-of-type {\n",
       "        vertical-align: middle;\n",
       "    }\n",
       "\n",
       "    .dataframe tbody tr th {\n",
       "        vertical-align: top;\n",
       "    }\n",
       "\n",
       "    .dataframe thead th {\n",
       "        text-align: right;\n",
       "    }\n",
       "</style>\n",
       "<table border=\"1\" class=\"dataframe\">\n",
       "  <thead>\n",
       "    <tr style=\"text-align: right;\">\n",
       "      <th></th>\n",
       "      <th>reference_pool_id</th>\n",
       "      <th>loan_id</th>\n",
       "      <th>monthly_reporting_pd</th>\n",
       "      <th>channel</th>\n",
       "      <th>seller_name</th>\n",
       "      <th>servicer_name</th>\n",
       "      <th>master_servicer</th>\n",
       "      <th>original_interest_rate</th>\n",
       "      <th>current_interest_rate</th>\n",
       "      <th>original_UPB</th>\n",
       "      <th>...</th>\n",
       "      <th>mortgage_margin</th>\n",
       "      <th>arm_balloon_indicator</th>\n",
       "      <th>arm_plan_number</th>\n",
       "      <th>borrower_assistance_plan</th>\n",
       "      <th>high_ltv_refinance_option_indicator</th>\n",
       "      <th>deal_name</th>\n",
       "      <th>repurchase_make_whole_proceeds_flag</th>\n",
       "      <th>alternative_delinquency_resolution</th>\n",
       "      <th>alternative_delinquency_resolution_count</th>\n",
       "      <th>total_deferral_amount</th>\n",
       "    </tr>\n",
       "  </thead>\n",
       "  <tbody>\n",
       "    <tr>\n",
       "      <th>0</th>\n",
       "      <td>NaN</td>\n",
       "      <td>122128311</td>\n",
       "      <td>12021</td>\n",
       "      <td>R</td>\n",
       "      <td>loanDepot.com, LLC</td>\n",
       "      <td>loanDepot.com, LLC</td>\n",
       "      <td>NaN</td>\n",
       "      <td>2.125</td>\n",
       "      <td>2.125</td>\n",
       "      <td>619000.0</td>\n",
       "      <td>...</td>\n",
       "      <td>NaN</td>\n",
       "      <td>NaN</td>\n",
       "      <td>NaN</td>\n",
       "      <td>7</td>\n",
       "      <td>N</td>\n",
       "      <td>NaN</td>\n",
       "      <td>NaN</td>\n",
       "      <td>7</td>\n",
       "      <td>NaN</td>\n",
       "      <td>NaN</td>\n",
       "    </tr>\n",
       "    <tr>\n",
       "      <th>1</th>\n",
       "      <td>NaN</td>\n",
       "      <td>122128311</td>\n",
       "      <td>22021</td>\n",
       "      <td>R</td>\n",
       "      <td>loanDepot.com, LLC</td>\n",
       "      <td>loanDepot.com, LLC</td>\n",
       "      <td>NaN</td>\n",
       "      <td>2.125</td>\n",
       "      <td>2.125</td>\n",
       "      <td>619000.0</td>\n",
       "      <td>...</td>\n",
       "      <td>NaN</td>\n",
       "      <td>NaN</td>\n",
       "      <td>NaN</td>\n",
       "      <td>7</td>\n",
       "      <td>N</td>\n",
       "      <td>NaN</td>\n",
       "      <td>NaN</td>\n",
       "      <td>7</td>\n",
       "      <td>NaN</td>\n",
       "      <td>NaN</td>\n",
       "    </tr>\n",
       "    <tr>\n",
       "      <th>2</th>\n",
       "      <td>NaN</td>\n",
       "      <td>122128311</td>\n",
       "      <td>32021</td>\n",
       "      <td>R</td>\n",
       "      <td>loanDepot.com, LLC</td>\n",
       "      <td>loanDepot.com, LLC</td>\n",
       "      <td>NaN</td>\n",
       "      <td>2.125</td>\n",
       "      <td>2.125</td>\n",
       "      <td>619000.0</td>\n",
       "      <td>...</td>\n",
       "      <td>NaN</td>\n",
       "      <td>NaN</td>\n",
       "      <td>NaN</td>\n",
       "      <td>7</td>\n",
       "      <td>N</td>\n",
       "      <td>NaN</td>\n",
       "      <td>NaN</td>\n",
       "      <td>7</td>\n",
       "      <td>NaN</td>\n",
       "      <td>NaN</td>\n",
       "    </tr>\n",
       "    <tr>\n",
       "      <th>3</th>\n",
       "      <td>NaN</td>\n",
       "      <td>122128311</td>\n",
       "      <td>42021</td>\n",
       "      <td>R</td>\n",
       "      <td>loanDepot.com, LLC</td>\n",
       "      <td>loanDepot.com, LLC</td>\n",
       "      <td>NaN</td>\n",
       "      <td>2.125</td>\n",
       "      <td>2.125</td>\n",
       "      <td>619000.0</td>\n",
       "      <td>...</td>\n",
       "      <td>NaN</td>\n",
       "      <td>NaN</td>\n",
       "      <td>NaN</td>\n",
       "      <td>7</td>\n",
       "      <td>N</td>\n",
       "      <td>NaN</td>\n",
       "      <td>NaN</td>\n",
       "      <td>7</td>\n",
       "      <td>NaN</td>\n",
       "      <td>NaN</td>\n",
       "    </tr>\n",
       "    <tr>\n",
       "      <th>4</th>\n",
       "      <td>NaN</td>\n",
       "      <td>122128311</td>\n",
       "      <td>52021</td>\n",
       "      <td>R</td>\n",
       "      <td>loanDepot.com, LLC</td>\n",
       "      <td>loanDepot.com, LLC</td>\n",
       "      <td>NaN</td>\n",
       "      <td>2.125</td>\n",
       "      <td>2.125</td>\n",
       "      <td>619000.0</td>\n",
       "      <td>...</td>\n",
       "      <td>NaN</td>\n",
       "      <td>NaN</td>\n",
       "      <td>NaN</td>\n",
       "      <td>7</td>\n",
       "      <td>N</td>\n",
       "      <td>NaN</td>\n",
       "      <td>NaN</td>\n",
       "      <td>7</td>\n",
       "      <td>NaN</td>\n",
       "      <td>NaN</td>\n",
       "    </tr>\n",
       "  </tbody>\n",
       "</table>\n",
       "<p>5 rows × 108 columns</p>\n",
       "</div>"
      ],
      "text/plain": [
       "   reference_pool_id    loan_id  monthly_reporting_pd channel  \\\n",
       "0                NaN  122128311                 12021       R   \n",
       "1                NaN  122128311                 22021       R   \n",
       "2                NaN  122128311                 32021       R   \n",
       "3                NaN  122128311                 42021       R   \n",
       "4                NaN  122128311                 52021       R   \n",
       "\n",
       "          seller_name       servicer_name  master_servicer  \\\n",
       "0  loanDepot.com, LLC  loanDepot.com, LLC              NaN   \n",
       "1  loanDepot.com, LLC  loanDepot.com, LLC              NaN   \n",
       "2  loanDepot.com, LLC  loanDepot.com, LLC              NaN   \n",
       "3  loanDepot.com, LLC  loanDepot.com, LLC              NaN   \n",
       "4  loanDepot.com, LLC  loanDepot.com, LLC              NaN   \n",
       "\n",
       "   original_interest_rate  current_interest_rate  original_UPB  ...  \\\n",
       "0                   2.125                  2.125      619000.0  ...   \n",
       "1                   2.125                  2.125      619000.0  ...   \n",
       "2                   2.125                  2.125      619000.0  ...   \n",
       "3                   2.125                  2.125      619000.0  ...   \n",
       "4                   2.125                  2.125      619000.0  ...   \n",
       "\n",
       "   mortgage_margin  arm_balloon_indicator  arm_plan_number  \\\n",
       "0              NaN                    NaN              NaN   \n",
       "1              NaN                    NaN              NaN   \n",
       "2              NaN                    NaN              NaN   \n",
       "3              NaN                    NaN              NaN   \n",
       "4              NaN                    NaN              NaN   \n",
       "\n",
       "   borrower_assistance_plan  high_ltv_refinance_option_indicator  deal_name  \\\n",
       "0                         7                                    N        NaN   \n",
       "1                         7                                    N        NaN   \n",
       "2                         7                                    N        NaN   \n",
       "3                         7                                    N        NaN   \n",
       "4                         7                                    N        NaN   \n",
       "\n",
       "   repurchase_make_whole_proceeds_flag  alternative_delinquency_resolution  \\\n",
       "0                                  NaN                                   7   \n",
       "1                                  NaN                                   7   \n",
       "2                                  NaN                                   7   \n",
       "3                                  NaN                                   7   \n",
       "4                                  NaN                                   7   \n",
       "\n",
       "   alternative_delinquency_resolution_count  total_deferral_amount  \n",
       "0                                       NaN                    NaN  \n",
       "1                                       NaN                    NaN  \n",
       "2                                       NaN                    NaN  \n",
       "3                                       NaN                    NaN  \n",
       "4                                       NaN                    NaN  \n",
       "\n",
       "[5 rows x 108 columns]"
      ]
     },
     "execution_count": 7,
     "metadata": {},
     "output_type": "execute_result"
    }
   ],
   "source": [
    "# View df with new column names\n",
    "data.head()"
   ]
  },
  {
   "cell_type": "code",
   "execution_count": 8,
   "metadata": {},
   "outputs": [
    {
     "data": {
      "text/html": [
       "<div>\n",
       "<style scoped>\n",
       "    .dataframe tbody tr th:only-of-type {\n",
       "        vertical-align: middle;\n",
       "    }\n",
       "\n",
       "    .dataframe tbody tr th {\n",
       "        vertical-align: top;\n",
       "    }\n",
       "\n",
       "    .dataframe thead th {\n",
       "        text-align: right;\n",
       "    }\n",
       "</style>\n",
       "<table border=\"1\" class=\"dataframe\">\n",
       "  <thead>\n",
       "    <tr style=\"text-align: right;\">\n",
       "      <th></th>\n",
       "      <th>reference_pool_id</th>\n",
       "      <th>loan_id</th>\n",
       "      <th>monthly_reporting_pd</th>\n",
       "      <th>master_servicer</th>\n",
       "      <th>original_interest_rate</th>\n",
       "      <th>current_interest_rate</th>\n",
       "      <th>original_UPB</th>\n",
       "      <th>UPB_at_issuance</th>\n",
       "      <th>current_actual_UPB</th>\n",
       "      <th>original_loan_term</th>\n",
       "      <th>...</th>\n",
       "      <th>arm_cap_structure</th>\n",
       "      <th>initial_interest_rate_capup_pct</th>\n",
       "      <th>periodic_interest_rate_capup_pct</th>\n",
       "      <th>lifetime_interest_rate_capup_pct</th>\n",
       "      <th>mortgage_margin</th>\n",
       "      <th>arm_balloon_indicator</th>\n",
       "      <th>arm_plan_number</th>\n",
       "      <th>deal_name</th>\n",
       "      <th>alternative_delinquency_resolution_count</th>\n",
       "      <th>total_deferral_amount</th>\n",
       "    </tr>\n",
       "  </thead>\n",
       "  <tbody>\n",
       "    <tr>\n",
       "      <th>count</th>\n",
       "      <td>0.0</td>\n",
       "      <td>2.310427e+07</td>\n",
       "      <td>2.310427e+07</td>\n",
       "      <td>0.0</td>\n",
       "      <td>2.310427e+07</td>\n",
       "      <td>2.297653e+07</td>\n",
       "      <td>2.310427e+07</td>\n",
       "      <td>0.0</td>\n",
       "      <td>2.310427e+07</td>\n",
       "      <td>2.310427e+07</td>\n",
       "      <td>...</td>\n",
       "      <td>0.0</td>\n",
       "      <td>0.0</td>\n",
       "      <td>0.0</td>\n",
       "      <td>0.0</td>\n",
       "      <td>0.0</td>\n",
       "      <td>0.0</td>\n",
       "      <td>0.0</td>\n",
       "      <td>0.0</td>\n",
       "      <td>13096.000000</td>\n",
       "      <td>13096.000000</td>\n",
       "    </tr>\n",
       "    <tr>\n",
       "      <th>mean</th>\n",
       "      <td>NaN</td>\n",
       "      <td>1.228179e+08</td>\n",
       "      <td>5.968742e+04</td>\n",
       "      <td>NaN</td>\n",
       "      <td>2.787136e+00</td>\n",
       "      <td>2.786576e+00</td>\n",
       "      <td>2.822724e+05</td>\n",
       "      <td>NaN</td>\n",
       "      <td>2.736624e+05</td>\n",
       "      <td>3.147012e+02</td>\n",
       "      <td>...</td>\n",
       "      <td>NaN</td>\n",
       "      <td>NaN</td>\n",
       "      <td>NaN</td>\n",
       "      <td>NaN</td>\n",
       "      <td>NaN</td>\n",
       "      <td>NaN</td>\n",
       "      <td>NaN</td>\n",
       "      <td>NaN</td>\n",
       "      <td>1.019166</td>\n",
       "      <td>9074.492603</td>\n",
       "    </tr>\n",
       "    <tr>\n",
       "      <th>std</th>\n",
       "      <td>NaN</td>\n",
       "      <td>4.080091e+05</td>\n",
       "      <td>3.227374e+04</td>\n",
       "      <td>NaN</td>\n",
       "      <td>3.585050e-01</td>\n",
       "      <td>3.581182e-01</td>\n",
       "      <td>1.451962e+05</td>\n",
       "      <td>NaN</td>\n",
       "      <td>1.441662e+05</td>\n",
       "      <td>7.629344e+01</td>\n",
       "      <td>...</td>\n",
       "      <td>NaN</td>\n",
       "      <td>NaN</td>\n",
       "      <td>NaN</td>\n",
       "      <td>NaN</td>\n",
       "      <td>NaN</td>\n",
       "      <td>NaN</td>\n",
       "      <td>NaN</td>\n",
       "      <td>NaN</td>\n",
       "      <td>0.145753</td>\n",
       "      <td>7804.493354</td>\n",
       "    </tr>\n",
       "    <tr>\n",
       "      <th>min</th>\n",
       "      <td>NaN</td>\n",
       "      <td>1.221283e+08</td>\n",
       "      <td>1.202100e+04</td>\n",
       "      <td>NaN</td>\n",
       "      <td>1.500000e+00</td>\n",
       "      <td>1.500000e+00</td>\n",
       "      <td>1.500000e+04</td>\n",
       "      <td>NaN</td>\n",
       "      <td>0.000000e+00</td>\n",
       "      <td>8.500000e+01</td>\n",
       "      <td>...</td>\n",
       "      <td>NaN</td>\n",
       "      <td>NaN</td>\n",
       "      <td>NaN</td>\n",
       "      <td>NaN</td>\n",
       "      <td>NaN</td>\n",
       "      <td>NaN</td>\n",
       "      <td>NaN</td>\n",
       "      <td>NaN</td>\n",
       "      <td>1.000000</td>\n",
       "      <td>551.490000</td>\n",
       "    </tr>\n",
       "    <tr>\n",
       "      <th>25%</th>\n",
       "      <td>NaN</td>\n",
       "      <td>1.224628e+08</td>\n",
       "      <td>3.202200e+04</td>\n",
       "      <td>NaN</td>\n",
       "      <td>2.625000e+00</td>\n",
       "      <td>2.625000e+00</td>\n",
       "      <td>1.730000e+05</td>\n",
       "      <td>NaN</td>\n",
       "      <td>1.660000e+05</td>\n",
       "      <td>2.400000e+02</td>\n",
       "      <td>...</td>\n",
       "      <td>NaN</td>\n",
       "      <td>NaN</td>\n",
       "      <td>NaN</td>\n",
       "      <td>NaN</td>\n",
       "      <td>NaN</td>\n",
       "      <td>NaN</td>\n",
       "      <td>NaN</td>\n",
       "      <td>NaN</td>\n",
       "      <td>1.000000</td>\n",
       "      <td>3778.740000</td>\n",
       "    </tr>\n",
       "    <tr>\n",
       "      <th>50%</th>\n",
       "      <td>NaN</td>\n",
       "      <td>1.228084e+08</td>\n",
       "      <td>5.202200e+04</td>\n",
       "      <td>NaN</td>\n",
       "      <td>2.750000e+00</td>\n",
       "      <td>2.750000e+00</td>\n",
       "      <td>2.530000e+05</td>\n",
       "      <td>NaN</td>\n",
       "      <td>2.460000e+05</td>\n",
       "      <td>3.600000e+02</td>\n",
       "      <td>...</td>\n",
       "      <td>NaN</td>\n",
       "      <td>NaN</td>\n",
       "      <td>NaN</td>\n",
       "      <td>NaN</td>\n",
       "      <td>NaN</td>\n",
       "      <td>NaN</td>\n",
       "      <td>NaN</td>\n",
       "      <td>NaN</td>\n",
       "      <td>1.000000</td>\n",
       "      <td>6556.960000</td>\n",
       "    </tr>\n",
       "    <tr>\n",
       "      <th>75%</th>\n",
       "      <td>NaN</td>\n",
       "      <td>1.231696e+08</td>\n",
       "      <td>8.202100e+04</td>\n",
       "      <td>NaN</td>\n",
       "      <td>2.990000e+00</td>\n",
       "      <td>2.990000e+00</td>\n",
       "      <td>3.650000e+05</td>\n",
       "      <td>NaN</td>\n",
       "      <td>3.560000e+05</td>\n",
       "      <td>3.600000e+02</td>\n",
       "      <td>...</td>\n",
       "      <td>NaN</td>\n",
       "      <td>NaN</td>\n",
       "      <td>NaN</td>\n",
       "      <td>NaN</td>\n",
       "      <td>NaN</td>\n",
       "      <td>NaN</td>\n",
       "      <td>NaN</td>\n",
       "      <td>NaN</td>\n",
       "      <td>1.000000</td>\n",
       "      <td>11693.145000</td>\n",
       "    </tr>\n",
       "    <tr>\n",
       "      <th>max</th>\n",
       "      <td>NaN</td>\n",
       "      <td>1.235417e+08</td>\n",
       "      <td>1.220210e+05</td>\n",
       "      <td>NaN</td>\n",
       "      <td>5.875000e+00</td>\n",
       "      <td>5.875000e+00</td>\n",
       "      <td>1.582000e+06</td>\n",
       "      <td>NaN</td>\n",
       "      <td>1.582000e+06</td>\n",
       "      <td>3.600000e+02</td>\n",
       "      <td>...</td>\n",
       "      <td>NaN</td>\n",
       "      <td>NaN</td>\n",
       "      <td>NaN</td>\n",
       "      <td>NaN</td>\n",
       "      <td>NaN</td>\n",
       "      <td>NaN</td>\n",
       "      <td>NaN</td>\n",
       "      <td>NaN</td>\n",
       "      <td>4.000000</td>\n",
       "      <td>67940.680000</td>\n",
       "    </tr>\n",
       "  </tbody>\n",
       "</table>\n",
       "<p>8 rows × 86 columns</p>\n",
       "</div>"
      ],
      "text/plain": [
       "       reference_pool_id       loan_id  monthly_reporting_pd  master_servicer  \\\n",
       "count                0.0  2.310427e+07          2.310427e+07              0.0   \n",
       "mean                 NaN  1.228179e+08          5.968742e+04              NaN   \n",
       "std                  NaN  4.080091e+05          3.227374e+04              NaN   \n",
       "min                  NaN  1.221283e+08          1.202100e+04              NaN   \n",
       "25%                  NaN  1.224628e+08          3.202200e+04              NaN   \n",
       "50%                  NaN  1.228084e+08          5.202200e+04              NaN   \n",
       "75%                  NaN  1.231696e+08          8.202100e+04              NaN   \n",
       "max                  NaN  1.235417e+08          1.220210e+05              NaN   \n",
       "\n",
       "       original_interest_rate  current_interest_rate  original_UPB  \\\n",
       "count            2.310427e+07           2.297653e+07  2.310427e+07   \n",
       "mean             2.787136e+00           2.786576e+00  2.822724e+05   \n",
       "std              3.585050e-01           3.581182e-01  1.451962e+05   \n",
       "min              1.500000e+00           1.500000e+00  1.500000e+04   \n",
       "25%              2.625000e+00           2.625000e+00  1.730000e+05   \n",
       "50%              2.750000e+00           2.750000e+00  2.530000e+05   \n",
       "75%              2.990000e+00           2.990000e+00  3.650000e+05   \n",
       "max              5.875000e+00           5.875000e+00  1.582000e+06   \n",
       "\n",
       "       UPB_at_issuance  current_actual_UPB  original_loan_term  ...  \\\n",
       "count              0.0        2.310427e+07        2.310427e+07  ...   \n",
       "mean               NaN        2.736624e+05        3.147012e+02  ...   \n",
       "std                NaN        1.441662e+05        7.629344e+01  ...   \n",
       "min                NaN        0.000000e+00        8.500000e+01  ...   \n",
       "25%                NaN        1.660000e+05        2.400000e+02  ...   \n",
       "50%                NaN        2.460000e+05        3.600000e+02  ...   \n",
       "75%                NaN        3.560000e+05        3.600000e+02  ...   \n",
       "max                NaN        1.582000e+06        3.600000e+02  ...   \n",
       "\n",
       "       arm_cap_structure  initial_interest_rate_capup_pct  \\\n",
       "count                0.0                              0.0   \n",
       "mean                 NaN                              NaN   \n",
       "std                  NaN                              NaN   \n",
       "min                  NaN                              NaN   \n",
       "25%                  NaN                              NaN   \n",
       "50%                  NaN                              NaN   \n",
       "75%                  NaN                              NaN   \n",
       "max                  NaN                              NaN   \n",
       "\n",
       "       periodic_interest_rate_capup_pct  lifetime_interest_rate_capup_pct  \\\n",
       "count                               0.0                               0.0   \n",
       "mean                                NaN                               NaN   \n",
       "std                                 NaN                               NaN   \n",
       "min                                 NaN                               NaN   \n",
       "25%                                 NaN                               NaN   \n",
       "50%                                 NaN                               NaN   \n",
       "75%                                 NaN                               NaN   \n",
       "max                                 NaN                               NaN   \n",
       "\n",
       "       mortgage_margin  arm_balloon_indicator  arm_plan_number  deal_name  \\\n",
       "count              0.0                    0.0              0.0        0.0   \n",
       "mean               NaN                    NaN              NaN        NaN   \n",
       "std                NaN                    NaN              NaN        NaN   \n",
       "min                NaN                    NaN              NaN        NaN   \n",
       "25%                NaN                    NaN              NaN        NaN   \n",
       "50%                NaN                    NaN              NaN        NaN   \n",
       "75%                NaN                    NaN              NaN        NaN   \n",
       "max                NaN                    NaN              NaN        NaN   \n",
       "\n",
       "       alternative_delinquency_resolution_count  total_deferral_amount  \n",
       "count                              13096.000000           13096.000000  \n",
       "mean                                   1.019166            9074.492603  \n",
       "std                                    0.145753            7804.493354  \n",
       "min                                    1.000000             551.490000  \n",
       "25%                                    1.000000            3778.740000  \n",
       "50%                                    1.000000            6556.960000  \n",
       "75%                                    1.000000           11693.145000  \n",
       "max                                    4.000000           67940.680000  \n",
       "\n",
       "[8 rows x 86 columns]"
      ]
     },
     "execution_count": 8,
     "metadata": {},
     "output_type": "execute_result"
    }
   ],
   "source": [
    "# View df's descriptive statistics\n",
    "data.describe()"
   ]
  },
  {
   "cell_type": "markdown",
   "metadata": {},
   "source": [
    "- Several columns have missing values to examine."
   ]
  },
  {
   "cell_type": "markdown",
   "metadata": {},
   "source": [
    "## Pre-processing Data"
   ]
  },
  {
   "cell_type": "code",
   "execution_count": 9,
   "metadata": {},
   "outputs": [],
   "source": [
    "# Drop reference_id, loan_id, date columns, geography-related columns (zipcode  \n",
    "# and msa), loan_age_months, which are not loan characteristics  \n",
    "# that will inform this analysis\n",
    "# For now, keep origination_date and foreclosure_date for feature engineering\n",
    "data.drop(['reference_pool_id', 'loan_id', 'monthly_reporting_pd', \n",
    "           'first_payment_date', 'disposition_date', 'maturity_date',\n",
    "           'zipcode_short', 'metropolitan_statistical_area', 'property_state',\n",
    "           'loan_age_months'], axis = 1, inplace = True)"
   ]
  },
  {
   "cell_type": "markdown",
   "metadata": {},
   "source": [
    "### Change data types"
   ]
  },
  {
   "cell_type": "code",
   "execution_count": 10,
   "metadata": {},
   "outputs": [],
   "source": [
    "# Convert origination_date and foreclosure_date column to datetime with format mm/dd/yy\n",
    "data['origination_date'] = pd.to_datetime(data['foreclosure_date'], format='%m%d%y')\n",
    "data['foreclosure_date'] = pd.to_datetime(data['foreclosure_date'], format='%m%d%y')"
   ]
  },
  {
   "cell_type": "markdown",
   "metadata": {},
   "source": [
    "### Null values"
   ]
  },
  {
   "cell_type": "code",
   "execution_count": 11,
   "metadata": {},
   "outputs": [
    {
     "data": {
      "text/html": [
       "<div>\n",
       "<style scoped>\n",
       "    .dataframe tbody tr th:only-of-type {\n",
       "        vertical-align: middle;\n",
       "    }\n",
       "\n",
       "    .dataframe tbody tr th {\n",
       "        vertical-align: top;\n",
       "    }\n",
       "\n",
       "    .dataframe thead th {\n",
       "        text-align: right;\n",
       "    }\n",
       "</style>\n",
       "<table border=\"1\" class=\"dataframe\">\n",
       "  <thead>\n",
       "    <tr style=\"text-align: right;\">\n",
       "      <th></th>\n",
       "      <th>channel</th>\n",
       "      <th>seller_name</th>\n",
       "      <th>servicer_name</th>\n",
       "      <th>original_interest_rate</th>\n",
       "      <th>current_interest_rate</th>\n",
       "      <th>original_UPB</th>\n",
       "      <th>current_actual_UPB</th>\n",
       "      <th>original_loan_term</th>\n",
       "      <th>origination_date</th>\n",
       "      <th>months_to_legal_maturity</th>\n",
       "      <th>...</th>\n",
       "      <th>foreclosure_principal_writeoff_amt</th>\n",
       "      <th>relocation_mortgage_indicator</th>\n",
       "      <th>property_valuation_method</th>\n",
       "      <th>high_balance_loan_indicator</th>\n",
       "      <th>borrower_assistance_plan</th>\n",
       "      <th>high_ltv_refinance_option_indicator</th>\n",
       "      <th>repurchase_make_whole_proceeds_flag</th>\n",
       "      <th>alternative_delinquency_resolution</th>\n",
       "      <th>alternative_delinquency_resolution_count</th>\n",
       "      <th>total_deferral_amount</th>\n",
       "    </tr>\n",
       "  </thead>\n",
       "  <tbody>\n",
       "    <tr>\n",
       "      <th>0</th>\n",
       "      <td>R</td>\n",
       "      <td>loanDepot.com, LLC</td>\n",
       "      <td>loanDepot.com, LLC</td>\n",
       "      <td>2.125</td>\n",
       "      <td>2.125</td>\n",
       "      <td>619000.0</td>\n",
       "      <td>616000.0</td>\n",
       "      <td>180</td>\n",
       "      <td>NaT</td>\n",
       "      <td>180.0</td>\n",
       "      <td>...</td>\n",
       "      <td>NaN</td>\n",
       "      <td>N</td>\n",
       "      <td>W</td>\n",
       "      <td>Y</td>\n",
       "      <td>7</td>\n",
       "      <td>N</td>\n",
       "      <td>NaN</td>\n",
       "      <td>7</td>\n",
       "      <td>NaN</td>\n",
       "      <td>NaN</td>\n",
       "    </tr>\n",
       "    <tr>\n",
       "      <th>1</th>\n",
       "      <td>R</td>\n",
       "      <td>loanDepot.com, LLC</td>\n",
       "      <td>loanDepot.com, LLC</td>\n",
       "      <td>2.125</td>\n",
       "      <td>2.125</td>\n",
       "      <td>619000.0</td>\n",
       "      <td>613000.0</td>\n",
       "      <td>180</td>\n",
       "      <td>NaT</td>\n",
       "      <td>179.0</td>\n",
       "      <td>...</td>\n",
       "      <td>NaN</td>\n",
       "      <td>N</td>\n",
       "      <td>W</td>\n",
       "      <td>Y</td>\n",
       "      <td>7</td>\n",
       "      <td>N</td>\n",
       "      <td>NaN</td>\n",
       "      <td>7</td>\n",
       "      <td>NaN</td>\n",
       "      <td>NaN</td>\n",
       "    </tr>\n",
       "    <tr>\n",
       "      <th>2</th>\n",
       "      <td>R</td>\n",
       "      <td>loanDepot.com, LLC</td>\n",
       "      <td>loanDepot.com, LLC</td>\n",
       "      <td>2.125</td>\n",
       "      <td>2.125</td>\n",
       "      <td>619000.0</td>\n",
       "      <td>610000.0</td>\n",
       "      <td>180</td>\n",
       "      <td>NaT</td>\n",
       "      <td>178.0</td>\n",
       "      <td>...</td>\n",
       "      <td>NaN</td>\n",
       "      <td>N</td>\n",
       "      <td>W</td>\n",
       "      <td>Y</td>\n",
       "      <td>7</td>\n",
       "      <td>N</td>\n",
       "      <td>NaN</td>\n",
       "      <td>7</td>\n",
       "      <td>NaN</td>\n",
       "      <td>NaN</td>\n",
       "    </tr>\n",
       "    <tr>\n",
       "      <th>3</th>\n",
       "      <td>R</td>\n",
       "      <td>loanDepot.com, LLC</td>\n",
       "      <td>loanDepot.com, LLC</td>\n",
       "      <td>2.125</td>\n",
       "      <td>2.125</td>\n",
       "      <td>619000.0</td>\n",
       "      <td>607000.0</td>\n",
       "      <td>180</td>\n",
       "      <td>NaT</td>\n",
       "      <td>177.0</td>\n",
       "      <td>...</td>\n",
       "      <td>NaN</td>\n",
       "      <td>N</td>\n",
       "      <td>W</td>\n",
       "      <td>Y</td>\n",
       "      <td>7</td>\n",
       "      <td>N</td>\n",
       "      <td>NaN</td>\n",
       "      <td>7</td>\n",
       "      <td>NaN</td>\n",
       "      <td>NaN</td>\n",
       "    </tr>\n",
       "    <tr>\n",
       "      <th>4</th>\n",
       "      <td>R</td>\n",
       "      <td>loanDepot.com, LLC</td>\n",
       "      <td>loanDepot.com, LLC</td>\n",
       "      <td>2.125</td>\n",
       "      <td>2.125</td>\n",
       "      <td>619000.0</td>\n",
       "      <td>604000.0</td>\n",
       "      <td>180</td>\n",
       "      <td>NaT</td>\n",
       "      <td>176.0</td>\n",
       "      <td>...</td>\n",
       "      <td>NaN</td>\n",
       "      <td>N</td>\n",
       "      <td>W</td>\n",
       "      <td>Y</td>\n",
       "      <td>7</td>\n",
       "      <td>N</td>\n",
       "      <td>NaN</td>\n",
       "      <td>7</td>\n",
       "      <td>NaN</td>\n",
       "      <td>NaN</td>\n",
       "    </tr>\n",
       "  </tbody>\n",
       "</table>\n",
       "<p>5 rows × 50 columns</p>\n",
       "</div>"
      ],
      "text/plain": [
       "  channel         seller_name       servicer_name  original_interest_rate  \\\n",
       "0       R  loanDepot.com, LLC  loanDepot.com, LLC                   2.125   \n",
       "1       R  loanDepot.com, LLC  loanDepot.com, LLC                   2.125   \n",
       "2       R  loanDepot.com, LLC  loanDepot.com, LLC                   2.125   \n",
       "3       R  loanDepot.com, LLC  loanDepot.com, LLC                   2.125   \n",
       "4       R  loanDepot.com, LLC  loanDepot.com, LLC                   2.125   \n",
       "\n",
       "   current_interest_rate  original_UPB  current_actual_UPB  \\\n",
       "0                  2.125      619000.0            616000.0   \n",
       "1                  2.125      619000.0            613000.0   \n",
       "2                  2.125      619000.0            610000.0   \n",
       "3                  2.125      619000.0            607000.0   \n",
       "4                  2.125      619000.0            604000.0   \n",
       "\n",
       "   original_loan_term origination_date  months_to_legal_maturity  ...  \\\n",
       "0                 180              NaT                     180.0  ...   \n",
       "1                 180              NaT                     179.0  ...   \n",
       "2                 180              NaT                     178.0  ...   \n",
       "3                 180              NaT                     177.0  ...   \n",
       "4                 180              NaT                     176.0  ...   \n",
       "\n",
       "   foreclosure_principal_writeoff_amt  relocation_mortgage_indicator  \\\n",
       "0                                 NaN                              N   \n",
       "1                                 NaN                              N   \n",
       "2                                 NaN                              N   \n",
       "3                                 NaN                              N   \n",
       "4                                 NaN                              N   \n",
       "\n",
       "   property_valuation_method  high_balance_loan_indicator  \\\n",
       "0                          W                            Y   \n",
       "1                          W                            Y   \n",
       "2                          W                            Y   \n",
       "3                          W                            Y   \n",
       "4                          W                            Y   \n",
       "\n",
       "   borrower_assistance_plan  high_ltv_refinance_option_indicator  \\\n",
       "0                         7                                    N   \n",
       "1                         7                                    N   \n",
       "2                         7                                    N   \n",
       "3                         7                                    N   \n",
       "4                         7                                    N   \n",
       "\n",
       "   repurchase_make_whole_proceeds_flag alternative_delinquency_resolution  \\\n",
       "0                                  NaN                                  7   \n",
       "1                                  NaN                                  7   \n",
       "2                                  NaN                                  7   \n",
       "3                                  NaN                                  7   \n",
       "4                                  NaN                                  7   \n",
       "\n",
       "  alternative_delinquency_resolution_count total_deferral_amount  \n",
       "0                                      NaN                   NaN  \n",
       "1                                      NaN                   NaN  \n",
       "2                                      NaN                   NaN  \n",
       "3                                      NaN                   NaN  \n",
       "4                                      NaN                   NaN  \n",
       "\n",
       "[5 rows x 50 columns]"
      ]
     },
     "execution_count": 11,
     "metadata": {},
     "output_type": "execute_result"
    }
   ],
   "source": [
    "# Drop columns that have all NaNs\n",
    "data = data.dropna(how='all', axis=1)\n",
    "data.head()"
   ]
  },
  {
   "cell_type": "code",
   "execution_count": 12,
   "metadata": {},
   "outputs": [
    {
     "name": "stdout",
     "output_type": "stream",
     "text": [
      "channel                                            0\n",
      "seller_name                                        0\n",
      "servicer_name                                 127751\n",
      "original_interest_rate                             0\n",
      "current_interest_rate                         127741\n",
      "original_UPB                                       0\n",
      "current_actual_UPB                                 0\n",
      "original_loan_term                                 0\n",
      "origination_date                            23104263\n",
      "months_to_legal_maturity                      127751\n",
      "months_to_maturity                            127902\n",
      "original_ltv                                       0\n",
      "original_combined_ltv                              0\n",
      "number_of_borrowers                                0\n",
      "debt_to_income                                   558\n",
      "borrower_credit_score_origination               6380\n",
      "co-borrower_credit_score_origination        12212372\n",
      "first_time_homebuyer                               0\n",
      "loan_purpose                                       0\n",
      "property_type                                      0\n",
      "number_of_units                                    0\n",
      "occupancy_status                                   0\n",
      "mortgage_insurance_pct                      18999872\n",
      "amortization_type                                  0\n",
      "prepayment_penalty_indicator                       0\n",
      "interest_only_loan_indicator                       0\n",
      "loan_delinquency_months                            0\n",
      "loan_payment_history                          127751\n",
      "modification_flag                             127741\n",
      "zero_balance_code                           22976522\n",
      "zero_balance_effective_date                 22976522\n",
      "upb_at_time_of_removal                      22976522\n",
      "total_principal_current                      1413390\n",
      "last_paid_installment_date                  23104263\n",
      "foreclosure_date                            23104263\n",
      "non_interest_bearing_upb                    23104122\n",
      "principal_forgiveness_amount                23090902\n",
      "mortgage_insurance_type                     18999872\n",
      "servicing_activity_indicator                  127751\n",
      "special_eligibility_program                        0\n",
      "foreclosure_principal_writeoff_amt          23090902\n",
      "relocation_mortgage_indicator                      0\n",
      "property_valuation_method                          0\n",
      "high_balance_loan_indicator                        0\n",
      "borrower_assistance_plan                           0\n",
      "high_ltv_refinance_option_indicator                0\n",
      "repurchase_make_whole_proceeds_flag         22976522\n",
      "alternative_delinquency_resolution                 0\n",
      "alternative_delinquency_resolution_count    23091177\n",
      "total_deferral_amount                       23091177\n",
      "dtype: int64\n"
     ]
    }
   ],
   "source": [
    "# Check for null values\n",
    "print(data.isnull().sum())"
   ]
  },
  {
   "cell_type": "markdown",
   "metadata": {},
   "source": [
    "- Several columns still have a significant amount of missing data. Based on the similar counts of missing  \n",
    "data, it appears that there are records that have missing values for several columns. This means that we  \n",
    "can explore dropping columns with large counts of missing values."
   ]
  },
  {
   "cell_type": "code",
   "execution_count": 13,
   "metadata": {},
   "outputs": [
    {
     "data": {
      "text/plain": [
       "NaN    18999872\n",
       "1.0     4050099\n",
       "2.0       43908\n",
       "3.0       10394\n",
       "Name: mortgage_insurance_type, dtype: int64"
      ]
     },
     "execution_count": 13,
     "metadata": {},
     "output_type": "execute_result"
    }
   ],
   "source": [
    "# Examine mortgage insurance type, which has high number of null values\n",
    "data['mortgage_insurance_type'].value_counts(dropna=False)"
   ]
  },
  {
   "cell_type": "code",
   "execution_count": 14,
   "metadata": {},
   "outputs": [
    {
     "data": {
      "text/plain": [
       "4    18999872\n",
       "1     4050099\n",
       "2       43908\n",
       "3       10394\n",
       "Name: mortgage_insurance_type, dtype: int64"
      ]
     },
     "execution_count": 14,
     "metadata": {},
     "output_type": "execute_result"
    }
   ],
   "source": [
    "# For mortgage_insurance_type, fill NaN with '4' to represent 'no mortgage insurance'\n",
    "data['mortgage_insurance_type'].fillna('4', inplace=True)\n",
    "data['mortgage_insurance_type'].replace({1.0: 1, 2.0: 2, 3.0: 3}, inplace=True)\n",
    "# View value counts\n",
    "data['mortgage_insurance_type'].value_counts()"
   ]
  },
  {
   "cell_type": "code",
   "execution_count": 15,
   "metadata": {},
   "outputs": [
    {
     "data": {
      "text/plain": [
       "NaN      12212372\n",
       "809.0      226704\n",
       "801.0      224981\n",
       "808.0      197816\n",
       "804.0      182465\n",
       "           ...   \n",
       "839.0          71\n",
       "833.0          34\n",
       "840.0          18\n",
       "841.0          17\n",
       "835.0          16\n",
       "Name: co-borrower_credit_score_origination, Length: 220, dtype: int64"
      ]
     },
     "execution_count": 15,
     "metadata": {},
     "output_type": "execute_result"
    }
   ],
   "source": [
    "# Examine co-borrower credit scores, which has high number of null values, \n",
    "# possibly indicating that there is no co-borrower\n",
    "data['co-borrower_credit_score_origination'].value_counts(dropna = False)"
   ]
  },
  {
   "cell_type": "code",
   "execution_count": 16,
   "metadata": {},
   "outputs": [
    {
     "data": {
      "text/plain": [
       "0    12212372\n",
       "1    10891901\n",
       "Name: co-borrower_status, dtype: int64"
      ]
     },
     "execution_count": 16,
     "metadata": {},
     "output_type": "execute_result"
    }
   ],
   "source": [
    "# Create co-borrower binary variable to indicate if there is co-borrower or not\n",
    "data['co-borrower_status'] = np.where(data['co-borrower_credit_score_origination'].isnull(), 0, 1)\n",
    "# Set data type to object\n",
    "data['co-borrower_status'] = data['co-borrower_status'].astype(int)\n",
    "data['co-borrower_status'].value_counts(dropna=False)"
   ]
  },
  {
   "cell_type": "code",
   "execution_count": 17,
   "metadata": {},
   "outputs": [
    {
     "data": {
      "text/plain": [
       "NaN    23090902\n",
       "0.0       13371\n",
       "Name: principal_forgiveness_amount, dtype: int64"
      ]
     },
     "execution_count": 17,
     "metadata": {},
     "output_type": "execute_result"
    }
   ],
   "source": [
    "data['principal_forgiveness_amount'].value_counts(dropna = False)"
   ]
  },
  {
   "cell_type": "markdown",
   "metadata": {},
   "source": [
    "- principal forgiveness amount variable provides future information that will not  \n",
    "assist with predicting problem loans"
   ]
  },
  {
   "cell_type": "code",
   "execution_count": 18,
   "metadata": {},
   "outputs": [
    {
     "data": {
      "text/plain": [
       "NaN    23090902\n",
       "0.0       13371\n",
       "Name: foreclosure_principal_writeoff_amt, dtype: int64"
      ]
     },
     "execution_count": 18,
     "metadata": {},
     "output_type": "execute_result"
    }
   ],
   "source": [
    "data['foreclosure_principal_writeoff_amt'].value_counts(dropna=False)"
   ]
  },
  {
   "cell_type": "markdown",
   "metadata": {},
   "source": [
    "- foreclosure principal writeoff amount variable provides future information that will not  \n",
    "assist with predicting problem loans"
   ]
  },
  {
   "cell_type": "code",
   "execution_count": 19,
   "metadata": {},
   "outputs": [],
   "source": [
    "# Drop columns where more than 50% of values are missing\n",
    "# Keep foreclosure date for later use in calculation of problem loans \n",
    "data.drop(['co-borrower_credit_score_origination', 'mortgage_insurance_pct',\n",
    "          'zero_balance_code', 'zero_balance_effective_date',\n",
    "          'upb_at_time_of_removal', 'last_paid_installment_date',\n",
    "          'total_principal_current', \n",
    "           'non_interest_bearing_upb', 'principal_forgiveness_amount',\n",
    "           'foreclosure_principal_writeoff_amt', \n",
    "          'repurchase_make_whole_proceeds_flag', \n",
    "          'alternative_delinquency_resolution_count', \n",
    "          'total_deferral_amount'], axis = 1, inplace=True)"
   ]
  },
  {
   "cell_type": "code",
   "execution_count": 20,
   "metadata": {},
   "outputs": [
    {
     "data": {
      "text/plain": [
       "channel                                       0\n",
       "seller_name                                   0\n",
       "servicer_name                            127751\n",
       "original_interest_rate                        0\n",
       "current_interest_rate                    127741\n",
       "original_UPB                                  0\n",
       "current_actual_UPB                            0\n",
       "original_loan_term                            0\n",
       "origination_date                       23104263\n",
       "months_to_legal_maturity                 127751\n",
       "months_to_maturity                       127902\n",
       "original_ltv                                  0\n",
       "original_combined_ltv                         0\n",
       "number_of_borrowers                           0\n",
       "debt_to_income                              558\n",
       "borrower_credit_score_origination          6380\n",
       "first_time_homebuyer                          0\n",
       "loan_purpose                                  0\n",
       "property_type                                 0\n",
       "number_of_units                               0\n",
       "occupancy_status                              0\n",
       "amortization_type                             0\n",
       "prepayment_penalty_indicator                  0\n",
       "interest_only_loan_indicator                  0\n",
       "loan_delinquency_months                       0\n",
       "loan_payment_history                     127751\n",
       "modification_flag                        127741\n",
       "foreclosure_date                       23104263\n",
       "mortgage_insurance_type                       0\n",
       "servicing_activity_indicator             127751\n",
       "special_eligibility_program                   0\n",
       "relocation_mortgage_indicator                 0\n",
       "property_valuation_method                     0\n",
       "high_balance_loan_indicator                   0\n",
       "borrower_assistance_plan                      0\n",
       "high_ltv_refinance_option_indicator           0\n",
       "alternative_delinquency_resolution            0\n",
       "co-borrower_status                            0\n",
       "dtype: int64"
      ]
     },
     "execution_count": 20,
     "metadata": {},
     "output_type": "execute_result"
    }
   ],
   "source": [
    "data.isnull().sum()"
   ]
  },
  {
   "cell_type": "code",
   "execution_count": 21,
   "metadata": {},
   "outputs": [],
   "source": [
    "# Fill na with mean for variables: debt_to_income, borrower_credit_score_origination, \n",
    "# months_to_maturity\n",
    "data['debt_to_income'].fillna(data['debt_to_income'].mean(), inplace=True)\n",
    "data['borrower_credit_score_origination'].fillna(\n",
    "    data['borrower_credit_score_origination'].mean(), inplace=True)\n",
    "data['months_to_maturity'].fillna(data['months_to_maturity'].mean(), inplace=True)"
   ]
  },
  {
   "cell_type": "code",
   "execution_count": 22,
   "metadata": {},
   "outputs": [
    {
     "data": {
      "text/plain": [
       "2022-05-20    2\n",
       "2021-12-20    2\n",
       "2022-06-20    1\n",
       "2021-06-20    1\n",
       "2022-04-20    1\n",
       "2022-01-20    1\n",
       "2022-03-20    1\n",
       "2022-02-20    1\n",
       "Name: foreclosure_date, dtype: int64"
      ]
     },
     "execution_count": 22,
     "metadata": {},
     "output_type": "execute_result"
    }
   ],
   "source": [
    "data['foreclosure_date'].value_counts()"
   ]
  },
  {
   "cell_type": "markdown",
   "metadata": {},
   "source": [
    "- Only a handfull of records have foreclosed"
   ]
  },
  {
   "cell_type": "code",
   "execution_count": 23,
   "metadata": {},
   "outputs": [],
   "source": [
    "# instantiate label encoder\n",
    "label_enc = LabelEncoder()"
   ]
  },
  {
   "cell_type": "code",
   "execution_count": 24,
   "metadata": {},
   "outputs": [
    {
     "data": {
      "text/plain": [
       "0    23104263\n",
       "1          10\n",
       "Name: foreclosure_status, dtype: int64"
      ]
     },
     "execution_count": 24,
     "metadata": {},
     "output_type": "execute_result"
    }
   ],
   "source": [
    "# Create new, binary variable that indicates foreclosure status (0: no, 1: yes)\n",
    "data['foreclosure_status'] = np.where(data['foreclosure_date'].isnull(), 0, 1)\n",
    "# Apply label encoding\n",
    "data['foreclosure_status'] = label_enc.fit_transform(data['foreclosure_status'].astype(str))\n",
    "data['foreclosure_status'].value_counts(dropna=False)"
   ]
  },
  {
   "cell_type": "code",
   "execution_count": 25,
   "metadata": {},
   "outputs": [],
   "source": [
    "# Drop foreclosure date, which has mostly missing values\n",
    "data.drop(['foreclosure_date'], axis=1, inplace=True)"
   ]
  },
  {
   "cell_type": "code",
   "execution_count": 26,
   "metadata": {},
   "outputs": [
    {
     "data": {
      "text/html": [
       "<div>\n",
       "<style scoped>\n",
       "    .dataframe tbody tr th:only-of-type {\n",
       "        vertical-align: middle;\n",
       "    }\n",
       "\n",
       "    .dataframe tbody tr th {\n",
       "        vertical-align: top;\n",
       "    }\n",
       "\n",
       "    .dataframe thead th {\n",
       "        text-align: right;\n",
       "    }\n",
       "</style>\n",
       "<table border=\"1\" class=\"dataframe\">\n",
       "  <thead>\n",
       "    <tr style=\"text-align: right;\">\n",
       "      <th></th>\n",
       "      <th>channel</th>\n",
       "      <th>seller_name</th>\n",
       "      <th>servicer_name</th>\n",
       "      <th>original_interest_rate</th>\n",
       "      <th>current_interest_rate</th>\n",
       "      <th>original_UPB</th>\n",
       "      <th>current_actual_UPB</th>\n",
       "      <th>original_loan_term</th>\n",
       "      <th>origination_date</th>\n",
       "      <th>months_to_legal_maturity</th>\n",
       "      <th>...</th>\n",
       "      <th>servicing_activity_indicator</th>\n",
       "      <th>special_eligibility_program</th>\n",
       "      <th>relocation_mortgage_indicator</th>\n",
       "      <th>property_valuation_method</th>\n",
       "      <th>high_balance_loan_indicator</th>\n",
       "      <th>borrower_assistance_plan</th>\n",
       "      <th>high_ltv_refinance_option_indicator</th>\n",
       "      <th>alternative_delinquency_resolution</th>\n",
       "      <th>co-borrower_status</th>\n",
       "      <th>foreclosure_status</th>\n",
       "    </tr>\n",
       "  </thead>\n",
       "  <tbody>\n",
       "    <tr>\n",
       "      <th>45</th>\n",
       "      <td>R</td>\n",
       "      <td>Other</td>\n",
       "      <td>NaN</td>\n",
       "      <td>2.625</td>\n",
       "      <td>NaN</td>\n",
       "      <td>589000.0</td>\n",
       "      <td>0.0</td>\n",
       "      <td>180</td>\n",
       "      <td>NaT</td>\n",
       "      <td>NaN</td>\n",
       "      <td>...</td>\n",
       "      <td>NaN</td>\n",
       "      <td>N</td>\n",
       "      <td>N</td>\n",
       "      <td>W</td>\n",
       "      <td>Y</td>\n",
       "      <td>7</td>\n",
       "      <td>N</td>\n",
       "      <td>7</td>\n",
       "      <td>1</td>\n",
       "      <td>0</td>\n",
       "    </tr>\n",
       "    <tr>\n",
       "      <th>177</th>\n",
       "      <td>B</td>\n",
       "      <td>Rocket Mortgage, LLC</td>\n",
       "      <td>NaN</td>\n",
       "      <td>2.875</td>\n",
       "      <td>NaN</td>\n",
       "      <td>765000.0</td>\n",
       "      <td>0.0</td>\n",
       "      <td>360</td>\n",
       "      <td>NaT</td>\n",
       "      <td>NaN</td>\n",
       "      <td>...</td>\n",
       "      <td>NaN</td>\n",
       "      <td>N</td>\n",
       "      <td>N</td>\n",
       "      <td>A</td>\n",
       "      <td>Y</td>\n",
       "      <td>7</td>\n",
       "      <td>N</td>\n",
       "      <td>7</td>\n",
       "      <td>1</td>\n",
       "      <td>0</td>\n",
       "    </tr>\n",
       "    <tr>\n",
       "      <th>195</th>\n",
       "      <td>C</td>\n",
       "      <td>PennyMac Corp.</td>\n",
       "      <td>NaN</td>\n",
       "      <td>2.875</td>\n",
       "      <td>NaN</td>\n",
       "      <td>715000.0</td>\n",
       "      <td>0.0</td>\n",
       "      <td>360</td>\n",
       "      <td>NaT</td>\n",
       "      <td>NaN</td>\n",
       "      <td>...</td>\n",
       "      <td>NaN</td>\n",
       "      <td>N</td>\n",
       "      <td>N</td>\n",
       "      <td>A</td>\n",
       "      <td>Y</td>\n",
       "      <td>7</td>\n",
       "      <td>N</td>\n",
       "      <td>7</td>\n",
       "      <td>0</td>\n",
       "      <td>0</td>\n",
       "    </tr>\n",
       "    <tr>\n",
       "      <th>478</th>\n",
       "      <td>B</td>\n",
       "      <td>United Wholesale Mortgage, LLC</td>\n",
       "      <td>NaN</td>\n",
       "      <td>3.250</td>\n",
       "      <td>NaN</td>\n",
       "      <td>628000.0</td>\n",
       "      <td>0.0</td>\n",
       "      <td>360</td>\n",
       "      <td>NaT</td>\n",
       "      <td>NaN</td>\n",
       "      <td>...</td>\n",
       "      <td>NaN</td>\n",
       "      <td>N</td>\n",
       "      <td>N</td>\n",
       "      <td>A</td>\n",
       "      <td>Y</td>\n",
       "      <td>7</td>\n",
       "      <td>N</td>\n",
       "      <td>7</td>\n",
       "      <td>1</td>\n",
       "      <td>0</td>\n",
       "    </tr>\n",
       "    <tr>\n",
       "      <th>740</th>\n",
       "      <td>C</td>\n",
       "      <td>PennyMac Corp.</td>\n",
       "      <td>NaN</td>\n",
       "      <td>2.250</td>\n",
       "      <td>NaN</td>\n",
       "      <td>611000.0</td>\n",
       "      <td>0.0</td>\n",
       "      <td>180</td>\n",
       "      <td>NaT</td>\n",
       "      <td>NaN</td>\n",
       "      <td>...</td>\n",
       "      <td>NaN</td>\n",
       "      <td>N</td>\n",
       "      <td>N</td>\n",
       "      <td>A</td>\n",
       "      <td>Y</td>\n",
       "      <td>7</td>\n",
       "      <td>N</td>\n",
       "      <td>7</td>\n",
       "      <td>1</td>\n",
       "      <td>0</td>\n",
       "    </tr>\n",
       "    <tr>\n",
       "      <th>...</th>\n",
       "      <td>...</td>\n",
       "      <td>...</td>\n",
       "      <td>...</td>\n",
       "      <td>...</td>\n",
       "      <td>...</td>\n",
       "      <td>...</td>\n",
       "      <td>...</td>\n",
       "      <td>...</td>\n",
       "      <td>...</td>\n",
       "      <td>...</td>\n",
       "      <td>...</td>\n",
       "      <td>...</td>\n",
       "      <td>...</td>\n",
       "      <td>...</td>\n",
       "      <td>...</td>\n",
       "      <td>...</td>\n",
       "      <td>...</td>\n",
       "      <td>...</td>\n",
       "      <td>...</td>\n",
       "      <td>...</td>\n",
       "      <td>...</td>\n",
       "    </tr>\n",
       "    <tr>\n",
       "      <th>23102680</th>\n",
       "      <td>R</td>\n",
       "      <td>CrossCountry Mortgage, LLC</td>\n",
       "      <td>NaN</td>\n",
       "      <td>3.375</td>\n",
       "      <td>NaN</td>\n",
       "      <td>152000.0</td>\n",
       "      <td>0.0</td>\n",
       "      <td>360</td>\n",
       "      <td>NaT</td>\n",
       "      <td>NaN</td>\n",
       "      <td>...</td>\n",
       "      <td>NaN</td>\n",
       "      <td>N</td>\n",
       "      <td>N</td>\n",
       "      <td>A</td>\n",
       "      <td>N</td>\n",
       "      <td>7</td>\n",
       "      <td>N</td>\n",
       "      <td>7</td>\n",
       "      <td>0</td>\n",
       "      <td>0</td>\n",
       "    </tr>\n",
       "    <tr>\n",
       "      <th>23103098</th>\n",
       "      <td>R</td>\n",
       "      <td>Other</td>\n",
       "      <td>NaN</td>\n",
       "      <td>2.625</td>\n",
       "      <td>NaN</td>\n",
       "      <td>315000.0</td>\n",
       "      <td>0.0</td>\n",
       "      <td>360</td>\n",
       "      <td>NaT</td>\n",
       "      <td>NaN</td>\n",
       "      <td>...</td>\n",
       "      <td>NaN</td>\n",
       "      <td>N</td>\n",
       "      <td>N</td>\n",
       "      <td>A</td>\n",
       "      <td>N</td>\n",
       "      <td>7</td>\n",
       "      <td>N</td>\n",
       "      <td>7</td>\n",
       "      <td>0</td>\n",
       "      <td>0</td>\n",
       "    </tr>\n",
       "    <tr>\n",
       "      <th>23103169</th>\n",
       "      <td>R</td>\n",
       "      <td>Other</td>\n",
       "      <td>NaN</td>\n",
       "      <td>2.875</td>\n",
       "      <td>NaN</td>\n",
       "      <td>369000.0</td>\n",
       "      <td>0.0</td>\n",
       "      <td>360</td>\n",
       "      <td>NaT</td>\n",
       "      <td>NaN</td>\n",
       "      <td>...</td>\n",
       "      <td>NaN</td>\n",
       "      <td>N</td>\n",
       "      <td>N</td>\n",
       "      <td>A</td>\n",
       "      <td>N</td>\n",
       "      <td>7</td>\n",
       "      <td>N</td>\n",
       "      <td>7</td>\n",
       "      <td>0</td>\n",
       "      <td>0</td>\n",
       "    </tr>\n",
       "    <tr>\n",
       "      <th>23103985</th>\n",
       "      <td>R</td>\n",
       "      <td>Rocket Mortgage, LLC</td>\n",
       "      <td>NaN</td>\n",
       "      <td>2.750</td>\n",
       "      <td>NaN</td>\n",
       "      <td>315000.0</td>\n",
       "      <td>0.0</td>\n",
       "      <td>360</td>\n",
       "      <td>NaT</td>\n",
       "      <td>NaN</td>\n",
       "      <td>...</td>\n",
       "      <td>NaN</td>\n",
       "      <td>N</td>\n",
       "      <td>N</td>\n",
       "      <td>W</td>\n",
       "      <td>N</td>\n",
       "      <td>7</td>\n",
       "      <td>N</td>\n",
       "      <td>7</td>\n",
       "      <td>0</td>\n",
       "      <td>0</td>\n",
       "    </tr>\n",
       "    <tr>\n",
       "      <th>23104080</th>\n",
       "      <td>R</td>\n",
       "      <td>Other</td>\n",
       "      <td>NaN</td>\n",
       "      <td>3.250</td>\n",
       "      <td>NaN</td>\n",
       "      <td>119000.0</td>\n",
       "      <td>0.0</td>\n",
       "      <td>360</td>\n",
       "      <td>NaT</td>\n",
       "      <td>NaN</td>\n",
       "      <td>...</td>\n",
       "      <td>NaN</td>\n",
       "      <td>N</td>\n",
       "      <td>N</td>\n",
       "      <td>A</td>\n",
       "      <td>N</td>\n",
       "      <td>7</td>\n",
       "      <td>N</td>\n",
       "      <td>7</td>\n",
       "      <td>0</td>\n",
       "      <td>0</td>\n",
       "    </tr>\n",
       "  </tbody>\n",
       "</table>\n",
       "<p>127751 rows × 38 columns</p>\n",
       "</div>"
      ],
      "text/plain": [
       "         channel                     seller_name servicer_name  \\\n",
       "45             R                           Other           NaN   \n",
       "177            B            Rocket Mortgage, LLC           NaN   \n",
       "195            C                  PennyMac Corp.           NaN   \n",
       "478            B  United Wholesale Mortgage, LLC           NaN   \n",
       "740            C                  PennyMac Corp.           NaN   \n",
       "...          ...                             ...           ...   \n",
       "23102680       R      CrossCountry Mortgage, LLC           NaN   \n",
       "23103098       R                           Other           NaN   \n",
       "23103169       R                           Other           NaN   \n",
       "23103985       R            Rocket Mortgage, LLC           NaN   \n",
       "23104080       R                           Other           NaN   \n",
       "\n",
       "          original_interest_rate  current_interest_rate  original_UPB  \\\n",
       "45                         2.625                    NaN      589000.0   \n",
       "177                        2.875                    NaN      765000.0   \n",
       "195                        2.875                    NaN      715000.0   \n",
       "478                        3.250                    NaN      628000.0   \n",
       "740                        2.250                    NaN      611000.0   \n",
       "...                          ...                    ...           ...   \n",
       "23102680                   3.375                    NaN      152000.0   \n",
       "23103098                   2.625                    NaN      315000.0   \n",
       "23103169                   2.875                    NaN      369000.0   \n",
       "23103985                   2.750                    NaN      315000.0   \n",
       "23104080                   3.250                    NaN      119000.0   \n",
       "\n",
       "          current_actual_UPB  original_loan_term origination_date  \\\n",
       "45                       0.0                 180              NaT   \n",
       "177                      0.0                 360              NaT   \n",
       "195                      0.0                 360              NaT   \n",
       "478                      0.0                 360              NaT   \n",
       "740                      0.0                 180              NaT   \n",
       "...                      ...                 ...              ...   \n",
       "23102680                 0.0                 360              NaT   \n",
       "23103098                 0.0                 360              NaT   \n",
       "23103169                 0.0                 360              NaT   \n",
       "23103985                 0.0                 360              NaT   \n",
       "23104080                 0.0                 360              NaT   \n",
       "\n",
       "          months_to_legal_maturity  ...  servicing_activity_indicator  \\\n",
       "45                             NaN  ...                           NaN   \n",
       "177                            NaN  ...                           NaN   \n",
       "195                            NaN  ...                           NaN   \n",
       "478                            NaN  ...                           NaN   \n",
       "740                            NaN  ...                           NaN   \n",
       "...                            ...  ...                           ...   \n",
       "23102680                       NaN  ...                           NaN   \n",
       "23103098                       NaN  ...                           NaN   \n",
       "23103169                       NaN  ...                           NaN   \n",
       "23103985                       NaN  ...                           NaN   \n",
       "23104080                       NaN  ...                           NaN   \n",
       "\n",
       "          special_eligibility_program  relocation_mortgage_indicator  \\\n",
       "45                                  N                              N   \n",
       "177                                 N                              N   \n",
       "195                                 N                              N   \n",
       "478                                 N                              N   \n",
       "740                                 N                              N   \n",
       "...                               ...                            ...   \n",
       "23102680                            N                              N   \n",
       "23103098                            N                              N   \n",
       "23103169                            N                              N   \n",
       "23103985                            N                              N   \n",
       "23104080                            N                              N   \n",
       "\n",
       "          property_valuation_method  high_balance_loan_indicator  \\\n",
       "45                                W                            Y   \n",
       "177                               A                            Y   \n",
       "195                               A                            Y   \n",
       "478                               A                            Y   \n",
       "740                               A                            Y   \n",
       "...                             ...                          ...   \n",
       "23102680                          A                            N   \n",
       "23103098                          A                            N   \n",
       "23103169                          A                            N   \n",
       "23103985                          W                            N   \n",
       "23104080                          A                            N   \n",
       "\n",
       "          borrower_assistance_plan high_ltv_refinance_option_indicator  \\\n",
       "45                               7                                   N   \n",
       "177                              7                                   N   \n",
       "195                              7                                   N   \n",
       "478                              7                                   N   \n",
       "740                              7                                   N   \n",
       "...                            ...                                 ...   \n",
       "23102680                         7                                   N   \n",
       "23103098                         7                                   N   \n",
       "23103169                         7                                   N   \n",
       "23103985                         7                                   N   \n",
       "23104080                         7                                   N   \n",
       "\n",
       "         alternative_delinquency_resolution co-borrower_status  \\\n",
       "45                                        7                  1   \n",
       "177                                       7                  1   \n",
       "195                                       7                  0   \n",
       "478                                       7                  1   \n",
       "740                                       7                  1   \n",
       "...                                     ...                ...   \n",
       "23102680                                  7                  0   \n",
       "23103098                                  7                  0   \n",
       "23103169                                  7                  0   \n",
       "23103985                                  7                  0   \n",
       "23104080                                  7                  0   \n",
       "\n",
       "          foreclosure_status  \n",
       "45                         0  \n",
       "177                        0  \n",
       "195                        0  \n",
       "478                        0  \n",
       "740                        0  \n",
       "...                      ...  \n",
       "23102680                   0  \n",
       "23103098                   0  \n",
       "23103169                   0  \n",
       "23103985                   0  \n",
       "23104080                   0  \n",
       "\n",
       "[127751 rows x 38 columns]"
      ]
     },
     "execution_count": 26,
     "metadata": {},
     "output_type": "execute_result"
    }
   ],
   "source": [
    "# Examine missing values for servicer_name variable\n",
    "data[data['servicer_name'].isna()]"
   ]
  },
  {
   "cell_type": "code",
   "execution_count": 27,
   "metadata": {},
   "outputs": [],
   "source": [
    "# drop rows with NaN in servicer name col, which will also drop NaNs in other columns\n",
    "data = data.dropna(subset=['servicer_name'])"
   ]
  },
  {
   "cell_type": "code",
   "execution_count": 28,
   "metadata": {},
   "outputs": [
    {
     "data": {
      "text/plain": [
       "channel                                       0\n",
       "seller_name                                   0\n",
       "servicer_name                                 0\n",
       "original_interest_rate                        0\n",
       "current_interest_rate                         0\n",
       "original_UPB                                  0\n",
       "current_actual_UPB                            0\n",
       "original_loan_term                            0\n",
       "origination_date                       22976522\n",
       "months_to_legal_maturity                      0\n",
       "months_to_maturity                            0\n",
       "original_ltv                                  0\n",
       "original_combined_ltv                         0\n",
       "number_of_borrowers                           0\n",
       "debt_to_income                                0\n",
       "borrower_credit_score_origination             0\n",
       "first_time_homebuyer                          0\n",
       "loan_purpose                                  0\n",
       "property_type                                 0\n",
       "number_of_units                               0\n",
       "occupancy_status                              0\n",
       "amortization_type                             0\n",
       "prepayment_penalty_indicator                  0\n",
       "interest_only_loan_indicator                  0\n",
       "loan_delinquency_months                       0\n",
       "loan_payment_history                          0\n",
       "modification_flag                             0\n",
       "mortgage_insurance_type                       0\n",
       "servicing_activity_indicator                  0\n",
       "special_eligibility_program                   0\n",
       "relocation_mortgage_indicator                 0\n",
       "property_valuation_method                     0\n",
       "high_balance_loan_indicator                   0\n",
       "borrower_assistance_plan                      0\n",
       "high_ltv_refinance_option_indicator           0\n",
       "alternative_delinquency_resolution            0\n",
       "co-borrower_status                            0\n",
       "foreclosure_status                            0\n",
       "dtype: int64"
      ]
     },
     "execution_count": 28,
     "metadata": {},
     "output_type": "execute_result"
    }
   ],
   "source": [
    "# Recheck for missing values\n",
    "data.isnull().sum()"
   ]
  },
  {
   "cell_type": "markdown",
   "metadata": {},
   "source": [
    "- Missing values have been addressed."
   ]
  },
  {
   "cell_type": "code",
   "execution_count": 29,
   "metadata": {},
   "outputs": [
    {
     "data": {
      "text/plain": [
       "(22976522, 38)"
      ]
     },
     "execution_count": 29,
     "metadata": {},
     "output_type": "execute_result"
    }
   ],
   "source": [
    "# Examine shape of dataframe after removing missing values\n",
    "data.shape"
   ]
  },
  {
   "cell_type": "code",
   "execution_count": 30,
   "metadata": {},
   "outputs": [
    {
     "name": "stdout",
     "output_type": "stream",
     "text": [
      "Rows:  -0.55 %\n"
     ]
    }
   ],
   "source": [
    "# Calculate how much data was dropped\n",
    "# Rows dropped\n",
    "print('Rows: ', round(100 * ((22976522 - 23104273) / 23104273), 2), '%')"
   ]
  },
  {
   "cell_type": "markdown",
   "metadata": {},
   "source": [
    "- Dataframe has been cleaned with minimal impact of size of dataset, as 0.55% of records were dropped.\n",
    "- Number of columns has been reduced to 37 from 86."
   ]
  },
  {
   "cell_type": "markdown",
   "metadata": {},
   "source": [
    "### Data labels"
   ]
  },
  {
   "cell_type": "code",
   "execution_count": 31,
   "metadata": {},
   "outputs": [],
   "source": [
    "# Apply binary label encoding to y/n variables\n",
    "# relabel y/n columns to binary (0,1) and change dtype to integer\n",
    "data['first_time_homebuyer'].replace({'N':0, 'Y':1}, inplace=True)\n",
    "data['prepayment_penalty_indicator'].replace({'N':0, 'Y':1}, inplace=True)\n",
    "data['interest_only_loan_indicator'].replace({'N':0, 'Y':1}, inplace=True)\n",
    "data['servicing_activity_indicator'].replace({'N':0, 'Y':1}, inplace=True)\n",
    "data['relocation_mortgage_indicator'].replace({'N':0, 'Y':1}, inplace=True)\n",
    "data['high_balance_loan_indicator'].replace({'N':0, 'Y':1}, inplace=True)\n",
    "data['high_ltv_refinance_option_indicator'].replace({'N':0, 'Y':1}, inplace=True)\n",
    "data['modification_flag'].replace({'N':0, 'Y':1}, inplace=True)\n",
    "data['special_eligibility_program'].replace({'N':0, 'Y':1}, inplace=True)\n",
    "\n",
    "# apply label encoding for binary classification\n",
    "data['first_time_homebuyer'] = label_enc.fit_transform(data['first_time_homebuyer'].astype(str))\n",
    "data['prepayment_penalty_indicator'] = label_enc.fit_transform(data['modification_flag'].astype(str))\n",
    "data['interest_only_loan_indicator'] = label_enc.fit_transform(data['modification_flag'].astype(str))\n",
    "data['servicing_activity_indicator'] = label_enc.fit_transform(data['modification_flag'].astype(str))\n",
    "data['relocation_mortgage_indicator'] = label_enc.fit_transform(data['modification_flag'].astype(str))\n",
    "data['high_balance_loan_indicator'] = label_enc.fit_transform(data['modification_flag'].astype(str))\n",
    "data['high_ltv_refinance_option_indicator'] = label_enc.fit_transform(data['modification_flag'].astype(str))\n",
    "data['modification_flag'] = label_enc.fit_transform(data['modification_flag'].astype(str))\n",
    "data['special_eligibility_program'] = label_enc.fit_transform(data['special_eligibility_program'].astype(str))"
   ]
  },
  {
   "cell_type": "code",
   "execution_count": 32,
   "metadata": {},
   "outputs": [
    {
     "data": {
      "text/plain": [
       "7    22800698\n",
       "N      130416\n",
       "F       43091\n",
       "T        1821\n",
       "R         496\n",
       "Name: borrower_assistance_plan, dtype: int64"
      ]
     },
     "execution_count": 32,
     "metadata": {},
     "output_type": "execute_result"
    }
   ],
   "source": [
    "# Examine value counts for borrower_assistance_plan\n",
    "data['borrower_assistance_plan'].value_counts()"
   ]
  },
  {
   "cell_type": "code",
   "execution_count": 33,
   "metadata": {},
   "outputs": [],
   "source": [
    "# Create new variable 'borrower_assistance_plan' to indicate if borrower is on assistance plan\n",
    "# Change labels for borrower assistance plan (binary: 0 for no assistance, 1 for assistance)\n",
    "def borrower_assistance_labels(x):\n",
    "    if   x == 'F':   return 1 #forbearance\n",
    "    elif x == 'R':   return 1 #repayment\n",
    "    elif x == 'T': return 1   #trial period\n",
    "    elif x == 'O': return 1   #other\n",
    "    else: return 0\n",
    "\n",
    "func = np.vectorize(borrower_assistance_labels)\n",
    "borrower_assistance_class = func(data['borrower_assistance_plan'])\n",
    "\n",
    "data['borrower_assistance_status'] = borrower_assistance_class\n",
    "data['borrower_assistance_status'] = label_enc.fit_transform(data['borrower_assistance_status'].astype(str))"
   ]
  },
  {
   "cell_type": "code",
   "execution_count": 34,
   "metadata": {},
   "outputs": [
    {
     "data": {
      "text/plain": [
       "0    22931114\n",
       "1       45408\n",
       "Name: borrower_assistance_status, dtype: int64"
      ]
     },
     "execution_count": 34,
     "metadata": {},
     "output_type": "execute_result"
    }
   ],
   "source": [
    "data['borrower_assistance_status'].value_counts()"
   ]
  },
  {
   "cell_type": "code",
   "execution_count": 35,
   "metadata": {},
   "outputs": [],
   "source": [
    "# Change labels for borrower assistance plan\n",
    "borrower_assistance_plan_labels = {'F': 'forbearance',\n",
    "                                 'R': 'repayment',\n",
    "                                 'T': 'trial_period',\n",
    "                                 'O': 'other',\n",
    "                                 'N': 'none',\n",
    "                                 '7': 'not_applicable',\n",
    "                                 '9': 'not_available'}\n",
    "\n",
    "data['borrower_assistance_plan'].replace(borrower_assistance_plan_labels, inplace=True)\n",
    "data['borrower_assistance_plan'] = data['borrower_assistance_plan'].astype(str)"
   ]
  },
  {
   "cell_type": "code",
   "execution_count": 36,
   "metadata": {},
   "outputs": [],
   "source": [
    "# change labels for mortgage_insurance_type\n",
    "mortgage_insurance_type_labels = {1: 'borrower_paid',\n",
    "                                  2: 'lender_paid',\n",
    "                                  3: 'enterprise_paid',\n",
    "                                  4: 'none'}\n",
    "\n",
    "data['mortgage_insurance_type'].replace(mortgage_insurance_type_labels, inplace=True)\n",
    "data['mortgage_insurance_type'] = data['mortgage_insurance_type'].astype(str)"
   ]
  },
  {
   "cell_type": "code",
   "execution_count": 37,
   "metadata": {},
   "outputs": [
    {
     "data": {
      "text/plain": [
       "7    13692024\n",
       "7     9271402\n",
       "C       12953\n",
       "D         134\n",
       "P           9\n",
       "Name: alternative_delinquency_resolution, dtype: int64"
      ]
     },
     "execution_count": 37,
     "metadata": {},
     "output_type": "execute_result"
    }
   ],
   "source": [
    "data['alternative_delinquency_resolution'].value_counts()"
   ]
  },
  {
   "cell_type": "code",
   "execution_count": 40,
   "metadata": {},
   "outputs": [],
   "source": [
    "# change labels for alternative_delinquency_resolution\n",
    "alternative_delinquency_resolution_labels = {'P': 'payment_deferral',\n",
    "                                 'C': 'covid19',\n",
    "                                 'D': 'natural_disaster',\n",
    "                                 '7': 'not_applicable',\n",
    "                                  7: 'not_applicable',           \n",
    "                                 '9': 'not_available'}\n",
    "data['alternative_delinquency_resolution'].replace(alternative_delinquency_resolution_labels, inplace=True)\n",
    "data['alternative_delinquency_resolution'] = data['alternative_delinquency_resolution'].astype(str)"
   ]
  },
  {
   "cell_type": "code",
   "execution_count": 41,
   "metadata": {},
   "outputs": [
    {
     "data": {
      "text/plain": [
       "not_applicable      22963426\n",
       "covid19                12953\n",
       "natural_disaster         134\n",
       "payment_deferral           9\n",
       "Name: alternative_delinquency_resolution, dtype: int64"
      ]
     },
     "execution_count": 41,
     "metadata": {},
     "output_type": "execute_result"
    }
   ],
   "source": [
    "data['alternative_delinquency_resolution'].value_counts()"
   ]
  },
  {
   "cell_type": "markdown",
   "metadata": {},
   "source": [
    "### Feature engineering"
   ]
  },
  {
   "cell_type": "code",
   "execution_count": 42,
   "metadata": {},
   "outputs": [],
   "source": [
    "# Define target variable: problem loans\n",
    "# Labels for problem loans (0 for no problems; 1 for problems repaying, \n",
    "#                            modified loans, borrower assistance, foreclosures)\n",
    "\n",
    "conditions = [\n",
    "              (data['loan_delinquency_months'] == 1 ), #late\n",
    "              (data['loan_delinquency_months'] == 2 ), #late\n",
    "              (data['loan_delinquency_months'] == 3 ), #delinquent\n",
    "              (data['loan_delinquency_months'] == 4 ), #delinquent\n",
    "              (data['loan_delinquency_months'] == 5 ), #delinquent\n",
    "              (data['loan_delinquency_months'] == 6 ), #delinquent\n",
    "              (data['loan_delinquency_months'] == 7 ), #delinquent\n",
    "              (data['loan_delinquency_months'] == 8 ), #delinquent\n",
    "              (data['loan_delinquency_months'] == 9 ), #delinquent\n",
    "              (data['loan_delinquency_months'] == 10 ), #delinquent\n",
    "              (data['loan_delinquency_months'] == 11 ), #delinquent\n",
    "              (data['loan_delinquency_months'] == 12 ), #delinquent\n",
    "              (data['loan_delinquency_months'] == 13 ), #delinquent\n",
    "              (data['loan_delinquency_months'] == 14 ), #delinquent\n",
    "              (data['loan_delinquency_months'] == 15 ), #delinquent\n",
    "              (data['loan_delinquency_months'] == 16 ), #delinquent\n",
    "              (data['loan_delinquency_months'] == 17 ), #delinquent\n",
    "              (data['loan_delinquency_months'] == 18 ), #delinquent\n",
    "              (data['loan_delinquency_months'] == 0) & (\n",
    "                  data['modification_flag'] == 1), #modified\n",
    "              (data['loan_delinquency_months'] == 0) & (\n",
    "                  data['borrower_assistance_status'] == 1), #borrower assistance\n",
    "              (data['foreclosure_status'] == 1)] #foreclosure\n",
    "choices = [1,1,1,1,1,1,1,1,1,1,1,1,1,1,1,1,1,1,1,1,1]\n",
    "data['problem_loans'] = np.select(conditions, choices, 0)"
   ]
  },
  {
   "cell_type": "code",
   "execution_count": 43,
   "metadata": {},
   "outputs": [
    {
     "data": {
      "text/plain": [
       "0    0.993754\n",
       "1    0.006246\n",
       "Name: problem_loans, dtype: float64"
      ]
     },
     "execution_count": 43,
     "metadata": {},
     "output_type": "execute_result"
    }
   ],
   "source": [
    "# Set data type to object\n",
    "data['problem_loans'] = data['problem_loans'].astype(int)\n",
    "data['problem_loans'].value_counts(normalize=True)"
   ]
  },
  {
   "cell_type": "code",
   "execution_count": 44,
   "metadata": {},
   "outputs": [
    {
     "data": {
      "text/plain": [
       "loan_delinquency_months  modification_flag\n",
       "0                        0                    22839376\n",
       "                         1                         143\n",
       "1                        0                       91050\n",
       "                         1                           3\n",
       "2                        0                       14587\n",
       "                         1                           2\n",
       "3                        0                        7593\n",
       "                         1                           2\n",
       "4                        0                        5385\n",
       "                         1                           1\n",
       "5                        0                        4324\n",
       "6                        0                        3266\n",
       "7                        0                        2577\n",
       "8                        0                        2145\n",
       "9                        0                        1725\n",
       "10                       0                        1408\n",
       "11                       0                        1145\n",
       "12                       0                         739\n",
       "13                       0                         455\n",
       "14                       0                         283\n",
       "15                       0                         176\n",
       "16                       0                          90\n",
       "17                       0                          45\n",
       "18                       0                           2\n",
       "Name: modification_flag, dtype: int64"
      ]
     },
     "execution_count": 44,
     "metadata": {},
     "output_type": "execute_result"
    }
   ],
   "source": [
    "# Are modified loans all delayed in payments?  \n",
    "data.groupby('loan_delinquency_months')['modification_flag'].value_counts()"
   ]
  },
  {
   "cell_type": "code",
   "execution_count": 45,
   "metadata": {},
   "outputs": [
    {
     "data": {
      "text/plain": [
       "loan_delinquency_months  problem_loans\n",
       "0                        0                22833019\n",
       "                         1                    6500\n",
       "1                        1                   91053\n",
       "2                        1                   14589\n",
       "3                        1                    7595\n",
       "4                        1                    5386\n",
       "5                        1                    4324\n",
       "6                        1                    3266\n",
       "7                        1                    2577\n",
       "8                        1                    2145\n",
       "9                        1                    1725\n",
       "10                       1                    1408\n",
       "11                       1                    1145\n",
       "12                       1                     739\n",
       "13                       1                     455\n",
       "14                       1                     283\n",
       "15                       1                     176\n",
       "16                       1                      90\n",
       "17                       1                      45\n",
       "18                       1                       2\n",
       "Name: problem_loans, dtype: int64"
      ]
     },
     "execution_count": 45,
     "metadata": {},
     "output_type": "execute_result"
    }
   ],
   "source": [
    "# Are problems loans all delayed in payments?  \n",
    "data.groupby('loan_delinquency_months')['problem_loans'].value_counts()"
   ]
  },
  {
   "cell_type": "markdown",
   "metadata": {},
   "source": [
    "- Nearly all problem loans are delayed in payments from 1-18 months. Just 6500 problem loans  \n",
    "are not delayed in payments."
   ]
  },
  {
   "cell_type": "code",
   "execution_count": 47,
   "metadata": {},
   "outputs": [],
   "source": [
    "# Drop variables that are components of problem loans calculation:\n",
    "# loan delinquency months, modification flag, borrower assistance status, foreclosure status\n",
    "data.drop(['loan_delinquency_months', 'modification_flag', \n",
    "           'borrower_assistance_status', 'borrower_assistance_plan',\n",
    "           'foreclosure_status', 'loan_payment_history'], axis=1, inplace = True)"
   ]
  },
  {
   "cell_type": "markdown",
   "metadata": {},
   "source": [
    "## Exploratory Data Analysis"
   ]
  },
  {
   "cell_type": "code",
   "execution_count": 48,
   "metadata": {},
   "outputs": [
    {
     "name": "stdout",
     "output_type": "stream",
     "text": [
      "<class 'pandas.core.frame.DataFrame'>\n",
      "Int64Index: 22976522 entries, 0 to 23104272\n",
      "Data columns (total 34 columns):\n",
      " #   Column                               Dtype         \n",
      "---  ------                               -----         \n",
      " 0   channel                              object        \n",
      " 1   seller_name                          object        \n",
      " 2   servicer_name                        object        \n",
      " 3   original_interest_rate               float64       \n",
      " 4   current_interest_rate                float64       \n",
      " 5   original_UPB                         float64       \n",
      " 6   current_actual_UPB                   float64       \n",
      " 7   original_loan_term                   int64         \n",
      " 8   origination_date                     datetime64[ns]\n",
      " 9   months_to_legal_maturity             float64       \n",
      " 10  months_to_maturity                   float64       \n",
      " 11  original_ltv                         int64         \n",
      " 12  original_combined_ltv                int64         \n",
      " 13  number_of_borrowers                  int64         \n",
      " 14  debt_to_income                       float64       \n",
      " 15  borrower_credit_score_origination    float64       \n",
      " 16  first_time_homebuyer                 int64         \n",
      " 17  loan_purpose                         object        \n",
      " 18  property_type                        object        \n",
      " 19  number_of_units                      int64         \n",
      " 20  occupancy_status                     object        \n",
      " 21  amortization_type                    object        \n",
      " 22  prepayment_penalty_indicator         int64         \n",
      " 23  interest_only_loan_indicator         int64         \n",
      " 24  mortgage_insurance_type              object        \n",
      " 25  servicing_activity_indicator         int64         \n",
      " 26  special_eligibility_program          int64         \n",
      " 27  relocation_mortgage_indicator        int64         \n",
      " 28  property_valuation_method            object        \n",
      " 29  high_balance_loan_indicator          int64         \n",
      " 30  high_ltv_refinance_option_indicator  int64         \n",
      " 31  alternative_delinquency_resolution   object        \n",
      " 32  co-borrower_status                   int64         \n",
      " 33  problem_loans                        int64         \n",
      "dtypes: datetime64[ns](1), float64(8), int64(15), object(10)\n",
      "memory usage: 6.0+ GB\n"
     ]
    }
   ],
   "source": [
    "data.info()"
   ]
  },
  {
   "cell_type": "code",
   "execution_count": 49,
   "metadata": {},
   "outputs": [],
   "source": [
    "# Select numerical continuous variables and categorical variables\n",
    "numerical_cols = data.select_dtypes(include=['float', 'int64'])\n",
    "categorical_cols = data.select_dtypes('object')"
   ]
  },
  {
   "cell_type": "code",
   "execution_count": 50,
   "metadata": {},
   "outputs": [
    {
     "data": {
      "text/plain": [
       "Index(['original_interest_rate', 'current_interest_rate', 'original_UPB',\n",
       "       'current_actual_UPB', 'original_loan_term', 'months_to_legal_maturity',\n",
       "       'months_to_maturity', 'original_ltv', 'original_combined_ltv',\n",
       "       'number_of_borrowers', 'debt_to_income',\n",
       "       'borrower_credit_score_origination', 'first_time_homebuyer',\n",
       "       'number_of_units', 'prepayment_penalty_indicator',\n",
       "       'interest_only_loan_indicator', 'servicing_activity_indicator',\n",
       "       'special_eligibility_program', 'relocation_mortgage_indicator',\n",
       "       'high_balance_loan_indicator', 'high_ltv_refinance_option_indicator',\n",
       "       'co-borrower_status', 'problem_loans'],\n",
       "      dtype='object')"
      ]
     },
     "execution_count": 50,
     "metadata": {},
     "output_type": "execute_result"
    }
   ],
   "source": [
    "numerical_cols.columns"
   ]
  },
  {
   "cell_type": "code",
   "execution_count": 51,
   "metadata": {},
   "outputs": [
    {
     "data": {
      "text/plain": [
       "Index(['channel', 'seller_name', 'servicer_name', 'loan_purpose',\n",
       "       'property_type', 'occupancy_status', 'amortization_type',\n",
       "       'mortgage_insurance_type', 'property_valuation_method',\n",
       "       'alternative_delinquency_resolution'],\n",
       "      dtype='object')"
      ]
     },
     "execution_count": 51,
     "metadata": {},
     "output_type": "execute_result"
    }
   ],
   "source": [
    "categorical_cols.columns"
   ]
  },
  {
   "cell_type": "code",
   "execution_count": 52,
   "metadata": {},
   "outputs": [
    {
     "data": {
      "image/png": "[encoded data removed]",
      "text/plain": [
       "<Figure size 720x1080 with 24 Axes>"
      ]
     },
     "metadata": {
      "needs_background": "light"
     },
     "output_type": "display_data"
    }
   ],
   "source": [
    "# Create histograms for numerical continuous variables\n",
    "fig, axes = plt.subplots(nrows = 6, ncols = 4, figsize = (10,15))\n",
    "fig.set_tight_layout(True)\n",
    "\n",
    "for index, col in enumerate(numerical_cols.columns):\n",
    "    ax=axes[index//4][index%4]\n",
    "    ax.hist(data[col])\n",
    "    \n",
    "    axes.flat[-1].set_visible(False) # to remove empty subplot\n",
    "    axes.flat[-2].set_visible(False) # to remove empty subplot\n",
    "    \n",
    "    # Set column name as title\n",
    "    ax.set_title(col)"
   ]
  },
  {
   "cell_type": "code",
   "execution_count": 53,
   "metadata": {},
   "outputs": [
    {
     "name": "stdout",
     "output_type": "stream",
     "text": [
      "0    22833019\n",
      "1      143503\n",
      "Name: problem_loans, dtype: int64\n"
     ]
    },
    {
     "data": {
      "text/plain": [
       "<matplotlib.axes._subplots.AxesSubplot at 0x7f9312dbd2e8>"
      ]
     },
     "execution_count": 53,
     "metadata": {},
     "output_type": "execute_result"
    },
    {
     "data": {
      "image/png": "[encoded data removed]",
      "text/plain": [
       "<Figure size 432x288 with 1 Axes>"
      ]
     },
     "metadata": {
      "needs_background": "light"
     },
     "output_type": "display_data"
    }
   ],
   "source": [
    "# Examine distribution of target variable\n",
    "print(data['problem_loans'].value_counts())\n",
    "data['problem_loans'].value_counts().plot(kind='barh')"
   ]
  },
  {
   "cell_type": "markdown",
   "metadata": {},
   "source": [
    "- Distribution of target variable is highly unbalanced, with less than 1% of observations  \n",
    "classified as a problem loan. Nonetheless, at over 140k observations, the value count of  \n",
    "problem loans is large enough to train models in this analysis."
   ]
  },
  {
   "cell_type": "code",
   "execution_count": 54,
   "metadata": {},
   "outputs": [
    {
     "data": {
      "text/html": [
       "<div>\n",
       "<style scoped>\n",
       "    .dataframe tbody tr th:only-of-type {\n",
       "        vertical-align: middle;\n",
       "    }\n",
       "\n",
       "    .dataframe tbody tr th {\n",
       "        vertical-align: top;\n",
       "    }\n",
       "\n",
       "    .dataframe thead th {\n",
       "        text-align: right;\n",
       "    }\n",
       "</style>\n",
       "<table border=\"1\" class=\"dataframe\">\n",
       "  <thead>\n",
       "    <tr style=\"text-align: right;\">\n",
       "      <th></th>\n",
       "      <th>original_interest_rate</th>\n",
       "      <th>current_interest_rate</th>\n",
       "      <th>original_UPB</th>\n",
       "      <th>current_actual_UPB</th>\n",
       "      <th>original_loan_term</th>\n",
       "      <th>months_to_legal_maturity</th>\n",
       "      <th>months_to_maturity</th>\n",
       "      <th>original_ltv</th>\n",
       "      <th>original_combined_ltv</th>\n",
       "      <th>number_of_borrowers</th>\n",
       "      <th>...</th>\n",
       "      <th>number_of_units</th>\n",
       "      <th>prepayment_penalty_indicator</th>\n",
       "      <th>interest_only_loan_indicator</th>\n",
       "      <th>servicing_activity_indicator</th>\n",
       "      <th>special_eligibility_program</th>\n",
       "      <th>relocation_mortgage_indicator</th>\n",
       "      <th>high_balance_loan_indicator</th>\n",
       "      <th>high_ltv_refinance_option_indicator</th>\n",
       "      <th>co-borrower_status</th>\n",
       "      <th>problem_loans</th>\n",
       "    </tr>\n",
       "    <tr>\n",
       "      <th>problem_loans</th>\n",
       "      <th></th>\n",
       "      <th></th>\n",
       "      <th></th>\n",
       "      <th></th>\n",
       "      <th></th>\n",
       "      <th></th>\n",
       "      <th></th>\n",
       "      <th></th>\n",
       "      <th></th>\n",
       "      <th></th>\n",
       "      <th></th>\n",
       "      <th></th>\n",
       "      <th></th>\n",
       "      <th></th>\n",
       "      <th></th>\n",
       "      <th></th>\n",
       "      <th></th>\n",
       "      <th></th>\n",
       "      <th></th>\n",
       "      <th></th>\n",
       "      <th></th>\n",
       "    </tr>\n",
       "  </thead>\n",
       "  <tbody>\n",
       "    <tr>\n",
       "      <th>0</th>\n",
       "      <td>2.785846</td>\n",
       "      <td>2.785846</td>\n",
       "      <td>282137.043726</td>\n",
       "      <td>275064.947474</td>\n",
       "      <td>314.580283</td>\n",
       "      <td>306.871908</td>\n",
       "      <td>304.570391</td>\n",
       "      <td>66.944032</td>\n",
       "      <td>67.222792</td>\n",
       "      <td>1.480055</td>\n",
       "      <td>...</td>\n",
       "      <td>1.024384</td>\n",
       "      <td>0.000000</td>\n",
       "      <td>0.000000</td>\n",
       "      <td>0.000000</td>\n",
       "      <td>0.039081</td>\n",
       "      <td>0.000000</td>\n",
       "      <td>0.000000</td>\n",
       "      <td>0.000000</td>\n",
       "      <td>0.472534</td>\n",
       "      <td>0.0</td>\n",
       "    </tr>\n",
       "    <tr>\n",
       "      <th>1</th>\n",
       "      <td>2.902765</td>\n",
       "      <td>2.902659</td>\n",
       "      <td>298616.370389</td>\n",
       "      <td>294129.480994</td>\n",
       "      <td>330.867682</td>\n",
       "      <td>322.478791</td>\n",
       "      <td>323.575055</td>\n",
       "      <td>72.800199</td>\n",
       "      <td>73.131837</td>\n",
       "      <td>1.335665</td>\n",
       "      <td>...</td>\n",
       "      <td>1.038689</td>\n",
       "      <td>0.001052</td>\n",
       "      <td>0.001052</td>\n",
       "      <td>0.001052</td>\n",
       "      <td>0.055065</td>\n",
       "      <td>0.001052</td>\n",
       "      <td>0.001052</td>\n",
       "      <td>0.001052</td>\n",
       "      <td>0.325937</td>\n",
       "      <td>1.0</td>\n",
       "    </tr>\n",
       "  </tbody>\n",
       "</table>\n",
       "<p>2 rows × 23 columns</p>\n",
       "</div>"
      ],
      "text/plain": [
       "               original_interest_rate  current_interest_rate   original_UPB  \\\n",
       "problem_loans                                                                 \n",
       "0                            2.785846               2.785846  282137.043726   \n",
       "1                            2.902765               2.902659  298616.370389   \n",
       "\n",
       "               current_actual_UPB  original_loan_term  \\\n",
       "problem_loans                                           \n",
       "0                   275064.947474          314.580283   \n",
       "1                   294129.480994          330.867682   \n",
       "\n",
       "               months_to_legal_maturity  months_to_maturity  original_ltv  \\\n",
       "problem_loans                                                               \n",
       "0                            306.871908          304.570391     66.944032   \n",
       "1                            322.478791          323.575055     72.800199   \n",
       "\n",
       "               original_combined_ltv  number_of_borrowers  ...  \\\n",
       "problem_loans                                              ...   \n",
       "0                          67.222792             1.480055  ...   \n",
       "1                          73.131837             1.335665  ...   \n",
       "\n",
       "               number_of_units  prepayment_penalty_indicator  \\\n",
       "problem_loans                                                  \n",
       "0                     1.024384                      0.000000   \n",
       "1                     1.038689                      0.001052   \n",
       "\n",
       "               interest_only_loan_indicator  servicing_activity_indicator  \\\n",
       "problem_loans                                                               \n",
       "0                                  0.000000                      0.000000   \n",
       "1                                  0.001052                      0.001052   \n",
       "\n",
       "               special_eligibility_program  relocation_mortgage_indicator  \\\n",
       "problem_loans                                                               \n",
       "0                                 0.039081                       0.000000   \n",
       "1                                 0.055065                       0.001052   \n",
       "\n",
       "               high_balance_loan_indicator  \\\n",
       "problem_loans                                \n",
       "0                                 0.000000   \n",
       "1                                 0.001052   \n",
       "\n",
       "               high_ltv_refinance_option_indicator  co-borrower_status  \\\n",
       "problem_loans                                                            \n",
       "0                                         0.000000            0.472534   \n",
       "1                                         0.001052            0.325937   \n",
       "\n",
       "               problem_loans  \n",
       "problem_loans                 \n",
       "0                        0.0  \n",
       "1                        1.0  \n",
       "\n",
       "[2 rows x 23 columns]"
      ]
     },
     "execution_count": 54,
     "metadata": {},
     "output_type": "execute_result"
    }
   ],
   "source": [
    "# Examine problem loans according to mean values of numerical continuous variables\n",
    "data.groupby('problem_loans')[numerical_cols.columns].mean()"
   ]
  },
  {
   "cell_type": "markdown",
   "metadata": {},
   "source": [
    "- original interest rate and current interest rate values are not the same although they appear  \n",
    "to have quite comparable descriptive statistics, indicating that there are currently not many differences\n",
    "- current actual unpaid principal balance (UPB) appears more useful than original UPB in examining  \n",
    "potential classification of problem loans. \n",
    "- As expected, original combined LTV (which accounts for original loan amount, home equity line of credit  \n",
    "drawn, and outstanding principal balance of any other underlying mortgage loan) is higher for problem  \n",
    "loans than performing loans\n",
    "- Also expected, debt-to-income is higher and borrower credit score is lower for problem loans\n"
   ]
  },
  {
   "cell_type": "code",
   "execution_count": 55,
   "metadata": {},
   "outputs": [
    {
     "name": "stdout",
     "output_type": "stream",
     "text": [
      "6.93092074983565 %\n"
     ]
    }
   ],
   "source": [
    "# Original unpaid principal balance difference between problem loans and non-problem loans\n",
    "print(f'{100*(294129.480994-275064.947474)/275064.947474}', '%')"
   ]
  },
  {
   "cell_type": "markdown",
   "metadata": {},
   "source": [
    "- problem loans are associated with higher interest rates, higher unpaid principal balances, longer loan term,  \n",
    "months to maturity, loan-to-values, debt-to-income, number of units, and payment delinquencies.\n",
    "    - mean current unpaid principal balance is 6.9% higher for problem loans compared to non-problem loans.\n",
    "- problem loans are associated with lower number of borrowers and lower credit score."
   ]
  },
  {
   "cell_type": "code",
   "execution_count": 56,
   "metadata": {},
   "outputs": [
    {
     "data": {
      "image/png": "[encoded data removed]",
      "text/plain": [
       "<Figure size 720x720 with 30 Axes>"
      ]
     },
     "metadata": {
      "needs_background": "light"
     },
     "output_type": "display_data"
    }
   ],
   "source": [
    "# Plot problem loan classication by mean numerical values\n",
    "data.groupby('problem_loans')[numerical_cols.columns].mean().plot(kind='bar', \n",
    "                                                          subplots=True, \n",
    "                                                          layout=(6,5), \n",
    "                                                          figsize=(10,10),\n",
    "                                                          legend=False)\n",
    "plt.tight_layout()\n",
    "plt.show()"
   ]
  },
  {
   "cell_type": "code",
   "execution_count": 57,
   "metadata": {},
   "outputs": [
    {
     "data": {
      "text/plain": [
       "<matplotlib.axes._subplots.AxesSubplot at 0x7f928de084a8>"
      ]
     },
     "execution_count": 57,
     "metadata": {},
     "output_type": "execute_result"
    },
    {
     "data": {
      "image/png": "[encoded data removed]",
      "text/plain": [
       "<Figure size 432x288 with 1 Axes>"
      ]
     },
     "metadata": {
      "needs_background": "light"
     },
     "output_type": "display_data"
    }
   ],
   "source": [
    "sns.boxplot(x=data['problem_loans'], y=data['original_ltv'], \n",
    "                notch= False, palette = 'viridis')"
   ]
  },
  {
   "cell_type": "code",
   "execution_count": 58,
   "metadata": {},
   "outputs": [
    {
     "data": {
      "text/plain": [
       "Index(['channel', 'seller_name', 'servicer_name', 'loan_purpose',\n",
       "       'property_type', 'occupancy_status', 'amortization_type',\n",
       "       'mortgage_insurance_type', 'property_valuation_method',\n",
       "       'alternative_delinquency_resolution'],\n",
       "      dtype='object')"
      ]
     },
     "execution_count": 58,
     "metadata": {},
     "output_type": "execute_result"
    }
   ],
   "source": [
    "categorical_cols.columns"
   ]
  },
  {
   "cell_type": "code",
   "execution_count": null,
   "metadata": {},
   "outputs": [],
   "source": [
    "# Plot problem loan classication by categorical values\n",
    "# fig, axes = plt.subplots(nrows = 5, ncols = 2)\n",
    "# axes = axes.flatten()   \n",
    "# fig.set_size_inches(10, 15)\n",
    "# plt.suptitle('Counts of Categorical Variables', y=1.02)\n",
    "# plt.tight_layout()\n",
    "\n",
    "# cat_cols = categorical_cols[['channel', 'loan_purpose',\n",
    "#        'property_type', 'occupancy_status', 'property_state',\n",
    "#        'amortization_type', 'loan_payment_history', 'mortgage_insurance_type',\n",
    "#        'property_valuation_method', 'borrower_assistance_plan', \n",
    "#         'alternative_delinquency_resolution'\n",
    "#                             ]]\n",
    "\n",
    "# for ax, col in zip(axes, cat_cols.columns):\n",
    "#     sns.countplot(x=cat_cols[col], ax = ax,  data=data, palette='viridis')\n",
    "#     axes.flat[-1].set_visible(False) # to remove empty subplot\n",
    "#     sns.despine()"
   ]
  },
  {
   "cell_type": "code",
   "execution_count": 59,
   "metadata": {},
   "outputs": [
    {
     "data": {
      "image/png": "[encoded data removed]",
      "text/plain": [
       "<Figure size 648x504 with 2 Axes>"
      ]
     },
     "metadata": {
      "needs_background": "light"
     },
     "output_type": "display_data"
    }
   ],
   "source": [
    "# Plot sellers of loans that are classified as performing loans and problem loans\n",
    "# Create figure and set size\n",
    "fig, axes = plt.subplots(nrows = 2, ncols = 1, figsize= (9,7))\n",
    "\n",
    "data[(data.problem_loans == 0)]['seller_name'].value_counts(\n",
    "    normalize=True, ascending=True).plot(kind='barh', color = 'navy', ax=axes[0])\n",
    "axes[0].set_title('Performing Loans')\n",
    "\n",
    "data[(data.problem_loans == 1)]['seller_name'].value_counts(\n",
    "    normalize=True, ascending=True).plot(kind='barh', color = 'red', ax=axes[1])\n",
    "axes[1].set_title('Problem Loans')\n",
    "\n",
    "# Set title\n",
    "fig.suptitle('Performing and Problem Loans by Seller',\n",
    "             fontsize=13, y=1.05)\n",
    "\n",
    "fig.tight_layout()"
   ]
  },
  {
   "cell_type": "code",
   "execution_count": 60,
   "metadata": {},
   "outputs": [
    {
     "data": {
      "text/plain": [
       "0    22833019\n",
       "1      143503\n",
       "Name: problem_loans, dtype: int64"
      ]
     },
     "execution_count": 60,
     "metadata": {},
     "output_type": "execute_result"
    }
   ],
   "source": [
    "data.problem_loans.value_counts(dropna=False)"
   ]
  },
  {
   "cell_type": "code",
   "execution_count": 61,
   "metadata": {},
   "outputs": [
    {
     "data": {
      "text/plain": [
       "Other                             71554\n",
       "Rocket Mortgage, LLC              13003\n",
       "United Wholesale Mortgage, LLC    10593\n",
       "NewRez LLC                         5679\n",
       "Better Mortgage Corporation        5653\n",
       "Name: seller_name, dtype: int64"
      ]
     },
     "execution_count": 61,
     "metadata": {},
     "output_type": "execute_result"
    }
   ],
   "source": [
    "# Calculate share of Rocket Mortgage loans that are classified as problem loans\n",
    "data[(data.problem_loans == 1)]['seller_name'].value_counts(ascending=False).head()"
   ]
  },
  {
   "cell_type": "code",
   "execution_count": 62,
   "metadata": {},
   "outputs": [
    {
     "data": {
      "text/plain": [
       "0.09061134610426264"
      ]
     },
     "execution_count": 62,
     "metadata": {},
     "output_type": "execute_result"
    }
   ],
   "source": [
    "# Rocket mortgage problem loans / total problem loans\n",
    "13003/143503"
   ]
  },
  {
   "cell_type": "code",
   "execution_count": 63,
   "metadata": {},
   "outputs": [
    {
     "data": {
      "text/plain": [
       "Other                             11616027\n",
       "Rocket Mortgage, LLC               2554627\n",
       "United Wholesale Mortgage, LLC     1284332\n",
       "Wells Fargo Bank, N.A.             1083402\n",
       "PennyMac Corp.                      650200\n",
       "Name: seller_name, dtype: int64"
      ]
     },
     "execution_count": 63,
     "metadata": {},
     "output_type": "execute_result"
    }
   ],
   "source": [
    "# Total number of loans by seller\n",
    "data.seller_name.value_counts().head()"
   ]
  },
  {
   "cell_type": "code",
   "execution_count": 64,
   "metadata": {},
   "outputs": [
    {
     "data": {
      "text/plain": [
       "0.11118423406292736"
      ]
     },
     "execution_count": 64,
     "metadata": {},
     "output_type": "execute_result"
    }
   ],
   "source": [
    "# Rocket mortgage loans / total loans\n",
    "2554627 / 22976522"
   ]
  },
  {
   "cell_type": "code",
   "execution_count": 65,
   "metadata": {},
   "outputs": [
    {
     "data": {
      "text/plain": [
       "<matplotlib.axes._subplots.AxesSubplot at 0x7f8e6ff8b940>"
      ]
     },
     "execution_count": 65,
     "metadata": {},
     "output_type": "execute_result"
    },
    {
     "data": {
      "image/png": "[encoded data removed]",
      "text/plain": [
       "<Figure size 432x288 with 1 Axes>"
      ]
     },
     "metadata": {
      "needs_background": "light"
     },
     "output_type": "display_data"
    }
   ],
   "source": [
    "sns.countplot(x='occupancy_status', data=data, palette='viridis')"
   ]
  },
  {
   "cell_type": "code",
   "execution_count": 66,
   "metadata": {},
   "outputs": [
    {
     "data": {
      "text/plain": [
       "<matplotlib.axes._subplots.AxesSubplot at 0x7f90d4be74a8>"
      ]
     },
     "execution_count": 66,
     "metadata": {},
     "output_type": "execute_result"
    },
    {
     "data": {
      "image/png": "[encoded data removed]",
      "text/plain": [
       "<Figure size 432x288 with 1 Axes>"
      ]
     },
     "metadata": {
      "needs_background": "light"
     },
     "output_type": "display_data"
    }
   ],
   "source": [
    "data.groupby('problem_loans')['property_type'].value_counts(normalize=True).plot(kind='bar')"
   ]
  },
  {
   "cell_type": "markdown",
   "metadata": {},
   "source": [
    "- Majority of performing and problem loans are single-family homes, followed by planned urban developments, and condos. The share of performing and problem loans are roughly equal these property types."
   ]
  },
  {
   "cell_type": "code",
   "execution_count": 67,
   "metadata": {},
   "outputs": [
    {
     "data": {
      "text/plain": [
       "problem_loans  loan_purpose\n",
       "0              R               0.551925\n",
       "               P               0.241601\n",
       "               C               0.206473\n",
       "1              R               0.444980\n",
       "               P               0.354034\n",
       "               C               0.200985\n",
       "Name: loan_purpose, dtype: float64"
      ]
     },
     "execution_count": 67,
     "metadata": {},
     "output_type": "execute_result"
    }
   ],
   "source": [
    "data.groupby('problem_loans')['loan_purpose'].value_counts(normalize=True)"
   ]
  },
  {
   "cell_type": "markdown",
   "metadata": {},
   "source": [
    "- Loans for purchase and cash out refinance account for higher shares of problem loans than they do  \n",
    "for performing loans."
   ]
  },
  {
   "cell_type": "code",
   "execution_count": 68,
   "metadata": {},
   "outputs": [
    {
     "data": {
      "text/plain": [
       "problem_loans  first_time_homebuyer\n",
       "0              0                       0.888191\n",
       "               1                       0.111809\n",
       "1              0                       0.820317\n",
       "               1                       0.179683\n",
       "Name: first_time_homebuyer, dtype: float64"
      ]
     },
     "execution_count": 68,
     "metadata": {},
     "output_type": "execute_result"
    }
   ],
   "source": [
    "data.groupby('problem_loans')['first_time_homebuyer'].value_counts(normalize=True)"
   ]
  },
  {
   "cell_type": "markdown",
   "metadata": {},
   "source": [
    "- First-time homebuyers account for a larger share of problem loans than they do for performing loans."
   ]
  },
  {
   "cell_type": "code",
   "execution_count": 69,
   "metadata": {},
   "outputs": [
    {
     "data": {
      "text/plain": [
       "problem_loans  occupancy_status\n",
       "0              P                   0.893421\n",
       "               I                   0.071307\n",
       "               S                   0.035272\n",
       "1              P                   0.893298\n",
       "               I                   0.076207\n",
       "               S                   0.030494\n",
       "Name: occupancy_status, dtype: float64"
      ]
     },
     "execution_count": 69,
     "metadata": {},
     "output_type": "execute_result"
    }
   ],
   "source": [
    "data.groupby('problem_loans')['occupancy_status'].value_counts(normalize=True)"
   ]
  },
  {
   "cell_type": "markdown",
   "metadata": {},
   "source": [
    "- Problem loans have higher share of investment and secondary home occupancy status  \n",
    "compared to performing loans."
   ]
  },
  {
   "cell_type": "markdown",
   "metadata": {},
   "source": [
    "- Higher shares of problem loans are found in states of ND, AK, VT, PR and GU."
   ]
  },
  {
   "cell_type": "markdown",
   "metadata": {},
   "source": [
    "- Most modified loans are delayed in payments, but not all. \n",
    "- Some loans that have 0 delinquent months have been modified. \n",
    "- Delayed loans are either paid or modified within the period up to 4 months delayed."
   ]
  },
  {
   "cell_type": "markdown",
   "metadata": {},
   "source": [
    "## Clustering"
   ]
  },
  {
   "cell_type": "code",
   "execution_count": null,
   "metadata": {},
   "outputs": [],
   "source": []
  },
  {
   "cell_type": "code",
   "execution_count": null,
   "metadata": {},
   "outputs": [],
   "source": [
    "# scores = []\n",
    "# centers = list(range(1,11))\n",
    "# for center in centers:\n",
    "#     kmeans = KMeans(n_clusters=center)\n",
    "#     model = kmeans.fit(data_subset.dropna())\n",
    "#     score = np.abs(model.score(data_subset.dropna()))\n",
    "#     scores.append(score)\n",
    "# plt.plot(centers, scores, linestyle='--', marker='o', color='b');\n",
    "# plt.xlabel('K');\n",
    "# plt.ylabel('SSE');\n",
    "# plt.title('SSE vs. K');"
   ]
  },
  {
   "cell_type": "markdown",
   "metadata": {},
   "source": [
    "## Modelling"
   ]
  },
  {
   "cell_type": "markdown",
   "metadata": {},
   "source": [
    "### Define data and apply train-test-split"
   ]
  },
  {
   "cell_type": "code",
   "execution_count": 71,
   "metadata": {},
   "outputs": [
    {
     "name": "stdout",
     "output_type": "stream",
     "text": [
      "<class 'pandas.core.frame.DataFrame'>\n",
      "Int64Index: 22976522 entries, 0 to 23104272\n",
      "Data columns (total 34 columns):\n",
      " #   Column                               Dtype         \n",
      "---  ------                               -----         \n",
      " 0   channel                              object        \n",
      " 1   seller_name                          object        \n",
      " 2   servicer_name                        object        \n",
      " 3   original_interest_rate               float64       \n",
      " 4   current_interest_rate                float64       \n",
      " 5   original_UPB                         float64       \n",
      " 6   current_actual_UPB                   float64       \n",
      " 7   original_loan_term                   int64         \n",
      " 8   origination_date                     datetime64[ns]\n",
      " 9   months_to_legal_maturity             float64       \n",
      " 10  months_to_maturity                   float64       \n",
      " 11  original_ltv                         int64         \n",
      " 12  original_combined_ltv                int64         \n",
      " 13  number_of_borrowers                  int64         \n",
      " 14  debt_to_income                       float64       \n",
      " 15  borrower_credit_score_origination    float64       \n",
      " 16  first_time_homebuyer                 int64         \n",
      " 17  loan_purpose                         object        \n",
      " 18  property_type                        object        \n",
      " 19  number_of_units                      int64         \n",
      " 20  occupancy_status                     object        \n",
      " 21  amortization_type                    object        \n",
      " 22  prepayment_penalty_indicator         int64         \n",
      " 23  interest_only_loan_indicator         int64         \n",
      " 24  mortgage_insurance_type              object        \n",
      " 25  servicing_activity_indicator         int64         \n",
      " 26  special_eligibility_program          int64         \n",
      " 27  relocation_mortgage_indicator        int64         \n",
      " 28  property_valuation_method            object        \n",
      " 29  high_balance_loan_indicator          int64         \n",
      " 30  high_ltv_refinance_option_indicator  int64         \n",
      " 31  alternative_delinquency_resolution   object        \n",
      " 32  co-borrower_status                   int64         \n",
      " 33  problem_loans                        int64         \n",
      "dtypes: datetime64[ns](1), float64(8), int64(15), object(10)\n",
      "memory usage: 6.0+ GB\n"
     ]
    }
   ],
   "source": [
    "data.info()"
   ]
  },
  {
   "cell_type": "code",
   "execution_count": 73,
   "metadata": {},
   "outputs": [],
   "source": [
    "# Define subset of data\n",
    "# Focus on loan characteristics\n",
    "data_subset = data.drop(['seller_name', 'servicer_name',\n",
    "                         'current_interest_rate', \n",
    "                        'original_UPB', 'months_to_legal_maturity',\n",
    "                        'original_ltv'\n",
    "                        ], axis=1)"
   ]
  },
  {
   "cell_type": "code",
   "execution_count": 74,
   "metadata": {},
   "outputs": [
    {
     "data": {
      "text/plain": [
       "(22976522, 28)"
      ]
     },
     "execution_count": 74,
     "metadata": {},
     "output_type": "execute_result"
    }
   ],
   "source": [
    "data_subset.shape"
   ]
  },
  {
   "cell_type": "code",
   "execution_count": 75,
   "metadata": {},
   "outputs": [
    {
     "name": "stdout",
     "output_type": "stream",
     "text": [
      "<class 'pandas.core.frame.DataFrame'>\n",
      "Int64Index: 22976522 entries, 0 to 23104272\n",
      "Data columns (total 28 columns):\n",
      " #   Column                               Dtype         \n",
      "---  ------                               -----         \n",
      " 0   channel                              object        \n",
      " 1   original_interest_rate               float64       \n",
      " 2   current_actual_UPB                   float64       \n",
      " 3   original_loan_term                   int64         \n",
      " 4   origination_date                     datetime64[ns]\n",
      " 5   months_to_maturity                   float64       \n",
      " 6   original_combined_ltv                int64         \n",
      " 7   number_of_borrowers                  int64         \n",
      " 8   debt_to_income                       float64       \n",
      " 9   borrower_credit_score_origination    float64       \n",
      " 10  first_time_homebuyer                 int64         \n",
      " 11  loan_purpose                         object        \n",
      " 12  property_type                        object        \n",
      " 13  number_of_units                      int64         \n",
      " 14  occupancy_status                     object        \n",
      " 15  amortization_type                    object        \n",
      " 16  prepayment_penalty_indicator         int64         \n",
      " 17  interest_only_loan_indicator         int64         \n",
      " 18  mortgage_insurance_type              object        \n",
      " 19  servicing_activity_indicator         int64         \n",
      " 20  special_eligibility_program          int64         \n",
      " 21  relocation_mortgage_indicator        int64         \n",
      " 22  property_valuation_method            object        \n",
      " 23  high_balance_loan_indicator          int64         \n",
      " 24  high_ltv_refinance_option_indicator  int64         \n",
      " 25  alternative_delinquency_resolution   object        \n",
      " 26  co-borrower_status                   int64         \n",
      " 27  problem_loans                        int64         \n",
      "dtypes: datetime64[ns](1), float64(5), int64(14), object(8)\n",
      "memory usage: 5.0+ GB\n"
     ]
    }
   ],
   "source": [
    "data_subset.info()"
   ]
  },
  {
   "cell_type": "code",
   "execution_count": 76,
   "metadata": {},
   "outputs": [],
   "source": [
    "X = data_subset.drop(['problem_loans'], axis=1)\n",
    "y = data_subset['problem_loans']"
   ]
  },
  {
   "cell_type": "code",
   "execution_count": 93,
   "metadata": {},
   "outputs": [],
   "source": [
    "# train test split\n",
    "X_train,X_test,y_train,y_test = train_test_split(X,y,test_size=.30)"
   ]
  },
  {
   "cell_type": "markdown",
   "metadata": {},
   "source": [
    "### Build column transformer for pipeline"
   ]
  },
  {
   "cell_type": "code",
   "execution_count": 94,
   "metadata": {},
   "outputs": [
    {
     "data": {
      "text/plain": [
       "original_loan_term                     int64\n",
       "original_combined_ltv                  int64\n",
       "number_of_borrowers                    int64\n",
       "first_time_homebuyer                   int64\n",
       "number_of_units                        int64\n",
       "prepayment_penalty_indicator           int64\n",
       "interest_only_loan_indicator           int64\n",
       "servicing_activity_indicator           int64\n",
       "special_eligibility_program            int64\n",
       "relocation_mortgage_indicator          int64\n",
       "high_balance_loan_indicator            int64\n",
       "high_ltv_refinance_option_indicator    int64\n",
       "co-borrower_status                     int64\n",
       "problem_loans                          int64\n",
       "dtype: object"
      ]
     },
     "execution_count": 94,
     "metadata": {},
     "output_type": "execute_result"
    }
   ],
   "source": [
    "# Filter for integer data types\n",
    "data_subset.dtypes[data_subset.dtypes == 'int64']"
   ]
  },
  {
   "cell_type": "code",
   "execution_count": 95,
   "metadata": {},
   "outputs": [
    {
     "data": {
      "text/plain": [
       "original_interest_rate               float64\n",
       "current_actual_UPB                   float64\n",
       "months_to_maturity                   float64\n",
       "debt_to_income                       float64\n",
       "borrower_credit_score_origination    float64\n",
       "dtype: object"
      ]
     },
     "execution_count": 95,
     "metadata": {},
     "output_type": "execute_result"
    }
   ],
   "source": [
    "# Filter for float data types\n",
    "data_subset.dtypes[data_subset.dtypes == 'float']"
   ]
  },
  {
   "cell_type": "code",
   "execution_count": 96,
   "metadata": {},
   "outputs": [
    {
     "data": {
      "text/plain": [
       "channel                               object\n",
       "loan_purpose                          object\n",
       "property_type                         object\n",
       "occupancy_status                      object\n",
       "amortization_type                     object\n",
       "mortgage_insurance_type               object\n",
       "property_valuation_method             object\n",
       "alternative_delinquency_resolution    object\n",
       "dtype: object"
      ]
     },
     "execution_count": 96,
     "metadata": {},
     "output_type": "execute_result"
    }
   ],
   "source": [
    "# Filter for object data types\n",
    "data_subset.dtypes[data_subset.dtypes == 'object']"
   ]
  },
  {
   "cell_type": "code",
   "execution_count": 97,
   "metadata": {},
   "outputs": [
    {
     "data": {
      "text/plain": [
       "0    22076277\n",
       "1      900245\n",
       "Name: special_eligibility_program, dtype: int64"
      ]
     },
     "execution_count": 97,
     "metadata": {},
     "output_type": "execute_result"
    }
   ],
   "source": [
    "data['special_eligibility_program'].value_counts()"
   ]
  },
  {
   "cell_type": "code",
   "execution_count": 98,
   "metadata": {},
   "outputs": [],
   "source": [
    "# Define lists of numeric and categorical features\n",
    "\n",
    "numeric_features = ['original_loan_term', 'original_combined_ltv',\n",
    "                    'number_of_borrowers', 'first_time_homebuyer',\n",
    "                    'number_of_units', 'prepayment_penalty_indicator',\n",
    "                    'interest_only_loan_indicator', 'servicing_activity_indicator',\n",
    "                    'special_eligibility_program',\n",
    "                    'relocation_mortgage_indicator', 'high_balance_loan_indicator',\n",
    "                    'high_ltv_refinance_option_indicator', 'co-borrower_status',\n",
    "                    'original_interest_rate', 'current_actual_UPB', \n",
    "                    'months_to_maturity', 'debt_to_income', \n",
    "                    'borrower_credit_score_origination']\n",
    "\n",
    "categorical_features = ['channel', 'loan_purpose', 'property_type', \n",
    "                        'occupancy_status', 'amortization_type', 'mortgage_insurance_type', \n",
    "                        'property_valuation_method',  \n",
    "                        'alternative_delinquency_resolution']"
   ]
  },
  {
   "cell_type": "code",
   "execution_count": 99,
   "metadata": {},
   "outputs": [],
   "source": [
    "# Build column transformer for scaling numerical features and one-hot-encoding  \n",
    "# categorical features\n",
    "\n",
    "# Instantiate MinMaxScaler and OneHotEncoder\n",
    "numeric_transformer = MinMaxScaler()\n",
    "categorical_transformer = OneHotEncoder(sparse=False, handle_unknown='ignore')\n",
    "\n",
    "# Define preprocessor for categorical data\n",
    "feature_preprocessor = ColumnTransformer(transformers=\n",
    "                [('cat', categorical_transformer, categorical_features)])\n",
    "\n",
    "# Define preprocessor for numeric and categorical data\n",
    "# feature_preprocessor = ColumnTransformer(transformers=\n",
    "#                 [('num', numeric_transformer, numeric_features),\n",
    "#                 ('cat', categorical_transformer, categorical_features)])\n",
    "\n",
    "# Define preprocessor for numeric data only (MinMaxScaler)\n",
    "# numeric_preprocessor = ColumnTransformer(transformers=\n",
    "#                         [('num', numeric_transformer, numeric_features)])\n",
    "\n",
    "# Define preprocessor for categorical data only (ohe)\n",
    "# categorical_preprocessor = ColumnTransformer(transformers=\n",
    "#                      [('cat', categorical_transformer, categorical_features)])"
   ]
  },
  {
   "cell_type": "code",
   "execution_count": 100,
   "metadata": {},
   "outputs": [
    {
     "name": "stdout",
     "output_type": "stream",
     "text": [
      "(16083565, 26)\n"
     ]
    },
    {
     "data": {
      "text/html": [
       "<div>\n",
       "<style scoped>\n",
       "    .dataframe tbody tr th:only-of-type {\n",
       "        vertical-align: middle;\n",
       "    }\n",
       "\n",
       "    .dataframe tbody tr th {\n",
       "        vertical-align: top;\n",
       "    }\n",
       "\n",
       "    .dataframe thead th {\n",
       "        text-align: right;\n",
       "    }\n",
       "</style>\n",
       "<table border=\"1\" class=\"dataframe\">\n",
       "  <thead>\n",
       "    <tr style=\"text-align: right;\">\n",
       "      <th></th>\n",
       "      <th>0</th>\n",
       "      <th>1</th>\n",
       "      <th>2</th>\n",
       "      <th>3</th>\n",
       "      <th>4</th>\n",
       "      <th>5</th>\n",
       "      <th>6</th>\n",
       "      <th>7</th>\n",
       "      <th>8</th>\n",
       "      <th>9</th>\n",
       "      <th>...</th>\n",
       "      <th>16</th>\n",
       "      <th>17</th>\n",
       "      <th>18</th>\n",
       "      <th>19</th>\n",
       "      <th>20</th>\n",
       "      <th>21</th>\n",
       "      <th>22</th>\n",
       "      <th>23</th>\n",
       "      <th>24</th>\n",
       "      <th>25</th>\n",
       "    </tr>\n",
       "  </thead>\n",
       "  <tbody>\n",
       "    <tr>\n",
       "      <th>0</th>\n",
       "      <td>1.0</td>\n",
       "      <td>0.0</td>\n",
       "      <td>0.0</td>\n",
       "      <td>0.0</td>\n",
       "      <td>0.0</td>\n",
       "      <td>1.0</td>\n",
       "      <td>0.0</td>\n",
       "      <td>0.0</td>\n",
       "      <td>0.0</td>\n",
       "      <td>1.0</td>\n",
       "      <td>...</td>\n",
       "      <td>0.0</td>\n",
       "      <td>0.0</td>\n",
       "      <td>0.0</td>\n",
       "      <td>1.0</td>\n",
       "      <td>0.0</td>\n",
       "      <td>0.0</td>\n",
       "      <td>0.0</td>\n",
       "      <td>0.0</td>\n",
       "      <td>1.0</td>\n",
       "      <td>0.0</td>\n",
       "    </tr>\n",
       "    <tr>\n",
       "      <th>1</th>\n",
       "      <td>0.0</td>\n",
       "      <td>0.0</td>\n",
       "      <td>1.0</td>\n",
       "      <td>1.0</td>\n",
       "      <td>0.0</td>\n",
       "      <td>0.0</td>\n",
       "      <td>0.0</td>\n",
       "      <td>0.0</td>\n",
       "      <td>0.0</td>\n",
       "      <td>0.0</td>\n",
       "      <td>...</td>\n",
       "      <td>0.0</td>\n",
       "      <td>0.0</td>\n",
       "      <td>1.0</td>\n",
       "      <td>0.0</td>\n",
       "      <td>0.0</td>\n",
       "      <td>1.0</td>\n",
       "      <td>0.0</td>\n",
       "      <td>0.0</td>\n",
       "      <td>1.0</td>\n",
       "      <td>0.0</td>\n",
       "    </tr>\n",
       "    <tr>\n",
       "      <th>2</th>\n",
       "      <td>0.0</td>\n",
       "      <td>0.0</td>\n",
       "      <td>1.0</td>\n",
       "      <td>0.0</td>\n",
       "      <td>0.0</td>\n",
       "      <td>1.0</td>\n",
       "      <td>0.0</td>\n",
       "      <td>0.0</td>\n",
       "      <td>0.0</td>\n",
       "      <td>0.0</td>\n",
       "      <td>...</td>\n",
       "      <td>0.0</td>\n",
       "      <td>0.0</td>\n",
       "      <td>1.0</td>\n",
       "      <td>0.0</td>\n",
       "      <td>0.0</td>\n",
       "      <td>1.0</td>\n",
       "      <td>0.0</td>\n",
       "      <td>0.0</td>\n",
       "      <td>1.0</td>\n",
       "      <td>0.0</td>\n",
       "    </tr>\n",
       "    <tr>\n",
       "      <th>3</th>\n",
       "      <td>0.0</td>\n",
       "      <td>1.0</td>\n",
       "      <td>0.0</td>\n",
       "      <td>0.0</td>\n",
       "      <td>0.0</td>\n",
       "      <td>1.0</td>\n",
       "      <td>0.0</td>\n",
       "      <td>0.0</td>\n",
       "      <td>0.0</td>\n",
       "      <td>0.0</td>\n",
       "      <td>...</td>\n",
       "      <td>0.0</td>\n",
       "      <td>0.0</td>\n",
       "      <td>1.0</td>\n",
       "      <td>0.0</td>\n",
       "      <td>0.0</td>\n",
       "      <td>1.0</td>\n",
       "      <td>0.0</td>\n",
       "      <td>0.0</td>\n",
       "      <td>1.0</td>\n",
       "      <td>0.0</td>\n",
       "    </tr>\n",
       "    <tr>\n",
       "      <th>4</th>\n",
       "      <td>0.0</td>\n",
       "      <td>0.0</td>\n",
       "      <td>1.0</td>\n",
       "      <td>0.0</td>\n",
       "      <td>0.0</td>\n",
       "      <td>1.0</td>\n",
       "      <td>0.0</td>\n",
       "      <td>0.0</td>\n",
       "      <td>0.0</td>\n",
       "      <td>0.0</td>\n",
       "      <td>...</td>\n",
       "      <td>0.0</td>\n",
       "      <td>0.0</td>\n",
       "      <td>1.0</td>\n",
       "      <td>0.0</td>\n",
       "      <td>0.0</td>\n",
       "      <td>1.0</td>\n",
       "      <td>0.0</td>\n",
       "      <td>0.0</td>\n",
       "      <td>1.0</td>\n",
       "      <td>0.0</td>\n",
       "    </tr>\n",
       "    <tr>\n",
       "      <th>...</th>\n",
       "      <td>...</td>\n",
       "      <td>...</td>\n",
       "      <td>...</td>\n",
       "      <td>...</td>\n",
       "      <td>...</td>\n",
       "      <td>...</td>\n",
       "      <td>...</td>\n",
       "      <td>...</td>\n",
       "      <td>...</td>\n",
       "      <td>...</td>\n",
       "      <td>...</td>\n",
       "      <td>...</td>\n",
       "      <td>...</td>\n",
       "      <td>...</td>\n",
       "      <td>...</td>\n",
       "      <td>...</td>\n",
       "      <td>...</td>\n",
       "      <td>...</td>\n",
       "      <td>...</td>\n",
       "      <td>...</td>\n",
       "      <td>...</td>\n",
       "    </tr>\n",
       "    <tr>\n",
       "      <th>16083560</th>\n",
       "      <td>0.0</td>\n",
       "      <td>0.0</td>\n",
       "      <td>1.0</td>\n",
       "      <td>0.0</td>\n",
       "      <td>0.0</td>\n",
       "      <td>1.0</td>\n",
       "      <td>1.0</td>\n",
       "      <td>0.0</td>\n",
       "      <td>0.0</td>\n",
       "      <td>0.0</td>\n",
       "      <td>...</td>\n",
       "      <td>0.0</td>\n",
       "      <td>0.0</td>\n",
       "      <td>1.0</td>\n",
       "      <td>1.0</td>\n",
       "      <td>0.0</td>\n",
       "      <td>0.0</td>\n",
       "      <td>0.0</td>\n",
       "      <td>0.0</td>\n",
       "      <td>1.0</td>\n",
       "      <td>0.0</td>\n",
       "    </tr>\n",
       "    <tr>\n",
       "      <th>16083561</th>\n",
       "      <td>0.0</td>\n",
       "      <td>0.0</td>\n",
       "      <td>1.0</td>\n",
       "      <td>0.0</td>\n",
       "      <td>1.0</td>\n",
       "      <td>0.0</td>\n",
       "      <td>0.0</td>\n",
       "      <td>0.0</td>\n",
       "      <td>0.0</td>\n",
       "      <td>0.0</td>\n",
       "      <td>...</td>\n",
       "      <td>0.0</td>\n",
       "      <td>0.0</td>\n",
       "      <td>1.0</td>\n",
       "      <td>0.0</td>\n",
       "      <td>0.0</td>\n",
       "      <td>1.0</td>\n",
       "      <td>0.0</td>\n",
       "      <td>0.0</td>\n",
       "      <td>1.0</td>\n",
       "      <td>0.0</td>\n",
       "    </tr>\n",
       "    <tr>\n",
       "      <th>16083562</th>\n",
       "      <td>0.0</td>\n",
       "      <td>0.0</td>\n",
       "      <td>1.0</td>\n",
       "      <td>0.0</td>\n",
       "      <td>1.0</td>\n",
       "      <td>0.0</td>\n",
       "      <td>0.0</td>\n",
       "      <td>0.0</td>\n",
       "      <td>0.0</td>\n",
       "      <td>1.0</td>\n",
       "      <td>...</td>\n",
       "      <td>0.0</td>\n",
       "      <td>0.0</td>\n",
       "      <td>1.0</td>\n",
       "      <td>1.0</td>\n",
       "      <td>0.0</td>\n",
       "      <td>0.0</td>\n",
       "      <td>0.0</td>\n",
       "      <td>0.0</td>\n",
       "      <td>1.0</td>\n",
       "      <td>0.0</td>\n",
       "    </tr>\n",
       "    <tr>\n",
       "      <th>16083563</th>\n",
       "      <td>1.0</td>\n",
       "      <td>0.0</td>\n",
       "      <td>0.0</td>\n",
       "      <td>0.0</td>\n",
       "      <td>0.0</td>\n",
       "      <td>1.0</td>\n",
       "      <td>0.0</td>\n",
       "      <td>0.0</td>\n",
       "      <td>0.0</td>\n",
       "      <td>0.0</td>\n",
       "      <td>...</td>\n",
       "      <td>0.0</td>\n",
       "      <td>0.0</td>\n",
       "      <td>1.0</td>\n",
       "      <td>0.0</td>\n",
       "      <td>0.0</td>\n",
       "      <td>1.0</td>\n",
       "      <td>0.0</td>\n",
       "      <td>0.0</td>\n",
       "      <td>1.0</td>\n",
       "      <td>0.0</td>\n",
       "    </tr>\n",
       "    <tr>\n",
       "      <th>16083564</th>\n",
       "      <td>0.0</td>\n",
       "      <td>0.0</td>\n",
       "      <td>1.0</td>\n",
       "      <td>0.0</td>\n",
       "      <td>0.0</td>\n",
       "      <td>1.0</td>\n",
       "      <td>0.0</td>\n",
       "      <td>0.0</td>\n",
       "      <td>0.0</td>\n",
       "      <td>0.0</td>\n",
       "      <td>...</td>\n",
       "      <td>0.0</td>\n",
       "      <td>0.0</td>\n",
       "      <td>1.0</td>\n",
       "      <td>0.0</td>\n",
       "      <td>0.0</td>\n",
       "      <td>1.0</td>\n",
       "      <td>0.0</td>\n",
       "      <td>0.0</td>\n",
       "      <td>1.0</td>\n",
       "      <td>0.0</td>\n",
       "    </tr>\n",
       "  </tbody>\n",
       "</table>\n",
       "<p>16083565 rows × 26 columns</p>\n",
       "</div>"
      ],
      "text/plain": [
       "           0    1    2    3    4    5    6    7    8    9   ...   16   17  \\\n",
       "0         1.0  0.0  0.0  0.0  0.0  1.0  0.0  0.0  0.0  1.0  ...  0.0  0.0   \n",
       "1         0.0  0.0  1.0  1.0  0.0  0.0  0.0  0.0  0.0  0.0  ...  0.0  0.0   \n",
       "2         0.0  0.0  1.0  0.0  0.0  1.0  0.0  0.0  0.0  0.0  ...  0.0  0.0   \n",
       "3         0.0  1.0  0.0  0.0  0.0  1.0  0.0  0.0  0.0  0.0  ...  0.0  0.0   \n",
       "4         0.0  0.0  1.0  0.0  0.0  1.0  0.0  0.0  0.0  0.0  ...  0.0  0.0   \n",
       "...       ...  ...  ...  ...  ...  ...  ...  ...  ...  ...  ...  ...  ...   \n",
       "16083560  0.0  0.0  1.0  0.0  0.0  1.0  1.0  0.0  0.0  0.0  ...  0.0  0.0   \n",
       "16083561  0.0  0.0  1.0  0.0  1.0  0.0  0.0  0.0  0.0  0.0  ...  0.0  0.0   \n",
       "16083562  0.0  0.0  1.0  0.0  1.0  0.0  0.0  0.0  0.0  1.0  ...  0.0  0.0   \n",
       "16083563  1.0  0.0  0.0  0.0  0.0  1.0  0.0  0.0  0.0  0.0  ...  0.0  0.0   \n",
       "16083564  0.0  0.0  1.0  0.0  0.0  1.0  0.0  0.0  0.0  0.0  ...  0.0  0.0   \n",
       "\n",
       "           18   19   20   21   22   23   24   25  \n",
       "0         0.0  1.0  0.0  0.0  0.0  0.0  1.0  0.0  \n",
       "1         1.0  0.0  0.0  1.0  0.0  0.0  1.0  0.0  \n",
       "2         1.0  0.0  0.0  1.0  0.0  0.0  1.0  0.0  \n",
       "3         1.0  0.0  0.0  1.0  0.0  0.0  1.0  0.0  \n",
       "4         1.0  0.0  0.0  1.0  0.0  0.0  1.0  0.0  \n",
       "...       ...  ...  ...  ...  ...  ...  ...  ...  \n",
       "16083560  1.0  1.0  0.0  0.0  0.0  0.0  1.0  0.0  \n",
       "16083561  1.0  0.0  0.0  1.0  0.0  0.0  1.0  0.0  \n",
       "16083562  1.0  1.0  0.0  0.0  0.0  0.0  1.0  0.0  \n",
       "16083563  1.0  0.0  0.0  1.0  0.0  0.0  1.0  0.0  \n",
       "16083564  1.0  0.0  0.0  1.0  0.0  0.0  1.0  0.0  \n",
       "\n",
       "[16083565 rows x 26 columns]"
      ]
     },
     "execution_count": 100,
     "metadata": {},
     "output_type": "execute_result"
    }
   ],
   "source": [
    "# Confirm that ColumnTransformer feature_preprocessor worked\n",
    "# Apply feature_preprocessor to X_train set and print shape\n",
    "X_train_transformed = feature_preprocessor.fit_transform(X_train)\n",
    "print(X_train_transformed.shape)\n",
    "\n",
    "# Create df and examine\n",
    "X_train_transformed = pd.DataFrame(X_train_transformed)\n",
    "X_train_transformed"
   ]
  },
  {
   "cell_type": "markdown",
   "metadata": {},
   "source": [
    "### Define Function Evaluation Metrics"
   ]
  },
  {
   "cell_type": "markdown",
   "metadata": {},
   "source": [
    "Evaluation metrics: The lender seeks to correctly i) identify problem loans (true negatives) in order to\n",
    "minimize  \n",
    "losses from un-repaid loans and ii) identify good, performing loans (true positives) in\n",
    "order to maximize profits.\n",
    "\n",
    "Given the need to minimize false positives and false negatives, the f1-score should be a primary evaluation  \n",
    "metric. F1-score is interpreted as a harmonic mean of the precision and recall.\n",
    "\n",
    "Model evaluation should also focus on precision, since there is a need to minimize losses from false positives."
   ]
  },
  {
   "cell_type": "code",
   "execution_count": 101,
   "metadata": {},
   "outputs": [],
   "source": [
    "# Define function for model evaluation metrics\n",
    "def model_evaluation(model_pipe, X_train, y_train, X_test, y_test, model_name):\n",
    "\n",
    "    y_pred_train = model_pipe.predict(X_train)\n",
    "    y_pred_test = model_pipe.predict(X_test)\n",
    "\n",
    "# Define evaluation metric\n",
    "    fscore = f1_score(y_test, y_pred_test)*100\n",
    "    prec_score = precision_score(y_test, y_pred_test)*100\n",
    "    \n",
    "# Classification report \n",
    "    print('----------------------------------------------------------')\n",
    "    print(model_name)\n",
    "    print('Classification Report: Train')\n",
    "    print(classification_report(y_train, y_pred_train))\n",
    "    print('----------------------------------------------------------')\n",
    "    print('Classification Report: Test')\n",
    "    print(classification_report(y_test, y_pred_test))\n",
    "    print(f'F1 Score for Test Set: {round(fscore, 2)}%')\n",
    "    print(f'Precision Score for Test Set: {round(prec_score,2)}%')\n",
    "        \n",
    "# Plot confusion matrix\n",
    "    plot_confusion_matrix(model_pipe, \n",
    "                      X_test, \n",
    "                      y_test, \n",
    "                      cmap = 'Blues',\n",
    "                     display_labels= ['Problem Loan', 'Performing Loan'],\n",
    "                     #values_format= '%0.2f', \n",
    "                     normalize='true'\n",
    "                     )\n",
    "    plt.grid(False)\n",
    "    plt.title(f'Normalized Confusion Matrix: {model_name}', y=1.05, fontsize = 13)\n",
    "    plt.show()\n",
    "    \n",
    "# Print confusion matrix array\n",
    "    print('Confusion Matrix array:')\n",
    "    print(np.round(confusion_matrix(y_test, y_pred, normalize='true'), 2)*100)\n",
    "    \n",
    "# Plot precision-recall curve, which is useful measure of success of prediction  \n",
    "# when classes are imbalanced. High precision relates to low FP rate, high  \n",
    "# recall relates to low false negative rate.\n",
    "    y_score = model_pipe.predict_proba(X_test)[:, 1]\n",
    "    precision, recall, thresholds = precision_recall_curve(y_test, y_score)\n",
    "    fig, ax = plt.subplots()\n",
    "    ax.plot(recall, precision, marker='.', color='blue', label=model_name)\n",
    "    #add axis labels\n",
    "    ax.set_title(f'Precision-Recall Curve')\n",
    "    ax.set_ylabel('Precision - Positive label: 1')\n",
    "    ax.set_xlabel('Recall - Positive label: 1')\n",
    "    ax.legend()\n",
    "    #display plot of precision-recall curve\n",
    "    plt.show()\n",
    "    print (\"Area Under Precision-Recall Curve(AP): %0.2f\" \n",
    "           % average_precision_score(y_test, y_score))\n",
    "    print('----------------------------------------------------------') "
   ]
  },
  {
   "cell_type": "markdown",
   "metadata": {},
   "source": [
    "## Classification Modelling"
   ]
  },
  {
   "cell_type": "markdown",
   "metadata": {},
   "source": [
    "### Baseline model"
   ]
  },
  {
   "cell_type": "code",
   "execution_count": 102,
   "metadata": {},
   "outputs": [
    {
     "name": "stdout",
     "output_type": "stream",
     "text": [
      "Training Score: 0.99\n",
      "Testing Score: 0.99\n"
     ]
    }
   ],
   "source": [
    "# Define baseline Decision Stump Classifier (baseline model 1.0)\n",
    "# Set random state equal to 42. Set max_depth parameter to 2.\n",
    "\n",
    "stump_clf = DecisionTreeClassifier(random_state=42, max_depth=2)\n",
    "\n",
    "# Build DummyClassifier model with preprocessing pipeline\n",
    "stump_pipe = Pipeline(steps = [ ('preprocess', feature_preprocessor),\n",
    "                        ('classifier', stump_clf)])\n",
    "\n",
    "# Fit the DummyClassifier pipeline model to training data\n",
    "stump_pipe.fit(X_train, y_train)\n",
    "\n",
    "# Predict y on test data\n",
    "y_pred = stump_pipe.predict(X_test)\n",
    "                             \n",
    "print(f'Training Score:', np.round(stump_pipe.score(X_train, y_train),2))\n",
    "print(f'Testing Score:', np.round(stump_pipe.score(X_test, y_test),2))"
   ]
  },
  {
   "cell_type": "markdown",
   "metadata": {},
   "source": [
    "- Mean accuracy score is 99% for training and test sets, indicative of overfitting.\n",
    "- Next model iterations should address class imbalance."
   ]
  },
  {
   "cell_type": "code",
   "execution_count": 103,
   "metadata": {},
   "outputs": [
    {
     "name": "stdout",
     "output_type": "stream",
     "text": [
      "----------------------------------------------------------\n",
      "Decision Stump Classifier\n",
      "Classification Report: Train\n",
      "              precision    recall  f1-score   support\n",
      "\n",
      "           0       0.99      1.00      1.00  15982785\n",
      "           1       0.00      0.00      0.00    100780\n",
      "\n",
      "    accuracy                           0.99  16083565\n",
      "   macro avg       0.50      0.50      0.50  16083565\n",
      "weighted avg       0.99      0.99      0.99  16083565\n",
      "\n",
      "----------------------------------------------------------\n",
      "Classification Report: Test\n",
      "              precision    recall  f1-score   support\n",
      "\n",
      "           0       0.99      1.00      1.00   6850234\n",
      "           1       0.00      0.00      0.00     42723\n",
      "\n",
      "    accuracy                           0.99   6892957\n",
      "   macro avg       0.50      0.50      0.50   6892957\n",
      "weighted avg       0.99      0.99      0.99   6892957\n",
      "\n",
      "F1 Score for Test Set: 0.0%\n",
      "Precision Score for Test Set: 0.0%\n"
     ]
    },
    {
     "data": {
      "image/png": "[encoded data removed]",
      "text/plain": [
       "<Figure size 432x288 with 2 Axes>"
      ]
     },
     "metadata": {
      "needs_background": "light"
     },
     "output_type": "display_data"
    },
    {
     "name": "stdout",
     "output_type": "stream",
     "text": [
      "Confusion Matrix array:\n",
      "[[100.   0.]\n",
      " [100.   0.]]\n"
     ]
    },
    {
     "data": {
      "image/png": "[encoded data removed]",
      "text/plain": [
       "<Figure size 432x288 with 1 Axes>"
      ]
     },
     "metadata": {
      "needs_background": "light"
     },
     "output_type": "display_data"
    },
    {
     "name": "stdout",
     "output_type": "stream",
     "text": [
      "Area Under Precision-Recall Curve(AP): 0.01\n",
      "----------------------------------------------------------\n"
     ]
    }
   ],
   "source": [
    "# Evaluate Decision Stump Classifier model\n",
    "model_evaluation(stump_pipe, X_train, y_train, X_test, y_test, \n",
    "                 'Decision Stump Classifier')"
   ]
  },
  {
   "cell_type": "markdown",
   "metadata": {},
   "source": [
    "- Baseline model is overfitting, which is explained by significant class imbalance  \n",
    "where majority of observations are for performing loans (class 0). f1-score and  \n",
    "precision scores for the test set are not good, indicating that the model does not  \n",
    "generalize well with new data. Subsequent model iterations needs to address the  \n",
    "class imbalance."
   ]
  },
  {
   "cell_type": "markdown",
   "metadata": {},
   "source": [
    "### Model iterations"
   ]
  },
  {
   "cell_type": "code",
   "execution_count": null,
   "metadata": {},
   "outputs": [],
   "source": [
    "# Build decision tree classifier with greater max_depth than decision stump classifier\n",
    "# Set random state equal to 42 for reproducibility and class weight to balanced\n",
    "dt_clf = DecisionTreeClassifier(random_state=42, class_weight = 'balanced')\n",
    "\n",
    "# Create pipeline for Decision Tree Classifier\n",
    "dt_pipe = Pipeline([('preprocessor', feature_preprocessor), \n",
    "                   ('dt', dt_clf)])\n",
    "\n",
    "# Define model hyperparameters for GridSearch in a dictionary                            \n",
    "dt_param_grid = {\n",
    "     'dt__criterion': ['entropy','gini'],\n",
    "     'dt__splitter': ['best', 'random'],\n",
    "     'dt__max_depth': [4,6,8], #lower values avoid overfitting\n",
    "     'dt__min_samples_leaf': [2, 4, 6, 8, 10] #higher values avoid overfitting\n",
    "      }\n",
    "\n",
    "# Instantiate GridSearchCV\n",
    "dt_gs = GridSearchCV(dt_pipe,  #pipeline\n",
    "                     dt_param_grid, #hyperparameters\n",
    "                     cv=10, #number of cross-validation folds\n",
    "                     n_jobs=-1,\n",
    "                     return_train_score=True\n",
    "                    )\n",
    "\n",
    "# Fit model to training data    \n",
    "dt_gs.fit(X_train,y_train)\n",
    "\n",
    "print(f'Training Score:', np.round(dt_gs.score(X_train, y_train),2))\n",
    "print(f'Testing Score:', np.round(dt_gs.score(X_test, y_test),2))"
   ]
  },
  {
   "cell_type": "code",
   "execution_count": null,
   "metadata": {},
   "outputs": [],
   "source": []
  },
  {
   "cell_type": "code",
   "execution_count": null,
   "metadata": {},
   "outputs": [],
   "source": []
  },
  {
   "cell_type": "markdown",
   "metadata": {},
   "source": [
    "## Questions"
   ]
  },
  {
   "cell_type": "markdown",
   "metadata": {},
   "source": [
    "- created target variable based on other variables--drop component variables?\n",
    "(modification_flag, borrower_assistance_status, borrower_assistance_plan, \n",
    "foreclosure_status, loan_repayment_history)\n",
    "- kernel crashing when doing grid search\n",
    "- undersampling\n",
    "\n",
    "\n",
    "- Github repo: link to local and git.ignore"
   ]
  },
  {
   "cell_type": "code",
   "execution_count": null,
   "metadata": {},
   "outputs": [],
   "source": []
  }
 ],
 "metadata": {
  "kernelspec": {
   "display_name": "Python [conda env:learn-env] *",
   "language": "python",
   "name": "conda-env-learn-env-py"
  },
  "language_info": {
   "codemirror_mode": {
    "name": "ipython",
    "version": 3
   },
   "file_extension": ".py",
   "mimetype": "text/x-python",
   "name": "python",
   "nbconvert_exporter": "python",
   "pygments_lexer": "ipython3",
   "version": "3.6.9"
  },
  "toc": {
   "base_numbering": 1,
   "nav_menu": {},
   "number_sections": true,
   "sideBar": true,
   "skip_h1_title": true,
   "title_cell": "Table of Contents",
   "title_sidebar": "Contents",
   "toc_cell": false,
   "toc_position": {
    "height": "calc(100% - 180px)",
    "left": "10px",
    "top": "150px",
    "width": "295px"
   },
   "toc_section_display": true,
   "toc_window_display": true
  }
 },
 "nbformat": 4,
 "nbformat_minor": 2
}
